{
 "cells": [
  {
   "cell_type": "code",
   "execution_count": 1,
   "id": "79486384-b225-40e3-a8af-6f1a1c93c449",
   "metadata": {},
   "outputs": [
    {
     "name": "stdout",
     "output_type": "stream",
     "text": [
      "0     4\n",
      "1     8\n",
      "2    15\n",
      "3    16\n",
      "4    23\n",
      "5    42\n",
      "dtype: int64\n"
     ]
    }
   ],
   "source": [
    "# Question 1\n",
    "\n",
    "import pandas as pd\n",
    "\n",
    "seri = pd.Series([4, 8, 15, 16, 23,42])\n",
    "\n",
    "print(seri)"
   ]
  },
  {
   "cell_type": "code",
   "execution_count": null,
   "id": "0604ee52-8d83-468b-b7be-73ef4051f0a2",
   "metadata": {},
   "outputs": [],
   "source": []
  },
  {
   "cell_type": "code",
   "execution_count": 12,
   "id": "ae635013-4f5d-43ce-860b-c3a66bd63f0c",
   "metadata": {},
   "outputs": [
    {
     "name": "stdout",
     "output_type": "stream",
     "text": [
      "0                     2\n",
      "1                     5\n",
      "2                     4\n",
      "3                Aarush\n",
      "4                  5.25\n",
      "5    {'name': 'Aarush'}\n",
      "6             [4, 5, 6]\n",
      "7             (7, 8, 9)\n",
      "8                 85.35\n",
      "9                    45\n",
      "dtype: object\n"
     ]
    }
   ],
   "source": [
    "# Question 2\n",
    "\n",
    "var = [2,5,4, \"Aarush\" , 5.25 , {\"name\":\"Aarush\"} , [4,5,6] , (7, 8,9) , 85.35, 45]\n",
    "\n",
    "seri1 = pd.Series(var)\n",
    "\n",
    "print(seri1)"
   ]
  },
  {
   "cell_type": "code",
   "execution_count": null,
   "id": "07aff712-a486-43ad-96d7-4a1d40caafd1",
   "metadata": {},
   "outputs": [],
   "source": []
  },
  {
   "cell_type": "code",
   "execution_count": 14,
   "id": "1085d251-0f3a-4969-a70b-12a3824cc03a",
   "metadata": {},
   "outputs": [
    {
     "name": "stdout",
     "output_type": "stream",
     "text": [
      "     Name  Age  Gender\n",
      "0   Alice   25  Female\n",
      "1     Bob   30    Male\n",
      "2  claire   27  Female\n"
     ]
    }
   ],
   "source": [
    "# Question 3\n",
    "\n",
    "data = {\"Name\" : [\"Alice\" , \"Bob\" , \"claire\"] , \n",
    "       \"Age\" : [25 , 30 , 27] , \n",
    "       \"Gender\" : [\"Female\" , \"Male\" , \"Female\"]}\n",
    "\n",
    "df = pd.DataFrame(data)\n",
    "\n",
    "print(df)"
   ]
  },
  {
   "cell_type": "code",
   "execution_count": null,
   "id": "9c1d7b13-1601-4f07-ab26-39af1c6f1e2b",
   "metadata": {},
   "outputs": [],
   "source": []
  },
  {
   "cell_type": "code",
   "execution_count": 19,
   "id": "cf0f6c05-a078-4cc1-971c-927a1ba14e59",
   "metadata": {},
   "outputs": [
    {
     "name": "stdout",
     "output_type": "stream",
     "text": [
      "   ID   Name\n",
      "0   3  Ayush\n",
      "1   4  Karan\n",
      "2   5   Shiv\n",
      "3   6    Raj\n",
      "0         4\n",
      "1         5\n",
      "2    Aarush\n",
      "3     45.36\n",
      "dtype: object\n"
     ]
    }
   ],
   "source": [
    "# Question 4\n",
    "\n",
    "\"A pandas dataframe is a 2 dimensional data structure like a 2 dimensional array or a table with rows and columns.\"\n",
    "\n",
    "# Example - creating a simple dataframe\n",
    "\n",
    "data1 = {\"ID\":[3,4,5,6] ,\n",
    "       \"Name\" : [\"Ayush\" , \"Karan\" , \"Shiv\" , \"Raj\"]}\n",
    "\n",
    "df1 = pd.DataFrame(data1)\n",
    "print(df1)\n",
    "\n",
    "\"\"\"Where Series is type of list in pandas that can take integer values, string values , double values and more . but in \n",
    "series we return an object in the form of list having an index from 0 to n where n is length of values in the series.\"\"\"\n",
    "\n",
    "# Example - \n",
    "\n",
    "data2 =  [4,5,\"Aarush\" , 45.36]\n",
    "\n",
    "\n",
    "series = pd.Series(data2)\n",
    "\n",
    "print(series)\n",
    "\n",
    "\n",
    "\"\"\"As we can see series can only contain a single list with an index whereas Dataframe can be made of more than one series \n",
    "or we can say that a Dataframe is a collection of series that can be used to annalyize a data.\"\"\""
   ]
  },
  {
   "cell_type": "code",
   "execution_count": 2,
   "id": "d4c65357-e01f-4474-b771-37492e6beb5f",
   "metadata": {},
   "outputs": [
    {
     "name": "stdout",
     "output_type": "stream",
     "text": [
      "Requirement already satisfied: pandas in /opt/conda/lib/python3.10/site-packages (1.5.2)\n",
      "Requirement already satisfied: python-dateutil>=2.8.1 in /opt/conda/lib/python3.10/site-packages (from pandas) (2.8.2)\n",
      "Requirement already satisfied: pytz>=2020.1 in /opt/conda/lib/python3.10/site-packages (from pandas) (2022.6)\n",
      "Requirement already satisfied: numpy>=1.21.0 in /opt/conda/lib/python3.10/site-packages (from pandas) (1.23.5)\n",
      "Requirement already satisfied: six>=1.5 in /opt/conda/lib/python3.10/site-packages (from python-dateutil>=2.8.1->pandas) (1.16.0)\n",
      "Note: you may need to restart the kernel to use updated packages.\n"
     ]
    }
   ],
   "source": [
    "pip install pandas"
   ]
  },
  {
   "cell_type": "code",
   "execution_count": null,
   "id": "c86e4a96-ad73-4950-bf5f-9b9044ee19c9",
   "metadata": {},
   "outputs": [],
   "source": [
    "# Question 5\n",
    "\n",
    "\"\"\"Some common functions we can use to manipulate data are -\n",
    "\n",
    "read_csv (or any other file format). - to read the file.\n",
    "\n",
    "head (df.head()) -we can read data from the top row to n numbers or the rows we want to read from the top with this func.\n",
    "\n",
    "tail (df.tail()) - same like head we can read data from the bottom to n number of rows.\n",
    "\n",
    "columns (df.columns)- to show the column name present in the dataframe.\n",
    "\n",
    "we can also give direct column name to show those specific column like df[\"column names\"] if we want one or more column \n",
    "to show than it will be written like df[[\"column names\"]]\"\"\"\n",
    "\n",
    "\n",
    "# Example - to show this  example i am using a structured data in a csv file.\n",
    "\n",
    "import pandas as pd \n",
    "\n",
    "df= pd.read_csv(\"services.csv\")\n",
    "\n",
    "c_d = df.columns\n",
    "\n",
    "print (c_d)"
   ]
  },
  {
   "cell_type": "code",
   "execution_count": null,
   "id": "3c03d86e-5e59-4175-b5fc-569156bcb4ac",
   "metadata": {},
   "outputs": [],
   "source": []
  },
  {
   "cell_type": "code",
   "execution_count": null,
   "id": "d606e09b-12d1-45bb-ad27-7158eaed3620",
   "metadata": {},
   "outputs": [],
   "source": [
    "# question 6\n",
    "\n",
    "Series is one dimensional array like structure with homogenous data . The value of the series are mutable means we can \n",
    "change any value in series but the size of the series is immutable so we can not change the size of the series. \n",
    "\n",
    "Dataframe is a two dimensional array with hetrogenous data . A Dataframe size is mutable and data is also mutable so \n",
    "we can change the data and size of Dataframe at any time.\n",
    "\n",
    "Panel is a three dimensional data structure with heterogenous data . It is very hard to represent the panel in a \n",
    "graphical representation . But a panel can be illustrated as a container of a Dataframe . In panel data and size \n",
    "are mutable."
   ]
  },
  {
   "cell_type": "code",
   "execution_count": null,
   "id": "3d8e8422-f1b4-4567-862b-d003b90442e2",
   "metadata": {},
   "outputs": [],
   "source": []
  },
  {
   "cell_type": "code",
   "execution_count": 2,
   "id": "45f527d5-77b9-4fd7-9326-b0c0e0a44959",
   "metadata": {},
   "outputs": [
    {
     "name": "stdout",
     "output_type": "stream",
     "text": [
      "   Id    Name  Fees\n",
      "0   1   Sunny  3500\n",
      "1   2    Amar  2750\n",
      "2   3  Aakash  3200\n",
      "3   4   Kabir  3500\n"
     ]
    }
   ],
   "source": [
    "# Question 7\n",
    "\n",
    "import pandas as pd \n",
    "\n",
    "# creating lists\n",
    "\n",
    "Id = [1,2,3,4]\n",
    "Name = [\"Sunny\" , \"Amar\" , \"Aakash\" , \"Kabir\"]\n",
    "Fees = [3500 , 2750 , 3200 , 3500]\n",
    "\n",
    "# Creating three series by passing lists\n",
    "Id_series = pd.Series(Id)\n",
    "Name_series = pd.Series(Name)\n",
    "Fee_series = pd.Series(Fees)\n",
    "\n",
    "# Creating a dictionary by passing series objects as values \n",
    "\n",
    "frame = {\"Id\" : Id_series , \n",
    "        \"Name\" : Name_series , \n",
    "        \"Fees\" : Fee_series}\n",
    "\n",
    "# Creating Dataframe by passing dictionary\n",
    "\n",
    "df = pd.DataFrame(frame)\n",
    "\n",
    "# printing elements of dataframe\n",
    "\n",
    "print(df)\n",
    "\n",
    "\n",
    "As we can see in the above program I have passed multiple series to create a dataframe. Which is created successfully ,\n",
    "like this we can create big dataframes also."
   ]
  },
  {
   "cell_type": "code",
   "execution_count": null,
   "id": "38432644-248d-4aa1-965c-1e20707e250e",
   "metadata": {},
   "outputs": [],
   "source": []
  }
 ],
 "metadata": {
  "kernelspec": {
   "display_name": "Python 3 (ipykernel)",
   "language": "python",
   "name": "python3"
  },
  "language_info": {
   "codemirror_mode": {
    "name": "ipython",
    "version": 3
   },
   "file_extension": ".py",
   "mimetype": "text/x-python",
   "name": "python",
   "nbconvert_exporter": "python",
   "pygments_lexer": "ipython3",
   "version": "3.10.8"
  }
 },
 "nbformat": 4,
 "nbformat_minor": 5
}
