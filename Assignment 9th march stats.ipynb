{
 "cells": [
  {
   "cell_type": "markdown",
   "id": "66fd461e-7f64-4197-a9dd-9e0c379b6111",
   "metadata": {},
   "source": [
    "# Question 1\n",
    "\n",
    "What are the Probability Mass Function (PMF) and Probability Density Function (PDF)? Explain with\n",
    "an example."
   ]
  },
  {
   "cell_type": "code",
   "execution_count": null,
   "id": "0789abf7-32c2-4dbe-94ee-b5b19537056a",
   "metadata": {},
   "outputs": [],
   "source": [
    "1. Probability Mass Function (PMF) -\n",
    "\n",
    "The probability mass function and probability density function are both mathematical functions used to describe the \n",
    "probabilty distribution of random variable.\n",
    "\n",
    "The PMF is used for discrete random variables and gives the probability of each possible outcome. It is defined as \n",
    "follows - PMF(x) = P(X = x)\n",
    "\n",
    "Where X is the random variable and x is a possible outcome. The PMF returns the probability of X being equal to x.\n",
    "\n",
    "Example - suppose we have a fair dice. The PMF for this dice would be :\n",
    "PMF(1) = 1/6\n",
    "PMF(2) = 1/6\n",
    "PMF(3) = 1/6\n",
    "PMF(4) = 1/6\n",
    "PMF(5) = 1/6\n",
    "PMF(6) = 1/6\n",
    "\n",
    "This means that the probability of rolling a 1 is 1/6 , the probability of rolling a 2 is 1/6 and so on . The PMF is a \n",
    "discrete function because the possible outcomes (1,2,3,4,5,6) are all distinct and countable.\n",
    "\n",
    "2. Probability Density Function (PDF) - \n",
    "\n",
    "The PDF on the other hand is used for continuous random variables and gives the density of probability at each possible \n",
    "value of the variable. it is defined as follows -\n",
    "PDF(x) = dF(x) / dx\n",
    "Where F(x) is the cumulative distribution function (CDF) of the variable .The PDF returns the density of probabaility \n",
    "at a particular value of x.\n"
   ]
  },
  {
   "cell_type": "markdown",
   "id": "3f010517-bc34-470a-9d1b-1e2af632d069",
   "metadata": {},
   "source": [
    "# Question 2\n",
    "\n",
    "What is Cumulative Density Function (CDF)? Explain with an example. Why CDF is used?"
   ]
  },
  {
   "cell_type": "code",
   "execution_count": null,
   "id": "f2b643b3-5933-4fd4-bb26-6870d054e1f5",
   "metadata": {},
   "outputs": [],
   "source": [
    "The Cumulative Density function (CDF) is a mathematical function used to describe the probability distribution of \n",
    "a random variable.The CDF is defined as the probability that the variable takes on a value less than or equal to a \n",
    "given value. In other words it gives the cumulative probability of the random variable upto a certain point.\n",
    "\n",
    "Mathematically, the CDF is expressed as: F(x) = P(X <= x)\n",
    "Where X is the random variable and x is a possible value.\n",
    "\n",
    "Example - Throwing a single dice {1,2,3,4,5,6}\n",
    "This is uniform distribution with p = 1/6\n",
    "\n",
    "If i have been ask to calculate the probability of dice showing number less than or equal to 4 then :\n",
    "    F(4) = P(X <= 4) = P(1) + P(2) + P(3) + P(4)\n",
    "                     = 1/6 +1/6 +1/6 +1/6 \n",
    "                     = 4/6 = 2/3\n",
    "                     "
   ]
  },
  {
   "cell_type": "markdown",
   "id": "7d7b4256-79df-488a-847c-42684686585b",
   "metadata": {},
   "source": [
    "# Question 3\n",
    "\n",
    "What are some examples of situations where the normal distribution might be used as a model?\n",
    "Explain how the parameters of the normal distribution relate to the shape of the distribution."
   ]
  },
  {
   "cell_type": "code",
   "execution_count": null,
   "id": "751d35d0-eddc-438a-9aef-fbc906e7582f",
   "metadata": {},
   "outputs": [],
   "source": [
    "Some examples of situations where the normal distribution might be used as a model are: -\n",
    "\n",
    "1. Height of a population: The normal distribution can be used to model the heights of a population. In this case, the\n",
    "mean and standard deviation of the distribution would reflect the average height and the degree of variation in height,\n",
    "respectively.\n",
    "\n",
    "2. IQ scores: IQ scores are often modeled using the normal distribution. In this case, the mean and standard deviation \n",
    "would reflect the average IQ score and the degree of variation in IQ scores, respectively.\n",
    "\n",
    "3. Measurement errors: The normal distribution can be used to model measurement errors in scientific experiments. The \n",
    "mean of the distribution would be zero (since the errors are assumed to be random and unbiased), and the standard deviation\n",
    "would reflect the degree of variability in the errors.\n",
    "\n",
    "The normal distribution is characterized by two parameters: the mean (μ) and the standard deviation (σ). The mean determines\n",
    "the location of the peak of the distribution, and the standard deviation determines the width of the distribution. \n",
    "Specifically, the greater the standard deviation, the wider the distribution will be.\n",
    "\n",
    "The normal distribution is a bell-shaped curve that is symmetrical around the mean. About 68% of the data falls within one\n",
    "standard deviation of the mean, about 95% falls within two standard deviations of the mean, and about 99.7% falls within \n",
    "three standard deviations of the mean. These properties make the normal distribution a convenient model for a wide variety\n",
    "of real-world phenomena."
   ]
  },
  {
   "cell_type": "markdown",
   "id": "ecccfd86-cd4a-4004-81fd-6cf0f5f42493",
   "metadata": {},
   "source": [
    "# Question 4\n",
    "\n",
    "Explain the importance of Normal Distribution. Give a few real-life examples of Normal\n",
    "Distribution."
   ]
  },
  {
   "cell_type": "code",
   "execution_count": null,
   "id": "614deba5-5eaa-45d5-8dac-ff464f147b6f",
   "metadata": {},
   "outputs": [],
   "source": [
    "Normal distribution, also known as Gaussian distribution, is a probability distribution that is widely used in statistics,\n",
    "data analysis, and modeling. It is an important concept in statistics because many natural phenomena can be modeled using \n",
    "normal distributions.\n",
    "\n",
    "The importance of normal distribution lies in its usefulness in approximating many real-world processes, allowing us to \n",
    "make predictions, estimate probabilities, and analyze data.\n",
    "\n",
    "Examples - \n",
    "1. Body temperature: The body temperature of a healthy human is normally distributed with an average of 98.6 degrees \n",
    "Fahrenheit and a standard deviation of about 0.7 degrees Farenheit.\n",
    "\n",
    "2. Reaction time: The reaction times of individuals can be modeled using normal distribution. Most people have an average\n",
    "reaction time, with fewer people having very fast or very slow reaction times.\n",
    "\n",
    "3. Annual rainfall: The amount of rainfall in a particular area over a year can be modeled using normal distribution, with\n",
    "most years having average rainfall and fewer years experiencing extreme droughts or floods.\n",
    "\n",
    "4. Hospital stays: The length of time a patient stays in a hospital can be modeled using normal distribution, with most \n",
    "patients staying for an average length of time and fewer patients having very short or very long stays.\n",
    "\n"
   ]
  },
  {
   "cell_type": "markdown",
   "id": "73690ed8-6f9e-44ac-97dc-e0e60c66b0b4",
   "metadata": {},
   "source": [
    "# Question 5\n",
    "\n",
    "What is Bernaulli Distribution? Give an Example. What is the difference between Bernoulli\n",
    "Distribution and Binomial Distribution?"
   ]
  },
  {
   "cell_type": "code",
   "execution_count": null,
   "id": "ab709e1a-167f-4377-bf9d-801c0bd7c26a",
   "metadata": {},
   "outputs": [],
   "source": [
    "Bernoulli distribution is a probability distribution that represents the outcome of a binary experiment, where the outcome\n",
    "can be either a success or a failure. It is named after Swiss mathematician Jacob Bernoulli, who developed the concept in \n",
    "the 17th century.\n",
    "The Bernoulli distribution is characterized by a single parameter p, which represents the probability of success in a \n",
    "single trial. The probability of failure is given by q = 1-p.\n",
    "\n",
    "Difference between Bernoulli distribution and Binomial distribution.\n",
    "\n",
    "1. A random variables that follows a Bernoulli distribution can only take on two possible values, but a random variable \n",
    "that follows a Binomial distribution can take on several values.\n",
    "\n",
    "2.  In order for a random variable to follow a Binomial distribution, the probability of “success” in each Bernoulli trial\n",
    "must be equal and independent."
   ]
  },
  {
   "cell_type": "markdown",
   "id": "e53da7ff-f267-42f1-9c27-b8b8df9fcdbe",
   "metadata": {},
   "source": [
    "# Question 6\n",
    "\n",
    "Consider a dataset with a mean of 50 and a standard deviation of 10. If we assume that the dataset\n",
    "is normally distributed, what is the probability that a randomly selected observation will be greater\n",
    "than 60? Use the appropriate formula and show your calculations."
   ]
  },
  {
   "cell_type": "code",
   "execution_count": 10,
   "id": "20d86e17-2395-4973-ba8d-654dd86c6fc8",
   "metadata": {},
   "outputs": [
    {
     "data": {
      "text/html": [
       "<img src=\"Z-scores.jpg\" width=\"600\" height=\"500\"/>"
      ],
      "text/plain": [
       "<IPython.core.display.Image object>"
      ]
     },
     "execution_count": 10,
     "metadata": {},
     "output_type": "execute_result"
    }
   ],
   "source": [
    "To find the probability that a randomly selected observation from a normal distribution with mean = 50 and \n",
    "standard deviation = 10 is greater than 60, we can use the standard normal distribution and the Z-score formula.\n",
    "\n",
    "The Z-score formula converts any value from a normal distribution to a standard normal distribution with mean 0 and\n",
    "standard deviation 1. The Z-score is calculated as:\n",
    "    Z = X - mean/std      # X is observed value\n",
    "    \n",
    "In this case, we want to find the probability that a randomly selected observation will be greater than 60. We can \n",
    "calculate the Z-score for 60 as:\n",
    "    \n",
    "    Z = 60 - 50 /10\n",
    "      = 1\n",
    "This means that 60 is one standard deviation above the mean of 50.\n",
    "\n",
    "Now, we can use a standard normal distribution Z table or a calculator to find the probability of a value being greater \n",
    "than 1 in a standard normal distribution.\n",
    "\n",
    "from IPython.display import Image\n",
    "\n",
    "Image(url=\"Z-scores.jpg\", width=600, height=500)\n",
    "\n",
    "In table Z = 1 we are seeing Area = 0.84134\n",
    "\n",
    "P(Z <= 1) = 0.84134\n",
    "P(Z > 1) = 1 - P(Z <= 1) = 1 - 0.84134 = 0.15866\n",
    "\n",
    "Hence for Normal distribution with Mean = 50 , Standard Deviation = 10 , Probability that Values is greater than 60 is 0.15866.\n"
   ]
  },
  {
   "cell_type": "code",
   "execution_count": 5,
   "id": "ab8f2eeb-9125-410f-ad12-f240e503689e",
   "metadata": {},
   "outputs": [
    {
     "name": "stdout",
     "output_type": "stream",
     "text": [
      "The probability of an observation being greater than 60 is: 0.15866\n"
     ]
    }
   ],
   "source": [
    "# Verifying - \n",
    "\n",
    "from scipy.stats import norm\n",
    "\n",
    "mean = 50\n",
    "std_dev = 10\n",
    "observed_value = 60\n",
    "\n",
    "# calculate the z-score\n",
    "z_score = (observed_value - mean) / std_dev\n",
    "\n",
    "# calculate the probability using the cumulative distribution function (cdf)\n",
    "probability = 1 - norm.cdf(z_score)\n",
    "\n",
    "print(\"The probability of an observation being greater than 60 is:\", round(probability,5))"
   ]
  },
  {
   "cell_type": "markdown",
   "id": "7ae03057-6dc2-4c55-8b78-7e0bd9ac5efa",
   "metadata": {},
   "source": [
    "# Question 7\n",
    "\n",
    "Explain uniform Distribution with an example."
   ]
  },
  {
   "cell_type": "code",
   "execution_count": null,
   "id": "fd9858cf-2f6c-4cf4-9326-61876092195f",
   "metadata": {},
   "outputs": [],
   "source": [
    "Uniform distribution is a probability distribution where every possible outcome has an equal chance of occurring. This means\n",
    "that the values of a random variable are spread evenly over a given interval or range.\n",
    "\n",
    "A classic example of a uniform distribution is the roll of a fair dice. The dice has six faces, each labeled with a number\n",
    "from 1 to 6, and all the faces are equally likely to come up when the dice is rolled. Therefore, the probability of each \n",
    "outcome is 1/6, and this distribution is called a discrete uniform distribution."
   ]
  },
  {
   "cell_type": "markdown",
   "id": "e91353ed-5bb7-4191-a8ab-ff4265267ed1",
   "metadata": {},
   "source": [
    "# Question 8\n",
    "\n",
    "What is the z score? State the importance of the z score."
   ]
  },
  {
   "cell_type": "code",
   "execution_count": null,
   "id": "38d840fd-f8b2-40db-9e73-06e2e3a6cf99",
   "metadata": {},
   "outputs": [],
   "source": [
    "A Z score (or standard score) is a measure of how many standard deviations an observation or data point is away from the\n",
    "mean of a population. The formula for calculating the Z score is:\n",
    "    \n",
    "    Z = x - μ / σ\n",
    " \n",
    "where x is the observed value, μ is the population mean, and σ is the population standard deviation.\n",
    "\n",
    "The importance of Z scores lies in their ability to standardize different data sets so they can be compared on a common scale.\n",
    "Z scores allow us to compare values from different populations or samples and see how much they differ from their respective \n",
    "means in standard deviation units. This makes it easier to interpret the significance of the differences between the data sets.\n",
    "\n",
    "In addition, Z scores can be used to calculate probabilities for a normal distribution using the standard normal distribution\n",
    "table. This table provides the probability of finding a value within a certain number of standard deviations from the mean.\n",
    "\n",
    "Z scores are commonly used in various fields such as statistics, finance, social sciences, and engineering for data analysis,\n",
    "hypothesis testing, and quality control. They are a powerful tool for analyzing and comparing data across different \n",
    "populations or samples."
   ]
  },
  {
   "cell_type": "markdown",
   "id": "8e5116a8-1c1d-472a-b551-307fc03c441c",
   "metadata": {},
   "source": [
    "# Question 9\n",
    "\n",
    "What is Central Limit Theorem? State the significance of the Central Limit Theorem."
   ]
  },
  {
   "cell_type": "code",
   "execution_count": null,
   "id": "c9d3dfef-bda1-4740-b33d-3ded7525360a",
   "metadata": {},
   "outputs": [],
   "source": [
    "The Central Limit Theorem (CLT) is a fundamental concept in statistics that describes the behavior of the means of a large\n",
    "number of independent and identically distributed random variables, regardless of the distribution of the underlying variables.\n",
    "\n",
    "The Central Limit Theorem states that if we take a large number of random samples from any distribution with a finite mean\n",
    "and variance, the sampling distribution of the means will be approximately normally distributed, regardless of the shape of\n",
    "the original distribution. This means that the means of the samples will tend to cluster around the true population mean, \n",
    "and the spread of the distribution of means will be reduced as the sample size increases.\n",
    "\n",
    "The significance of the Central Limit Theorem lies in its wide applicability in statistics and its practical implications.\n",
    "Some of the important applications of the Central Limit Theorem are:\n",
    "    \n",
    "1. Hypothesis testing - The Central Limit Theorem is used to test hypotheses about the means of populations, where the \n",
    "distribution of the population is unknown or non-normal.\n",
    "\n",
    "2. Confidence intervals - The Central Limit Theorem is used to construct confidence intervals for the population mean, \n",
    "which helps in estimating the true mean of a population based on a sample mean.\n",
    "\n",
    "3. Sample size determination - The Central Limit Theorem is used to determine the sample size required for a given level \n",
    "of precision in estimating the population mean.\n",
    "\n",
    "4. Quality control - The Central Limit Theorem is used to monitor the quality of production processes by measuring the \n",
    "means of samples and comparing them to the population mean."
   ]
  },
  {
   "cell_type": "markdown",
   "id": "2da32b3e-af88-4a6c-a752-23291de6ee19",
   "metadata": {},
   "source": [
    "# Question 10\n",
    "\n",
    "State the assumptions of the Central Limit Theorem."
   ]
  },
  {
   "cell_type": "code",
   "execution_count": null,
   "id": "e1da69bc-d18d-4bec-9b3d-f88d42f9f11a",
   "metadata": {},
   "outputs": [],
   "source": [
    "The Central Limit Theorem (CLT) has some assumptions that need to be satisfied for it to hold. The assumptions of the Central\n",
    "Limit Theorem are as follows:\n",
    "    \n",
    "1. Independence - The samples must be independent of each other. In other words, the value of one sample should not depend \n",
    "on the value of another sample.\n",
    "\n",
    "2. Sample size - The sample size should be large enough. Generally, a sample size of at least 30 is considered to be large \n",
    "enough for the Central Limit Theorem to hold.\n",
    "\n",
    "3. Random sampling - The samples should be selected randomly from the population.\n",
    "\n",
    "4. Finite population or replacement - The population should be finite or the sampling should be done with replacement. If \n",
    "the population is infinite and the sampling is done without replacement, then the Central Limit Theorem may not hold.\n",
    "\n",
    "5. Finite mean and variance - The population should have a finite mean and variance. If the mean or variance is infinite, \n",
    "then the Central Limit Theorem may not hold.\n",
    "\n",
    "If these assumptions are satisfied, then the Central Limit Theorem can be applied to the data to make inferences about\n",
    "the population mean or other parameters. It is important to note that violating any of these assumptions can lead to \n",
    "incorrect results, so it is essential to check the validity of the assumptions before applying the Central Limit Theorem."
   ]
  }
 ],
 "metadata": {
  "kernelspec": {
   "display_name": "Python 3 (ipykernel)",
   "language": "python",
   "name": "python3"
  },
  "language_info": {
   "codemirror_mode": {
    "name": "ipython",
    "version": 3
   },
   "file_extension": ".py",
   "mimetype": "text/x-python",
   "name": "python",
   "nbconvert_exporter": "python",
   "pygments_lexer": "ipython3",
   "version": "3.10.8"
  }
 },
 "nbformat": 4,
 "nbformat_minor": 5
}
