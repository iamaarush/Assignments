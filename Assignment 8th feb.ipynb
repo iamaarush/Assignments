{
 "cells": [
  {
   "cell_type": "code",
   "execution_count": 1,
   "id": "c1f4ce5d-c8d6-4d68-b6dd-802fa24cf429",
   "metadata": {},
   "outputs": [
    {
     "data": {
      "text/plain": [
       "\"Abstruction is used to hide background details or any unnecessory implementation from the user.\\n\\n'understand with the help of this example of your car' - so basically when we start our car we just get inside and start the \\ncar with key or with start button. we do not know how the engine is working and how the clutch,accelerator is working.\\na user is not required to know the enginering behind the engine or anything . this process is basically know as \\n'Data Abstraction' when all the unnecessary information is kept hidden from the users.\""
      ]
     },
     "execution_count": 1,
     "metadata": {},
     "output_type": "execute_result"
    }
   ],
   "source": [
    "# Question 1\n",
    "\n",
    "\"\"\"Abstruction is used to hide background details or any unnecessory implementation from the user.\n",
    "\n",
    "'understand with the help of this example of your car' - so basically when we start our car we just get inside and start the \n",
    "car with key or with start button. we do not know how the engine is working and how the clutch,accelerator is working.\n",
    "a user is not required to know the enginering behind the engine or anything . this process is basically know as \n",
    "'Data Abstraction' when all the unnecessary information is kept hidden from the users.\"\"\""
   ]
  },
  {
   "cell_type": "code",
   "execution_count": 1,
   "id": "c347860d-4291-4383-9fb6-50854c0990ab",
   "metadata": {},
   "outputs": [
    {
     "data": {
      "text/plain": [
       "'Abstraction shows only useful data by providing the most necessary details, where Encapsulation wraps code and data for \\nnecessary information.\\nAbstraction is focused mainly on what should be done ,while Encapsulation is focused on how it should be done.\\n\\nExample of abstraction -\\nsuppose we are creating a banking application so we have to collect our customers information.which can be name,address,\\ncontact number, gender , favorite movie,favourite sport, etc.but not all the information is required to create a banking\\napplication. so we have to select only necessary information from this data like name , address,contact number , gender ,etc\\nmakes sense for banking appliction so this selection of the customer information from the larger pool, the process of doing \\nthis is know as abstraction.\\n\\nexample of encapsulation -\\nlets take a example of mobile device with the help of mobile we can perform various functions like calling, taking pictures,\\nweb browsing, recording audio and much more. the features of mobile phone are functionalities of the phone however we dont\\nneed to understand the internal functioning of these functions before using it . like we dont need to know  how the camera\\nidentifies a human face in image . we just need to learn the software interface . this is encapsulation.'"
      ]
     },
     "execution_count": 1,
     "metadata": {},
     "output_type": "execute_result"
    }
   ],
   "source": [
    "# Question 2\n",
    "\n",
    "\"\"\"Abstraction shows only useful data by providing the most necessary details, where Encapsulation wraps code and data for \n",
    "necessary information.\n",
    "Abstraction is focused mainly on what should be done ,while Encapsulation is focused on how it should be done.\n",
    "\n",
    "Example of abstraction -\n",
    "suppose we are creating a banking application so we have to collect our customers information.which can be name,address,\n",
    "contact number, gender , favorite movie,favourite sport, etc.but not all the information is required to create a banking\n",
    "application. so we have to select only necessary information from this data like name , address,contact number , gender ,etc\n",
    "makes sense for banking appliction so this selection of the customer information from the larger pool, the process of doing \n",
    "this is know as abstraction.\n",
    "\n",
    "example of encapsulation -\n",
    "lets take a example of mobile device with the help of mobile we can perform various functions like calling, taking pictures,\n",
    "web browsing, recording audio and much more. the features of mobile phone are functionalities of the phone however we dont\n",
    "need to understand the internal functioning of these functions before using it . like we dont need to know  how the camera\n",
    "identifies a human face in image . we just need to learn the software interface . this is encapsulation.\"\"\""
   ]
  },
  {
   "cell_type": "code",
   "execution_count": 2,
   "id": "1c7cdbe6-16dd-4715-a27b-207fc6042dd5",
   "metadata": {},
   "outputs": [
    {
     "data": {
      "text/plain": [
       "'abc module provides the infrastructure for defining abstract base classes(abc) in python. a class is called an abstract \\nclass if it contains one or more abstract methods. an abstract method is a method that is declared but contains no \\nimplementation. abstract classes may not be instantiated and its abstract methods must be implemented by its subclasses.\\nits purpose is to define how other classes should look like , i.e. what methods and properties they are expected to have.'"
      ]
     },
     "execution_count": 2,
     "metadata": {},
     "output_type": "execute_result"
    }
   ],
   "source": [
    "# Question 3\n",
    "\n",
    "\"\"\"abc module provides the infrastructure for defining abstract base classes(abc) in python. a class is called an abstract \n",
    "class if it contains one or more abstract methods. an abstract method is a method that is declared but contains no \n",
    "implementation. abstract classes may not be instantiated and its abstract methods must be implemented by its subclasses.\n",
    "its purpose is to define how other classes should look like , i.e. what methods and properties they are expected to have.\"\"\" \n"
   ]
  },
  {
   "cell_type": "code",
   "execution_count": 5,
   "id": "6cc72c8a-b750-4873-989d-191478830914",
   "metadata": {},
   "outputs": [],
   "source": [
    "# Question 4\n",
    "\n",
    "\"\"\"Abstraction can be achieved by having or using abstract classes and methods in our programs.  \n",
    "lets make a program for better understanding (an example like program).\"\"\" \n",
    "\n",
    "import abc      # so this is basically our abstract class.\n",
    "class banking:\n",
    "    \n",
    "    @abc.abstractmethod\n",
    "    def accounts(self):\n",
    "        pass\n",
    "    \n",
    "    @abc.abstractmethod\n",
    "    def bank(self):\n",
    "        pass\n",
    "    \n",
    "    @abc.abstractmethod\n",
    "    def name(self):\n",
    "        pass\n",
    "    \n",
    "    \n",
    "class class1(banking):     # we are using abstract class in new class \n",
    "    \n",
    "    def accounts(self):\n",
    "        return \"This is my accounts method in class 1\"\n",
    "    \n",
    "    def name(self):\n",
    "        return \"this is my name method in class 1\"\n",
    "    \n",
    "    \n",
    "class class2(banking):\n",
    "    \n",
    "    def accounts(self):\n",
    "        return \"This is my account method in class2\"\n",
    "    \n",
    "    def name(self):\n",
    "        return \"This is my name method in class2\""
   ]
  },
  {
   "cell_type": "code",
   "execution_count": 3,
   "id": "3c61e350-4186-486f-8fac-d9094db795ac",
   "metadata": {},
   "outputs": [
    {
     "data": {
      "text/plain": [
       "'This is my accounts method in class 1'"
      ]
     },
     "execution_count": 3,
     "metadata": {},
     "output_type": "execute_result"
    }
   ],
   "source": [
    "obj_class1=class1()\n",
    "\n",
    "obj_class1.accounts()"
   ]
  },
  {
   "cell_type": "code",
   "execution_count": 4,
   "id": "97ed5c4d-16ea-439d-98ad-d4b238b64df7",
   "metadata": {},
   "outputs": [
    {
     "data": {
      "text/plain": [
       "'This is my account method in class2'"
      ]
     },
     "execution_count": 4,
     "metadata": {},
     "output_type": "execute_result"
    }
   ],
   "source": [
    "obj_class2=class2()\n",
    "\n",
    "obj_class2.accounts()"
   ]
  },
  {
   "cell_type": "code",
   "execution_count": null,
   "id": "328ea627-5111-4691-8d00-a642b1ed655c",
   "metadata": {},
   "outputs": [],
   "source": [
    "# Question 5\n",
    "\n",
    "\"\"\"we cannot create instance of abstract class . because there is an abstract method which has nothing so you can call\n",
    "that abstract method too. If we will create an instance of the abstract class and calls the method having no body(as the \n",
    "method is pure virtual) it will give an error..\"\"\""
   ]
  }
 ],
 "metadata": {
  "kernelspec": {
   "display_name": "Python 3 (ipykernel)",
   "language": "python",
   "name": "python3"
  },
  "language_info": {
   "codemirror_mode": {
    "name": "ipython",
    "version": 3
   },
   "file_extension": ".py",
   "mimetype": "text/x-python",
   "name": "python",
   "nbconvert_exporter": "python",
   "pygments_lexer": "ipython3",
   "version": "3.10.8"
  }
 },
 "nbformat": 4,
 "nbformat_minor": 5
}
