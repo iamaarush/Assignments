{
 "cells": [
  {
   "cell_type": "markdown",
   "id": "5ad9a170-d035-46f3-b163-3bc64b5ed524",
   "metadata": {},
   "source": [
    "# Question 1\n",
    "\n",
    "What are the three measures of central tendency?"
   ]
  },
  {
   "cell_type": "code",
   "execution_count": null,
   "id": "8513fac7-db51-40ba-b53b-3bf61abbb66e",
   "metadata": {},
   "outputs": [],
   "source": [
    "The three measures of central tendency are Mean , Median and Mode.\n",
    "\n",
    "Mean - The arithmetic mean of a dataset is the sum of all the values devided by the total number of values. It is the \n",
    "most commonly used measure of central tendency because all values are used in calculation.\n",
    "\n",
    "Median - The median of a dataset is the value thats exactly in the middle when it is ordered from low to high.\n",
    "\n",
    "Mode - The mode is the most frequently occuring value in the dataset. It is possible to have no mode , one mode or more \n",
    "than one mode."
   ]
  },
  {
   "cell_type": "markdown",
   "id": "729f3747-bec9-4182-b01e-618d8c53a469",
   "metadata": {},
   "source": [
    "# Question 2\n",
    "\n",
    "What is the difference between the mean, median, and mode? How are they used to measure the\n",
    "central tendency of a dataset?"
   ]
  },
  {
   "cell_type": "code",
   "execution_count": null,
   "id": "333348dd-933a-42cd-8b12-a9d40472817f",
   "metadata": {},
   "outputs": [],
   "source": [
    "Mean - Mean, here the arithmetic mean is the most used measure of central tendency. With both discrete and continuous\n",
    "data set, a mean can be obtained.To obtain the mean of a set of numbers, you have to sum up all the numbers and then\n",
    "divide it using the total numbers.\n",
    "\n",
    "Median - When you arrange a given set of numbers from smaller to biggest, the middle number is said to be the median.\n",
    "Arrange any given series in either ascending or descending order or the middle value then is termed as the median.\n",
    "\n",
    "Mode: The most repeated number in a given set of observations is the mode or it can also be said that the Number or\n",
    "Value which have the highest frequency in a given series of numbers. It is also known as the modal value."
   ]
  },
  {
   "cell_type": "markdown",
   "id": "7182948d-c434-4562-a094-7ddec19daaea",
   "metadata": {},
   "source": [
    "# Question 3\n",
    "\n",
    "Measure the three measures of central tendency for the given height data:\n",
    "[178,177,176,177,178.2,178,175,179,180,175,178.9,176.2,177,172.5,178,176.5]"
   ]
  },
  {
   "cell_type": "code",
   "execution_count": 4,
   "id": "a371505f-9a05-44a6-8fb9-f55d265f3bb6",
   "metadata": {},
   "outputs": [
    {
     "name": "stdout",
     "output_type": "stream",
     "text": [
      "Mean: 177.01875\n",
      "Median: 177.0\n",
      "Mode: ModeResult(mode=array([177.]), count=array([3]))\n"
     ]
    },
    {
     "name": "stderr",
     "output_type": "stream",
     "text": [
      "/tmp/ipykernel_98/2598701552.py:8: FutureWarning: Unlike other reduction functions (e.g. `skew`, `kurtosis`), the default behavior of `mode` typically preserves the axis it acts along. In SciPy 1.11.0, this behavior will change: the default value of `keepdims` will become False, the `axis` over which the statistic is taken will be eliminated, and the value None will no longer be accepted. Set `keepdims` to True or False to avoid this warning.\n",
      "  Mode = stats.mode(given_data)\n"
     ]
    }
   ],
   "source": [
    "given_data = [178,177,176,177,178.2,178,175,179,180,175,178.9,176.2,177,172.5,178,176.5]\n",
    "\n",
    "import numpy as np\n",
    "from scipy import stats\n",
    "\n",
    "Mean = np.mean(given_data)\n",
    "Median = np.median(given_data)\n",
    "Mode = stats.mode(given_data)\n",
    "\n",
    "print(\"Mean:\" , Mean)\n",
    "print(\"Median:\" , Median)\n",
    "print(\"Mode:\", Mode)"
   ]
  },
  {
   "cell_type": "markdown",
   "id": "7e8e0653-540e-4ce6-9ec6-e1de9f8f9ce2",
   "metadata": {},
   "source": [
    "# Question 4\n",
    "\n",
    "Find the standard deviation for the given data:\n",
    "[178,177,176,177,178.2,178,175,179,180,175,178.9,176.2,177,172.5,178,176.5]"
   ]
  },
  {
   "cell_type": "code",
   "execution_count": 6,
   "id": "97ab0a84-0c3c-4df5-bb54-10eb1fbd9c56",
   "metadata": {},
   "outputs": [
    {
     "name": "stdout",
     "output_type": "stream",
     "text": [
      "standard deviation of given data is : 1.7885814036548633\n"
     ]
    }
   ],
   "source": [
    "Given_data = [178,177,176,177,178.2,178,175,179,180,175,178.9,176.2,177,172.5,178,176.5]\n",
    "\n",
    "import numpy as np\n",
    "\n",
    "print(\"standard deviation of given data is :\" , np.std(Given_data))"
   ]
  },
  {
   "cell_type": "markdown",
   "id": "8154d1ad-3a8d-4b41-a252-6237bc0f784f",
   "metadata": {},
   "source": [
    "# Question 5\n",
    "\n",
    "How are measures of dispersion such as range, variance, and standard deviation used to describe\n",
    "the spread of a dataset? Provide an example."
   ]
  },
  {
   "cell_type": "code",
   "execution_count": null,
   "id": "0bc715f4-298b-436f-839e-1b8382cc7fc9",
   "metadata": {},
   "outputs": [],
   "source": [
    "Range - The range is the difference between the maximum and minimum values in a dataset. It gives an idea of how \n",
    "much the values in the dataset vary from one another. A wider range indicates a more spread-out dataset, while a\n",
    "smaller range indicates a more tightly clustered dataset. \n",
    "\n",
    "Example -  consider the following set of data: 10, 20, 30, 40, 50. The range is 50 - 10 = 40, which means the \n",
    "data spans a range of 40 units.\n",
    "\n",
    "data = [10,20,30,40,50]\n",
    "range = max(data)-min(data)\n",
    "      = 50 - 10\n",
    "      = 40\n",
    "        \n",
    "Variance - Variance is a measure of how much the values in a dataset deviate from the mean. It is calculated by taking\n",
    "the sum of the squared differences between each value and the mean, divided by the total number of values. A higher\n",
    "variance indicates that the data is more spread out, while a lower variance indicates that the data is more tightly \n",
    "clustered around the mean. \n",
    "\n",
    "Example - consider the following set of data: 10, 20, 30, 40, 50. The mean is 30. The variance is calculated as follows:\n",
    "variance = [(10 - 30)^2 + (20 - 30)^2 + (30 - 30)^2 + (40 - 30)^2 + (50 - 30)^2] / 5\n",
    "         = 200 / 5\n",
    "         = 40\n",
    "        \n",
    "Standard deviation - The standard deviation is the square root of the variance and is expressed in the same units as\n",
    "the data. It is a more intuitive measure of dispersion because it is in the same units as the data. A higher standard\n",
    "deviation indicates that the data is more spread out, while a lower standard deviation indicates that the data is more\n",
    "tightly clustered around the mean.\n",
    "\n",
    "Example - using the same set of data as above, the standard deviation is calculated as follows:\n",
    "standard deviation = sqrt(variance)\n",
    "                   = sqrt(40)\n",
    "                   = 6.32 (approx.)"
   ]
  },
  {
   "cell_type": "markdown",
   "id": "d91f5fdd-bd0c-429a-a5db-ddd95d6b0bac",
   "metadata": {},
   "source": [
    "# Question 6\n",
    "\n",
    "What is a Venn diagram?"
   ]
  },
  {
   "cell_type": "code",
   "execution_count": null,
   "id": "4d82df51-071d-4f8c-9ac8-baadb1c12962",
   "metadata": {},
   "outputs": [],
   "source": [
    "A Venn diagram is a graphical representation of sets or groups, which shows all possible logical relations between them.\n",
    "The diagram consists of overlapping circles or other shapes, with each circle representing a set, and the overlapping \n",
    "regions representing the intersection of the sets.The purpose of a Venn diagram is to visually demonstrate how \n",
    "different sets or groups relate to one another and how they overlap or differ."
   ]
  },
  {
   "cell_type": "markdown",
   "id": "ae3ef722-34a7-4313-94a8-b9d16128adf3",
   "metadata": {},
   "source": [
    "# Question 7\n",
    "\n",
    "For the two given sets A = (2,3,4,5,6,7) & B = (0,2,6,8,10). Find:\n",
    "\n",
    "(i) A intersection A = (2,3,4,5,6,7)B\n",
    "\n",
    "(ii) A ⋃ B"
   ]
  },
  {
   "cell_type": "code",
   "execution_count": 17,
   "id": "458a94b1-cd2a-4e76-9737-02d372ad8b1e",
   "metadata": {},
   "outputs": [
    {
     "name": "stdout",
     "output_type": "stream",
     "text": [
      "A intersection B : {2, 6}\n",
      "A union B : {0, 2, 3, 4, 5, 6, 7, 8, 10}\n"
     ]
    }
   ],
   "source": [
    "A = {2,3,4,5,6,7}\n",
    "B = {0,2,6,8,10}\n",
    "\n",
    "#(i)  A intersection B :\n",
    "print(\"A intersection B :\" , A.intersection(B))\n",
    "\n",
    "# (ii) A union B :\n",
    "print(\"A union B :\",A.union(B))"
   ]
  },
  {
   "cell_type": "markdown",
   "id": "31b23a80-ba79-4b3f-86c8-17341328398c",
   "metadata": {},
   "source": [
    "# Question 8\n",
    "\n",
    "What do you understand about skewness in data?"
   ]
  },
  {
   "cell_type": "code",
   "execution_count": null,
   "id": "7f13d4b0-96bd-4a71-a815-6a706cd1cb34",
   "metadata": {},
   "outputs": [],
   "source": [
    "Skewness of data is a measure of the asymmetry of a probability distribution or dataset. It describes the extent to \n",
    "which a dataset is skewed or \"lopsided\" relative to a normal distribution. A distribution is said to be skewed if one\n",
    "of its tails is longer or heavier than the other, causing it to deviate from a perfectly symmetrical shape.\n",
    "\n",
    "Positive skewness occurs when the tail on the right side of the distribution is longer or heavier than the tail on the\n",
    "left side. This indicates that the dataset has more high values and fewer low values.\n",
    "\n",
    "Negative skewness occurs when the tail on the left side of the distribution is longer or heavier than the tail on the\n",
    "right side. This indicates that the dataset has more low values and fewer high values.\n",
    "\n",
    "Skewness can be measured using the skewness statistic. A skewness value of zero indicates that the dataset is perfectly\n",
    "symmetrical, while a positive or negative value indicates that the dataset is skewed in the corresponding direction.\n",
    "Skewness can be an important consideration when interpreting data, as it can affect the accuracy of statistical tests\n",
    "and the validity of certain assumptions about the data."
   ]
  },
  {
   "cell_type": "markdown",
   "id": "0b2fa704-d3d5-41c5-8ae7-a0e905167791",
   "metadata": {},
   "source": [
    "# Question 9\n",
    "\n",
    "If a data is right skewed then what will be the position of median with respect to mean?"
   ]
  },
  {
   "cell_type": "code",
   "execution_count": null,
   "id": "1cf6268b-dd80-4f4a-a30c-a537e8dadc46",
   "metadata": {},
   "outputs": [],
   "source": [
    "If a data is right skewed, then the median will be less than the mean.In a right-skewed distribution, the tail of the\n",
    "distribution is longer on the right side, and this elongation pulls the mean to the right of the median.Therefore, the\n",
    "mean is greater than the median in a right-skewed distribution."
   ]
  },
  {
   "cell_type": "markdown",
   "id": "939ba5f0-7710-4648-b300-f851aa631c6b",
   "metadata": {},
   "source": [
    "# Question 10\n",
    "\n",
    "Explain the difference between covariance and correlation. How are these measures used in\n",
    "statistical analysis?"
   ]
  },
  {
   "cell_type": "code",
   "execution_count": null,
   "id": "26298113-b500-46c8-b38b-bd57fdf0ee6a",
   "metadata": {},
   "outputs": [],
   "source": [
    "Covariance - Covariance measures the extent to which two variables vary together. Specifically, it measures the degree\n",
    "to which two variables deviate from their means in similar ways. Mathematically, the covariance between two variables \n",
    "X and Y is calculated as follows:\n",
    "\n",
    "    cov(X,Y) = E[(X - E[X])(Y - E[Y])]\n",
    "\n",
    "The value of the covariance can range from negative infinity to positive infinity. A positive covariance indicates that\n",
    "the two variables tend to move in the same direction, while a negative covariance indicates that the two variables tend\n",
    "to move in opposite directions. A covariance of zero indicates that the two variables are uncorrelated.\n",
    "\n",
    "Correlation - Correlation, on the other hand, is a standardized measure of the linear relationship between two variables.\n",
    "Correlation takes on values between -1 and 1, where a correlation of 1 indicates a perfect positive relationship, a \n",
    "correlation of -1 indicates a perfect negative relationship, and a correlation of 0 indicates no linear relationship.\n",
    "The correlation coefficient between two variables X and Y is calculated as follows:\n",
    "\n",
    "    corr(X,Y) = cov(X,Y) / (SD[X]*SD[Y])\n",
    "    \n",
    "Correlation is a more commonly used measure than covariance, because it is standardized and easier to interpret. \n",
    "Correlation can also be used to compare the strength of the relationship between different pairs of variables on a \n",
    "common scale."
   ]
  },
  {
   "cell_type": "markdown",
   "id": "b42ffb3d-d7fc-4f58-a050-d5c125f58899",
   "metadata": {},
   "source": [
    "# Question 11\n",
    "\n",
    "What is the formula for calculating the sample mean? Provide an example calculation for a\n",
    "dataset."
   ]
  },
  {
   "cell_type": "code",
   "execution_count": null,
   "id": "06ac0ca0-4178-4dd2-ac05-1af44b6069af",
   "metadata": {},
   "outputs": [],
   "source": [
    "The formula for calculating the sample mean is:\n",
    "    \n",
    "    x̄ = (x₁ + x₂ + ... + xn) / n\n",
    "    \n",
    "where x₁, x₂, ..., xn are the values in the dataset, and n is the number of values in the sample.\n",
    "\n",
    "Example - lets say we have a part of any large dataset :\n",
    "     data = [2,3,5,8,9,3]\n",
    "    \n",
    "    x̄ = (2+3+5+8+9+3)/6\n",
    "    x̄ = 30/6\n",
    "    x̄ = 5"
   ]
  },
  {
   "cell_type": "markdown",
   "id": "d6414d9e-0e53-4ec6-af4f-c65123817094",
   "metadata": {},
   "source": [
    "# Question 12\n",
    "\n",
    "For a normal distribution data what is the relationship between its measure of central tendency?"
   ]
  },
  {
   "cell_type": "code",
   "execution_count": null,
   "id": "dff86785-bff5-462a-858e-122faaca9a4f",
   "metadata": {},
   "outputs": [],
   "source": [
    "For a normal distribution, the three measures of central tendency (mean, median, and mode) are all equal. This is\n",
    "because a normal distribution is symmetric around the mean, so the median (which is the middle value when the data \n",
    "is arranged in order) is also the mean. Additionally, the mode (which is the most frequent value in the distribution)\n",
    "is also equal to the mean and median in a normal distribution.\n",
    "\n",
    "Therefore, in a normal distribution, the mean, median, and mode are all the same value and represent the center of the\n",
    "distribution. This makes the mean a reliable measure of central tendency for normal data."
   ]
  },
  {
   "cell_type": "markdown",
   "id": "2c9dea24-8855-42c0-9895-4c57f9c9f8d5",
   "metadata": {},
   "source": [
    "# Question 13\n",
    "\n",
    "How is covariance different from correlation?"
   ]
  },
  {
   "cell_type": "code",
   "execution_count": null,
   "id": "402d7830-9a12-4885-b982-cc6deb163e41",
   "metadata": {},
   "outputs": [],
   "source": [
    "The main difference between covariance and correlation is that covariance is an unstandardized measure that reflects \n",
    "the direction and magnitude of the relationship between two variables, while correlation is a standardized measure that\n",
    "reflects only the strength and direction of the linear relationship between two variables."
   ]
  },
  {
   "cell_type": "markdown",
   "id": "7fb3a75f-ccb1-4e6c-86da-78e2dcbada63",
   "metadata": {},
   "source": [
    "# Question 14\n",
    "\n",
    "How do outliers affect measures of central tendency and dispersion? Provide an example."
   ]
  },
  {
   "cell_type": "code",
   "execution_count": null,
   "id": "2e126a84-216e-4302-b912-18d17032d390",
   "metadata": {},
   "outputs": [],
   "source": [
    "Outliers can have a significant impact on measures of central tendency and dispersion, particularly the mean and standard\n",
    "deviation.In terms of central tendency, outliers can pull the mean away from the center of the data, making it a less \n",
    "representative measure of the typical value in the dataset. The effect of outliers on the median, however, is less \n",
    "pronounced, as the median is less affected by extreme values.In terms of dispersion, outliers can also have a \n",
    "significant impact on the standard deviation, which is a measure of the spread of the data around the mean. Because \n",
    "the standard deviation is influenced by the distance between each value and the mean, outliers that are far from the \n",
    "center of the data can cause the standard deviation to be larger than it would be without the outlier.\n",
    "\n",
    "Consider below example using heights dataset from Question 3 :"
   ]
  },
  {
   "cell_type": "code",
   "execution_count": 21,
   "id": "a821e99f-bcea-4e43-865b-91eec715b672",
   "metadata": {},
   "outputs": [
    {
     "name": "stdout",
     "output_type": "stream",
     "text": [
      "Mean: 177.01875\n",
      "Median: 177.0\n",
      "Mode: ModeResult(mode=array([177.]), count=array([3]))\n",
      "Std: 1.7885814036548633\n"
     ]
    },
    {
     "name": "stderr",
     "output_type": "stream",
     "text": [
      "/tmp/ipykernel_98/561158702.py:8: FutureWarning: Unlike other reduction functions (e.g. `skew`, `kurtosis`), the default behavior of `mode` typically preserves the axis it acts along. In SciPy 1.11.0, this behavior will change: the default value of `keepdims` will become False, the `axis` over which the statistic is taken will be eliminated, and the value None will no longer be accepted. Set `keepdims` to True or False to avoid this warning.\n",
      "  Mode = stats.mode(given_data)\n"
     ]
    }
   ],
   "source": [
    "given_data = [178,177,176,177,178.2,178,175,179,180,175,178.9,176.2,177,172.5,178,176.5]\n",
    "\n",
    "import numpy as np\n",
    "from scipy import stats\n",
    "\n",
    "Mean = np.mean(given_data)\n",
    "Median = np.median(given_data)\n",
    "Mode = stats.mode(given_data)\n",
    "std = np.std(given_data)\n",
    "\n",
    "print(\"Mean:\" , Mean)\n",
    "print(\"Median:\" , Median)\n",
    "print(\"Mode:\", Mode)\n",
    "print(\"Std:\" , std)"
   ]
  },
  {
   "cell_type": "code",
   "execution_count": 23,
   "id": "ff3b04c5-40e5-4418-81f7-6ca772b4902e",
   "metadata": {},
   "outputs": [
    {
     "name": "stdout",
     "output_type": "stream",
     "text": [
      "[178, 177, 176, 177, 178.2, 178, 175, 179, 180, 175, 178.9, 176.2, 177, 172.5, 178, 176.5, 1000.0]\n"
     ]
    }
   ],
   "source": [
    "# Adding a outlier in the given_data\n",
    "\n",
    "import copy\n",
    "Given_data2 = copy.deepcopy(given_data)\n",
    "Given_data2 = Given_data2 + [1000.0]\n",
    "print(Given_data2)"
   ]
  },
  {
   "cell_type": "code",
   "execution_count": 25,
   "id": "49707186-530b-414d-8af8-4b4298ae7d16",
   "metadata": {},
   "outputs": [
    {
     "name": "stdout",
     "output_type": "stream",
     "text": [
      "Mean of given_data with outlier is : 225.4294117647059\n",
      "Median of given_data with outlier is : 177.0\n",
      "Mode of given_data with outlier is : ModeResult(mode=array([177.]), count=array([3]))\n",
      "Std of given_data with outlier is : 193.65042113441513\n"
     ]
    },
    {
     "name": "stderr",
     "output_type": "stream",
     "text": [
      "/tmp/ipykernel_98/3361722129.py:5: FutureWarning: Unlike other reduction functions (e.g. `skew`, `kurtosis`), the default behavior of `mode` typically preserves the axis it acts along. In SciPy 1.11.0, this behavior will change: the default value of `keepdims` will become False, the `axis` over which the statistic is taken will be eliminated, and the value None will no longer be accepted. Set `keepdims` to True or False to avoid this warning.\n",
      "  Mode_out = stats.mode(Given_data2)\n"
     ]
    }
   ],
   "source": [
    "# Central tendency with outlier\n",
    "\n",
    "Mean_out = np.mean(Given_data2)\n",
    "Median_out = np.median(Given_data2)\n",
    "Mode_out = stats.mode(Given_data2)\n",
    "Std_out = np.std(Given_data2)\n",
    "\n",
    "print(\"Mean of given_data with outlier is :\" , Mean_out)\n",
    "print(\"Median of given_data with outlier is :\" ,Median_out )\n",
    "print(\"Mode of given_data with outlier is :\" , Mode_out)\n",
    "print(\"Std of given_data with outlier is :\" , Std_out)"
   ]
  },
  {
   "cell_type": "code",
   "execution_count": 27,
   "id": "94eb9892-0011-4ef3-936f-986df774f8ab",
   "metadata": {},
   "outputs": [
    {
     "data": {
      "text/html": [
       "<div>\n",
       "<style scoped>\n",
       "    .dataframe tbody tr th:only-of-type {\n",
       "        vertical-align: middle;\n",
       "    }\n",
       "\n",
       "    .dataframe tbody tr th {\n",
       "        vertical-align: top;\n",
       "    }\n",
       "\n",
       "    .dataframe thead th {\n",
       "        text-align: right;\n",
       "    }\n",
       "</style>\n",
       "<table border=\"1\" class=\"dataframe\">\n",
       "  <thead>\n",
       "    <tr style=\"text-align: right;\">\n",
       "      <th></th>\n",
       "      <th>Statistic</th>\n",
       "      <th>Orignal</th>\n",
       "      <th>Outlier</th>\n",
       "    </tr>\n",
       "  </thead>\n",
       "  <tbody>\n",
       "    <tr>\n",
       "      <th>0</th>\n",
       "      <td>Mean</td>\n",
       "      <td>177.01875</td>\n",
       "      <td>225.429412</td>\n",
       "    </tr>\n",
       "    <tr>\n",
       "      <th>1</th>\n",
       "      <td>Median</td>\n",
       "      <td>177.0</td>\n",
       "      <td>177.0</td>\n",
       "    </tr>\n",
       "    <tr>\n",
       "      <th>2</th>\n",
       "      <td>Mode</td>\n",
       "      <td>([177.0], [3])</td>\n",
       "      <td>([177.0], [3])</td>\n",
       "    </tr>\n",
       "    <tr>\n",
       "      <th>3</th>\n",
       "      <td>Standard Deviation</td>\n",
       "      <td>1.788581</td>\n",
       "      <td>193.650421</td>\n",
       "    </tr>\n",
       "  </tbody>\n",
       "</table>\n",
       "</div>"
      ],
      "text/plain": [
       "            Statistic         Orignal         Outlier\n",
       "0                Mean       177.01875      225.429412\n",
       "1              Median           177.0           177.0\n",
       "2                Mode  ([177.0], [3])  ([177.0], [3])\n",
       "3  Standard Deviation        1.788581      193.650421"
      ]
     },
     "execution_count": 27,
     "metadata": {},
     "output_type": "execute_result"
    }
   ],
   "source": [
    "# Comparison of results with and without outliers\n",
    "comparison_dict = {\n",
    "    'Statistic':['Mean','Median','Mode','Standard Deviation'],\n",
    "    'Orignal' : [Mean,Median,Mode,std],\n",
    "    'Outlier' : [Mean_out,Median_out,Mode_out,Std_out]    \n",
    "}\n",
    "\n",
    "\n",
    "import pandas as pd\n",
    "df = pd.DataFrame(comparison_dict)\n",
    "df"
   ]
  },
  {
   "cell_type": "code",
   "execution_count": null,
   "id": "f27fb1c6-23da-4e52-a9cb-42483dd99a49",
   "metadata": {},
   "outputs": [],
   "source": []
  },
  {
   "cell_type": "code",
   "execution_count": null,
   "id": "8f8c999e-88cf-4aa3-8cef-d57ea25f12e2",
   "metadata": {},
   "outputs": [],
   "source": []
  }
 ],
 "metadata": {
  "kernelspec": {
   "display_name": "Python 3 (ipykernel)",
   "language": "python",
   "name": "python3"
  },
  "language_info": {
   "codemirror_mode": {
    "name": "ipython",
    "version": 3
   },
   "file_extension": ".py",
   "mimetype": "text/x-python",
   "name": "python",
   "nbconvert_exporter": "python",
   "pygments_lexer": "ipython3",
   "version": "3.10.8"
  }
 },
 "nbformat": 4,
 "nbformat_minor": 5
}
