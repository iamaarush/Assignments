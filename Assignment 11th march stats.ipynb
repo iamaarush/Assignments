{
 "cells": [
  {
   "cell_type": "markdown",
   "id": "7426e13a-2deb-48c0-b4ba-62347177c815",
   "metadata": {},
   "source": [
    "# Question 1\n",
    "\n",
    "What is the difference between a t-test and a z-test? Provide an example scenario where you would\n",
    "use each type of test."
   ]
  },
  {
   "cell_type": "code",
   "execution_count": null,
   "id": "2b6eaa98-7e63-4fbb-94c1-4cd986553fd1",
   "metadata": {},
   "outputs": [],
   "source": [
    "T- test :\n",
    "    A t-test is a hypothesis test used by the researcher to compare population means for a variable , \n",
    "    classified into two categories depending on the less-than interval variable. More precisely , a t-test \n",
    "    is used to examine how the means taken from two independent samples differ.\n",
    "    T-test follows t-distribution which is appropriate when the sample size is small and the population standard\n",
    "    deviation is unknown. the shape of a t-distribution is highly affected by the degree of freedom. the degree \n",
    "    of freedom implies the number of independent observations in a given set of observations.\n",
    "    \n",
    "    Assumptions of t-test:\n",
    "        1. All data points are independent.\n",
    "        2. The sample size is small . Generally, a sample size exceeding 30 sample units is regarded as large,\n",
    "        otherwise small but that should not be less than 5, to apply t-test.\n",
    "        3. Sample values are to be taken and recorded accurately.\n",
    "        \n",
    "Z-test:\n",
    "    Z-test refers to a univariate statistical analysis used to test the hypothesis that proportions from two \n",
    "    independent samples differ greatly. It determines to what extent a data point is away from its mean of the\n",
    "    data set, in standard deviation.\n",
    "    \n",
    "    The researcher adopts z-test, when the population variance is known, in essence, when there is a large\n",
    "    sample size, sample variance is deemed to be approximately equal to the population variance. In this way,\n",
    "    it is assumed to be known, despite the fact that only sample data is available and so normal test can be \n",
    "    applied.\n",
    "    \n",
    "    Assumptions of Z-test:\n",
    "        1. All sample observations are independent\n",
    "        2. Sample size should be more than 30.\n",
    "        3. Distribution of Z is normal, with a mean zero and variance 1.\n",
    "        \n",
    "Example for T- Test :\n",
    "For example, suppose you want to compare the average test scores of two groups of students who took different\n",
    "types of classes. A t-test would be used to determine whether there is a significant difference between the \n",
    "two groups.\n",
    "\n",
    "Example for Z-Test :\n",
    "suppose you want to compare the average heights of two groups of people from different countries. A z-test\n",
    "would be used to determine whether there is a significant difference between the two groups. Here Sample \n",
    "size >30 and population variance MUST BE KNOWN."
   ]
  },
  {
   "cell_type": "markdown",
   "id": "ff20672b-25c2-45de-96df-5fc6f7fecdf5",
   "metadata": {},
   "source": [
    "# Question 2\n",
    "\n",
    "Differentiate between one-tailed and two-tailed tests."
   ]
  },
  {
   "cell_type": "code",
   "execution_count": null,
   "id": "9b56a500-e5c7-476b-8d7b-aa76cb7ebce0",
   "metadata": {},
   "outputs": [],
   "source": [
    "One-Tailed Test:\n",
    "    A one-tailed test is based on a uni-directional hypothesis where the area of rejection is on only one side\n",
    "    of the sampling distribution. It determines whether a particular population parameter is larger or smaller\n",
    "    than the predefined parameter. It uses one single critical value to test the data.\n",
    "    \n",
    "Two-Tailed Test:\n",
    "    A two-tailed test is also called a nondirectional hypothesis. For checking whether the sample is greater or\n",
    "    less than a range of values, we use the two-tailed. It is used for null hypothesis testing."
   ]
  },
  {
   "cell_type": "markdown",
   "id": "93314feb-ee08-4de5-9ba6-ba2e5f5e0e0e",
   "metadata": {},
   "source": [
    "# Question 3\n",
    "\n",
    "Explain the concept of Type 1 and Type 2 errors in hypothesis testing. Provide an example scenario for\n",
    "each type of error."
   ]
  },
  {
   "cell_type": "code",
   "execution_count": null,
   "id": "36c93586-72f2-4e8f-b1be-c5d955629ea4",
   "metadata": {},
   "outputs": [],
   "source": [
    "Type 1 error:\n",
    "    Type I error occurs when the null hypothesis is rejected even though it is actually true. This means that the\n",
    "    researcher concludes that there is a significant effect or difference between two groups when in reality there\n",
    "    is not. The probability of making a Type I error is denoted as alpha (α) and is set by the researcher prior to\n",
    "    conducting the test. A smaller alpha level means a lower probability of making a Type I error.\n",
    "\n",
    "Type 2 error:\n",
    "    Type II error, on the other hand, occurs when the null hypothesis is not rejected even though it is actually \n",
    "    false. This means that the researcher concludes that there is no significant effect or difference between two\n",
    "    groups when in reality there is. The probability of making a Type II error is denoted as beta (β). The \n",
    "    probability of making a Type II error depends on several factors such as the sample size, effect size, and\n",
    "    the alpha level.\n",
    "    \n",
    "Examples-\n",
    "Type I error: Suppose a company produces a batch of 10,000 pens and claims that the average weight of each\n",
    "pen is 5 grams. A researcher randomly selects a sample of 50 pens and finds that the average weight is 5.2\n",
    "grams with a standard deviation of 0.5 grams. The researcher conducts a hypothesis test with a significance\n",
    "level of 0.05 and concludes that the average weight of the pens is significantly greater than 5 grams. \n",
    "However, in reality, the average weight of the pens is actually 5 grams, and the researcher has made a \n",
    "Type I error by rejecting the null hypothesis.\n",
    "    \n",
    "    \n",
    "Type II error: Consider a clinical trial testing the effectiveness of a new drug for treating a certain\n",
    "disease. The null hypothesis is that the drug has no effect on the disease, while the alternative hypothesis\n",
    "is that the drug does have an effect. If the clinical trial fails to reject the null hypothesis, it could \n",
    "be due to the drug having no effect, or it could be due to a Type II error, where the drug actually does \n",
    "have an effect but it was not detected in the study. In this scenario, a Type II error would occur if the\n",
    "new drug is effective, but the clinical trial fails to detect its effectiveness due to a small sample size\n",
    "or other limitations of the study."
   ]
  },
  {
   "cell_type": "markdown",
   "id": "b37c6bae-2014-4e5d-9630-caa4caefdf67",
   "metadata": {},
   "source": [
    "# Question 4\n",
    "\n",
    "Explain Bayes's theorem with an example."
   ]
  },
  {
   "cell_type": "code",
   "execution_count": null,
   "id": "14f117bd-701d-4191-9993-ff4ab072d299",
   "metadata": {},
   "outputs": [],
   "source": [
    "Bayes's theorem is a mathematical formula that provides a way to update the probability of an event occurring\n",
    "based on new information. It is named after Thomas Bayes, an 18th-century British statistician.\n",
    "\n",
    "Bayes's theorem can be expressed as follows:\n",
    "P(A|B) = P(B|A) x P(A) / P(B)\n",
    "\n",
    "Example --\n",
    "Suppose there is a medical test for a certain disease that affects 1% of the population. The test has a 95% \n",
    "accuracy rate, meaning that it correctly identifies 95% of people who have the disease and correctly identifies\n",
    "95% of people who do not have the disease. If a person tests positive for the disease, what is the probability\n",
    "that they actually have the disease?\n",
    "\n",
    "Using Bayes's theorem, we can calculate the probability as follows:\n",
    "Let A be the event that a person has the disease (prior probability = 0.01)\n",
    "\n",
    "Let B be the event that a person tests positive for the disease (prior probability = 0.01 x 0.95 + 0.99 x 0.05 = 0.058)\n",
    "\n",
    "P(A|B) = P(B|A) x P(A) / P(B)\n",
    "\n",
    "P(A|B) = 0.95 x 0.01 / 0.058\n",
    "\n",
    "P(A|B) = 0.163\n",
    "\n",
    "Therefore, the probability that a person who tests positive for the disease actually has the disease is \n",
    "approximately 16.3%. This calculation shows that even though the test has a high accuracy rate, there is still\n",
    "a significant chance of a false positive result, and additional testing or confirmation may be necessary to \n",
    "confirm a diagnosis.\n"
   ]
  },
  {
   "cell_type": "markdown",
   "id": "c6ccbacd-91c4-43c6-b262-270686a758ea",
   "metadata": {},
   "source": [
    "# Question 5\n",
    "\n",
    "What is a confidence interval? How to calculate the confidence interval, explain with an example.\n",
    "\n"
   ]
  },
  {
   "cell_type": "code",
   "execution_count": null,
   "id": "12e0dd68-2bcc-468c-b65b-54dc1167de23",
   "metadata": {},
   "outputs": [],
   "source": [
    "A confidence interval, in statistics, refers to the probability that a population parameter will fall between\n",
    "a set of values for a certain proportion of times. Analysts often use confidence intervals that contain either\n",
    "95% or 99% of expected observations. Thus, if a point estimate is generated from a statistical model of 10.00\n",
    "with a 95% confidence interval of 9.50 - 10.50, it can be inferred that there is a 95% probability that the \n",
    "true value falls within that range.\n",
    "\n",
    "To calculate a confidence interval, we need to know the sample size, the sample mean, and the standard error\n",
    "of the mean (SEM), which is a measure of the variation in the sample means. The confidence interval is based\n",
    "on the standard normal distribution or t-distribution, depending on the sample size and whether the population\n",
    "standard deviation is known.\n",
    "\n",
    "Example-\n",
    "Suppose we want to estimate the mean weight of a certain population of adults. We take a random sample of 100 \n",
    "people and measure their weights, and find that the sample mean is 72.5 kilograms and the sample standard \n",
    "deviation is 10.3 kilograms. We want to calculate a 99% confidence interval for the population mean weight.\n",
    "\n",
    "Since the sample size is greater than 30 and the population standard deviation is unknown, we use the \n",
    "t-distribution. The degrees of freedom is n-1, which is 99 in this case.\n",
    "\n",
    "First, we calculate the standard error of the mean:\n",
    "1. SEM = s / sqrt(n) = 10.3 / sqrt(100) = 1.03\n",
    "\n",
    "2. Next, we find the t-value for a 99% confidence level and 99 degrees of freedom using a t-table or\n",
    "calculator. The value is approximately 2.63.\n",
    "\n",
    "3. The lower and upper bounds of the confidence interval are calculated as:\n",
    "    Lower bound = sample mean - t-value x SEM = 72.5 - 2.63 x 1.03 = 69.8\n",
    "    Upper bound = sample mean + t-value x SEM = 72.5 + 2.63 x 1.03 = 75.2\n",
    "    \n",
    "Therefore, the 99% confidence interval for the population mean weight is between 69.8 and 75.2 kilograms. \n",
    "This means that we are 99% confident that the true population mean weight lies within this range."
   ]
  },
  {
   "cell_type": "code",
   "execution_count": 1,
   "id": "26202508-495a-4e17-a7cb-7698a07e6b7f",
   "metadata": {},
   "outputs": [
    {
     "name": "stdout",
     "output_type": "stream",
     "text": [
      "t_value for 100 samples with significance level of 0.01 is : 2.63\n",
      "The 99% confidence interval for population mean is (69.8, 75.2)\n"
     ]
    }
   ],
   "source": [
    "# Verifying with python code:\n",
    "\n",
    "from math import sqrt\n",
    "import scipy.stats as stats\n",
    "\n",
    "# Given Below data\n",
    "sample_mean = 72.5\n",
    "sample_std = 10.3\n",
    "n = 100\n",
    "\n",
    "# Calculating SEM\n",
    "SEM  = sample_std/sqrt(n)\n",
    "\n",
    "# Defining the significance level \n",
    "alpha = 0.01\n",
    "\n",
    "# Calculating the t value\n",
    "t_value = stats.t.ppf(1-alpha/2, df=n-1)\n",
    "print(f't_value for {n} samples with significance level of {alpha} is : {t_value:.2f}')\n",
    "\n",
    "# Calculate the confidence interval\n",
    "lower_bound = sample_mean - t_value * SEM\n",
    "upper_bound = sample_mean + t_value * SEM\n",
    "\n",
    "# Printing the results\n",
    "print(f\"The 99% confidence interval for population mean is ({lower_bound:.1f}, {upper_bound:.1f})\")"
   ]
  },
  {
   "cell_type": "markdown",
   "id": "eeeb7fc6-53f4-4d7c-9934-2024d4446fdc",
   "metadata": {},
   "source": [
    "# Question 6\n",
    "\n",
    "Use Bayes' Theorem to calculate the probability of an event occurring given prior knowledge of the\n",
    "event's probability and new evidence. Provide a sample problem and solution."
   ]
  },
  {
   "cell_type": "code",
   "execution_count": null,
   "id": "5d777c47-c537-4216-a590-56027e30f802",
   "metadata": {},
   "outputs": [],
   "source": [
    "There are three urns containing 3 white and 2 black balls; 2 white and 3 black balls; 1 black and 4 white\n",
    "balls respectively. There is an equal probability of each urn being chosen. One ball is equal probability\n",
    "chosen at random. what is the probability that a  white ball is drawn?\n",
    "\n",
    "Let E1, E2, and E3 be the events of choosing the first, second, and third urn respectively. Then,\n",
    "\n",
    "P(E1) = P(E2) = P(E3) =1/3\n",
    "\n",
    "Let E be the event that a white ball is drawn. Then,\n",
    "\n",
    "P(E/E1) = 3/5, P(E/E2) = 2/5, P(E/E3) = 4/5\n",
    "\n",
    "By theorem of total probability, we have\n",
    "\n",
    "P(E) = P(E/E1) . P(E1) + P(E/E2) . P(E2) + P(E/E3) . P(E3)\n",
    "\n",
    "       = (3/5 × 1/3) + (2/5 × 1/3) + (4/5 × 1/3)\n",
    "\n",
    "       = 9/15 = 3/5"
   ]
  },
  {
   "cell_type": "markdown",
   "id": "10b403fd-e0c3-4918-8ec2-ede39b80d5b8",
   "metadata": {},
   "source": [
    "# Question 7\n",
    "\n",
    "Calculate the 95% confidence interval for a sample of data with a mean of 50 and a standard deviation\n",
    "of 5. Interpret the results."
   ]
  },
  {
   "cell_type": "code",
   "execution_count": 2,
   "id": "c5fad9a9-99dc-4de8-8803-51808b65c134",
   "metadata": {},
   "outputs": [
    {
     "name": "stdout",
     "output_type": "stream",
     "text": [
      "t statistic for significance level 0.05 , sample size of 30 is : 2.05\n",
      "The 95% confidence interval is (48.13, 51.87)\n"
     ]
    }
   ],
   "source": [
    "import math\n",
    "import scipy.stats as stats\n",
    "\n",
    "# Define the sample mean, standard deviation, and sample size\n",
    "sample_mean = 50\n",
    "sample_std_dev = 5\n",
    "sample_size = 30\n",
    "\n",
    "# Signficance Level\n",
    "alpha = 0.05\n",
    "\n",
    "# Calculate the critical value for a 95% confidence interval\n",
    "t_crit = stats.t.ppf(1-alpha/2, df=sample_size-1)\n",
    "print(f't statistic for significance level {alpha} , sample size of {sample_size} is : {t_crit:.2f}')\n",
    "\n",
    "# Calculate the standard error\n",
    "std_error = sample_std_dev / math.sqrt(sample_size)\n",
    "\n",
    "# Calculate the lower and upper bounds of the confidence interval\n",
    "lower_bound = sample_mean - t_crit * std_error\n",
    "upper_bound = sample_mean + t_crit * std_error\n",
    "\n",
    "# Print the results\n",
    "print(f\"The 95% confidence interval is ({lower_bound:.2f}, {upper_bound:.2f})\")"
   ]
  },
  {
   "cell_type": "markdown",
   "id": "23eed926-b1d4-49bd-a9cb-55e444246d08",
   "metadata": {},
   "source": [
    "# Question 8\n",
    "\n",
    "What is the margin of error in a confidence interval? How does sample size affect the margin of error?\n",
    "Provide an example of a scenario where a larger sample size would result in a smaller margin of error."
   ]
  },
  {
   "cell_type": "code",
   "execution_count": null,
   "id": "d7bf8450-0cb7-4220-9b33-3b90b2280a42",
   "metadata": {},
   "outputs": [],
   "source": [
    "The margin of error in a confidence interval is the range of values around the sample statistic \n",
    "(such as the sample mean) within which we expect the true population parameter (such as the population mean)\n",
    "to lie with a certain level of confidence. The margin of error is affected by the sample size, level of \n",
    "confidence, and standard deviation of the population.\n",
    "\n",
    "As the sample size increases, the margin of error decreases because larger samples provide more information\n",
    "about the population, and hence the sample statistics are more likely to be representative of the population.\n",
    "The decrease in margin of error with an increase in sample size follows the square root law, which states \n",
    "that the margin of error decreases by the square root of the sample size.\n",
    "\n",
    "For example, suppose we want to estimate the average height of all students in a university using a random\n",
    "sample of students. We take a sample of 50 students and calculate their average height to be 170 cm with\n",
    "a standard deviation of 5 cm. We want to calculate a 95% confidence interval for the true population \n",
    "mean height.\n",
    "\n",
    "1. Using the formula for the margin of error for a confidence interval, we get:\n",
    "Margin of error = z * (standard deviation / sqrt(sample size))\n",
    "\n",
    "2. For a 95% confidence interval, the critical z-value is 1.96. So, plugging in the values, we get:\n",
    "Margin of error = 1.96 * (5 / sqrt(50)) = 1.38 cm\n",
    "\n",
    "3. This means that we are 95% confident that the true population mean height is within 1.38 cm of our sample\n",
    "mean of 170 cm. If we had taken a larger sample size of 200 students, the margin of error would have been:\n",
    "Margin of error = 1.96 * (5 / sqrt(200)) = 0.98 cm\n",
    "\n",
    "So, a larger sample size would result in a smaller margin of error, making our estimate of the true population\n",
    "mean height more precise."
   ]
  },
  {
   "cell_type": "markdown",
   "id": "9aebbfda-8d1e-4ea1-8e39-1fb9d7db6477",
   "metadata": {},
   "source": [
    "# Question 9\n",
    "\n",
    "Calculate the z-score for a data point with a value of 75, a population mean of 70, and a population\n",
    "standard deviation of 5. Interpret the results."
   ]
  },
  {
   "cell_type": "code",
   "execution_count": 3,
   "id": "352d26b1-f2ec-4d28-83f9-5b4f3d05e0f4",
   "metadata": {},
   "outputs": [
    {
     "name": "stdout",
     "output_type": "stream",
     "text": [
      "The z-score is: 1.0\n"
     ]
    }
   ],
   "source": [
    "# Define the values\n",
    "x = 75  # Data point value\n",
    "mu = 70  # Population mean\n",
    "sigma = 5  # Population standard deviation\n",
    "\n",
    "# Calculate the z-score\n",
    "z = (x - mu) / sigma\n",
    "\n",
    "print(f\"The z-score is: {z}\")"
   ]
  },
  {
   "cell_type": "code",
   "execution_count": null,
   "id": "234c0cdd-1de1-45a9-841b-b8f31734da57",
   "metadata": {},
   "outputs": [],
   "source": [
    "This means that the data point is 1 standard deviation above the population mean. A positive z-score indicates\n",
    "that the data point is above the mean, while a negative z-score indicates that it is below the mean. The \n",
    "magnitude of the z-score tells us how far away the data point is from the mean in terms of standard deviations."
   ]
  },
  {
   "cell_type": "code",
   "execution_count": 4,
   "id": "6ca47dbf-d23a-4895-b46b-9f941422a0d9",
   "metadata": {},
   "outputs": [
    {
     "name": "stdout",
     "output_type": "stream",
     "text": [
      "The percentage of values below a z-score of 1 is: 84.13%\n"
     ]
    }
   ],
   "source": [
    "from scipy.stats import norm\n",
    "\n",
    "# Calculate the percentage of values below a z-score of 1\n",
    "percent_below = norm.cdf(z) * 100\n",
    "\n",
    "print(f\"The percentage of values below a z-score of 1 is: {percent_below:.2f}%\")"
   ]
  },
  {
   "cell_type": "code",
   "execution_count": null,
   "id": "5bb91b44-c9c2-45b5-82bf-995b1dc1b1c5",
   "metadata": {},
   "outputs": [],
   "source": [
    "A z-score of 1 corresponds to approximately 84.13% of values being below this value in a standard normal \n",
    "distribution."
   ]
  },
  {
   "cell_type": "markdown",
   "id": "2c7b2b7a-2cf0-4651-9c81-3859fe57ef23",
   "metadata": {},
   "source": [
    "# Question 10\n",
    "\n",
    "In a study of the effectiveness of a new weight loss drug, a sample of 50 participants lost an average\n",
    "of 6 pounds with a standard deviation of 2.5 pounds. Conduct a hypothesis test to determine if the drug is\n",
    "significantly effective at a 95% confidence level using a t-test."
   ]
  },
  {
   "cell_type": "code",
   "execution_count": 5,
   "id": "341ef25e-53e2-4fd1-a151-a7d62b6cd91e",
   "metadata": {},
   "outputs": [
    {
     "name": "stdout",
     "output_type": "stream",
     "text": [
      "t-statistic: 16.9706\n",
      "p-value: 0.0\n",
      "Reject the null hypothesis. the drug is significantly effective.\n"
     ]
    }
   ],
   "source": [
    "import numpy as np\n",
    "from scipy.stats import t\n",
    "\n",
    "# Null hypothesis: the drug is not significantly effective\n",
    "# Alternative hypothesis: the drug is significantly effective\n",
    "alpha = 0.05  # significance level\n",
    "null_hypothesis = \"the drug is not significantly effective\"\n",
    "alternative_hypothesis = \"the drug is significantly effective\"\n",
    "\n",
    "mu = 0\n",
    "sample_mean = 6\n",
    "sample_std = 2.5\n",
    "n = 50\n",
    "df = n - 1  # degrees of freedom\n",
    "\n",
    "# Calculate the t-score and p-value\n",
    "t_score = (sample_mean - mu) / (sample_std / np.sqrt(n))\n",
    "p_value = 2 * (1 - t.cdf(abs(t_score), df))\n",
    "\n",
    "# Compare p-value with alpha and make a conclusion\n",
    "print(f\"t-statistic: {t_score:.4f}\")\n",
    "print(f\"p-value: {p_value}\")\n",
    "if p_value < alpha:\n",
    "    print(f\"Reject the null hypothesis. {alternative_hypothesis}.\")\n",
    "else:\n",
    "    print(f\"Fail to reject the null hypothesis. {null_hypothesis}.\")"
   ]
  },
  {
   "cell_type": "markdown",
   "id": "369df63a-36a5-49b9-a31d-5ac5eb5a1577",
   "metadata": {},
   "source": [
    "# Question 11\n",
    "\n",
    "In a survey of 500 people, 65% reported being satisfied with their current job. Calculate the 95%\n",
    "confidence interval for the true proportion of people who are satisfied with their job."
   ]
  },
  {
   "cell_type": "code",
   "execution_count": 6,
   "id": "55223158-b009-437d-837c-bcaa827fa6a4",
   "metadata": {},
   "outputs": [
    {
     "name": "stdout",
     "output_type": "stream",
     "text": [
      "The 95% confidence interval for the proportion of people who are satisfied with their job is \n",
      "      (60.82%, 69.18%)\n"
     ]
    }
   ],
   "source": [
    "import math\n",
    "\n",
    "p = 0.65  # sample proportion\n",
    "n = 500  # sample size\n",
    "z_alpha = 1.96  # z-score for 95% confidence level\n",
    "\n",
    "# Calculate the standard error\n",
    "se = math.sqrt((p * (1 - p)) / n)\n",
    "\n",
    "# Calculate the margin of error\n",
    "me = z_alpha * se\n",
    "\n",
    "# Calculate the confidence interval\n",
    "lower_bound = p - me\n",
    "upper_bound = p + me\n",
    "\n",
    "# Print the results\n",
    "print(f\"\"\"The 95% confidence interval for the proportion of people who are satisfied with their job is \n",
    "      ({lower_bound*100:.2f}%, {upper_bound*100:.2f}%)\"\"\")\n"
   ]
  },
  {
   "cell_type": "markdown",
   "id": "b079a31e-2026-48c7-8ef4-57912fd6879d",
   "metadata": {},
   "source": [
    "# Question 12\n",
    "\n",
    "A researcher is testing the effectiveness of two different teaching methods on student performance.\n",
    "Sample A has a mean score of 85 with a standard deviation of 6, while sample B has a mean score of 82\n",
    "with a standard deviation of 5. Conduct a hypothesis test to determine if the two teaching methods have a\n",
    "significant difference in student performance using a t-test with a significance level of 0.01."
   ]
  },
  {
   "cell_type": "code",
   "execution_count": 7,
   "id": "a99a4453-cb72-46cd-ab13-8d20a67e51a1",
   "metadata": {},
   "outputs": [
    {
     "name": "stdout",
     "output_type": "stream",
     "text": [
      "t-statistic: 2.104\n",
      "Degrees of freedom: 58\n",
      "Critical t-value: 2.663\n",
      "p-value: 0.040\n",
      "Fail to reject null hypothesis.\n",
      "mu1 = mu2 (the means are equal)\n"
     ]
    }
   ],
   "source": [
    "import numpy as np\n",
    "from scipy.stats import t\n",
    "\n",
    "# Sample A\n",
    "x1 = 85\n",
    "s1 = 6\n",
    "n1 = 30\n",
    "\n",
    "# Sample B\n",
    "x2 = 82\n",
    "s2 = 5\n",
    "n2 = 30\n",
    "\n",
    "# Set up null and alternative hypotheses\n",
    "# H0: mu1 = mu2 (the means are equal)\n",
    "# Ha: mu1 != mu2 (the means are not equal)\n",
    "alpha = 0.01\n",
    "null_hypothesis = \"mu1 = mu2 (the means are equal)\"\n",
    "alternative_hypothesis = \"mu1 != mu2 (the means are not equal)\"\n",
    "\n",
    "# Calculate pooled standard deviation\n",
    "sp = np.sqrt(((n1 - 1) * s1 ** 2 + (n2 - 1) * s2 ** 2) / (n1 + n2 - 2))\n",
    "\n",
    "# Calculate t-statistic\n",
    "t_stat = (x1 - x2) / (sp * np.sqrt(1 / n1 + 1 / n2))\n",
    "\n",
    "# Calculate degrees of freedom\n",
    "df = n1 + n2 - 2\n",
    "\n",
    "# Calculate critical t-value\n",
    "t_crit = t.ppf(1-alpha / 2, df)\n",
    "\n",
    "# Calculate p-value\n",
    "p_value = 2 * (1 - t.cdf(abs(t_stat), df))\n",
    "\n",
    "# Print results\n",
    "print(f\"t-statistic: {t_stat:.3f}\")\n",
    "print(f\"Degrees of freedom: {df}\")\n",
    "print(f\"Critical t-value: {t_crit:.3f}\")\n",
    "print(f\"p-value: {p_value:.3f}\")\n",
    "\n",
    "if abs(t_stat) > t_crit:\n",
    "    print(\"Reject null hypothesis.\")\n",
    "    print(alternative_hypothesis)\n",
    "else:\n",
    "    print(\"Fail to reject null hypothesis.\")\n",
    "    print(null_hypothesis)"
   ]
  },
  {
   "cell_type": "markdown",
   "id": "6aeddb8c-5b7b-43f3-b37e-b22f7e168313",
   "metadata": {},
   "source": [
    "# Question 13\n",
    "\n",
    "A population has a mean of 60 and a standard deviation of 8. A sample of 50 observations has a mean\n",
    "of 65. Calculate the 90% confidence interval for the true population mean."
   ]
  },
  {
   "cell_type": "code",
   "execution_count": 8,
   "id": "86e6e4c1-0615-46e6-b59b-ba1285404200",
   "metadata": {},
   "outputs": [
    {
     "name": "stdout",
     "output_type": "stream",
     "text": [
      "t statistic for 50 samples with 90% confidence is : 1.6766\n",
      "The 90% confidence interval for the true population mean is \n",
      "(63.103, 66.897)\n"
     ]
    }
   ],
   "source": [
    "import math\n",
    "from scipy.stats import t\n",
    "\n",
    "pop_mean = 60\n",
    "pop_std = 8\n",
    "n = 50\n",
    "sample_mean = 65\n",
    "confidence_level = 0.90\n",
    "\n",
    "# Calculate the t-score\n",
    "t_score = (sample_mean - pop_mean) / (pop_std / math.sqrt(n))\n",
    "\n",
    "# Find the critical t-value\n",
    "df = n - 1\n",
    "t_crit = t.ppf((1+confidence_level)/2, df)\n",
    "print(f't statistic for {n} samples with {confidence_level*100:.0f}% confidence is : {t_crit:.4f}')\n",
    "\n",
    "# Calculate the margin of error\n",
    "margin_of_error = t_crit * (pop_std / math.sqrt(n))\n",
    "\n",
    "# Calculate the confidence interval\n",
    "lower_bound = sample_mean - margin_of_error\n",
    "upper_bound = sample_mean + margin_of_error\n",
    "\n",
    "# Print the results\n",
    "print(f\"\"\"The {confidence_level*100:.0f}% confidence interval for the true population mean is \n",
    "({lower_bound:.3f}, {upper_bound:.3f})\"\"\")\n"
   ]
  },
  {
   "cell_type": "markdown",
   "id": "93e669f4-5b34-4481-86db-a99deaf68109",
   "metadata": {},
   "source": [
    "# Question 14\n",
    "\n",
    "In a study of the effects of caffeine on reaction time, a sample of 30 participants had an average\n",
    "reaction time of 0.25 seconds with a standard deviation of 0.05 seconds. Conduct a hypothesis test to\n",
    "determine if the caffeine has a significant effect on reaction time at a 90% confidence level using a t-test."
   ]
  },
  {
   "cell_type": "code",
   "execution_count": 9,
   "id": "59210ab7-401f-4108-a8f1-d246d6f82ba9",
   "metadata": {},
   "outputs": [
    {
     "name": "stdout",
     "output_type": "stream",
     "text": [
      "t-statistic: -5.477\n",
      "t-critical value: 1.699\n",
      "90% Confidence Interval: (0.234, 0.266)\n",
      "Reject the null hypothesis\n",
      "Caffeine has a significant effect on reaction time\n"
     ]
    }
   ],
   "source": [
    "\n",
    "# According to researchers typical human reaction time is 200ms to 300ms\n",
    "\n",
    "# Here i have assumed the population mean as 300ms or 0.3 seconds\n",
    "\n",
    "import math\n",
    "import scipy.stats as stats\n",
    "\n",
    "# Null Hypothesis: Caffeine has no significant effect on reaction time\n",
    "# Alternative Hypothesis: Caffeine has a significant effect on reaction time\n",
    "null_hypothesis = \"Caffeine has no significant effect on reaction time\"\n",
    "alternative_hypothesis = \"Caffeine has a significant effect on reaction time\"\n",
    "\n",
    "sample_mean = 0.25  # sample mean\n",
    "sample_std_dev = 0.05  # sample standard deviation\n",
    "n = 30  # sample size\n",
    "pop_mean = 0.3  # population mean under null hypothesis\n",
    "alpha = 0.1  # significance level\n",
    "\n",
    "# Calculate the t-statistic\n",
    "t_stat = (sample_mean - pop_mean) / (sample_std_dev / math.sqrt(n))\n",
    "\n",
    "# Calculate the critical t-value\n",
    "t_crit = stats.t.ppf(1-alpha/2, n-1)\n",
    "\n",
    "# Calculate the confidence interval\n",
    "margin_of_error = t_crit * (sample_std_dev / math.sqrt(n))\n",
    "lower_ci = sample_mean - margin_of_error\n",
    "upper_ci = sample_mean + margin_of_error\n",
    "\n",
    "# Print the results\n",
    "print(f\"t-statistic: {t_stat:.3f}\")\n",
    "print(f\"t-critical value: {t_crit:.3f}\")\n",
    "print(f\"90% Confidence Interval: ({lower_ci:.3f}, {upper_ci:.3f})\")\n",
    "\n",
    "# Determine if the null hypothesis should be rejected or not\n",
    "if abs(t_stat) > t_crit:\n",
    "    print(\"Reject the null hypothesis\")\n",
    "    print(alternative_hypothesis)\n",
    "else:\n",
    "    print(\"Fail to reject the null hypothesis\")\n",
    "    print(null_hypothesis)"
   ]
  },
  {
   "cell_type": "code",
   "execution_count": null,
   "id": "f566aa36-4487-4b8b-bc24-791c53c2e51a",
   "metadata": {},
   "outputs": [],
   "source": []
  }
 ],
 "metadata": {
  "kernelspec": {
   "display_name": "Python 3 (ipykernel)",
   "language": "python",
   "name": "python3"
  },
  "language_info": {
   "codemirror_mode": {
    "name": "ipython",
    "version": 3
   },
   "file_extension": ".py",
   "mimetype": "text/x-python",
   "name": "python",
   "nbconvert_exporter": "python",
   "pygments_lexer": "ipython3",
   "version": "3.10.8"
  }
 },
 "nbformat": 4,
 "nbformat_minor": 5
}
