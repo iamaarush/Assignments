{
 "cells": [
  {
   "cell_type": "code",
   "execution_count": 4,
   "id": "acd7d4bd-28a3-4b68-97cc-f666e7b507f0",
   "metadata": {},
   "outputs": [],
   "source": [
    "import pandas as pd\n",
    "course_name = ['Data Science', 'Machine Learning', 'Big Data', 'Data Engineer']\n",
    "duration = [2,3,6,4]\n",
    "df = pd.DataFrame(data = {'course_name' : course_name, 'duration' : duration})"
   ]
  },
  {
   "cell_type": "code",
   "execution_count": 9,
   "id": "6afedbae-d617-452d-82af-4a735e4a89a5",
   "metadata": {},
   "outputs": [
    {
     "data": {
      "text/html": [
       "<div>\n",
       "<style scoped>\n",
       "    .dataframe tbody tr th:only-of-type {\n",
       "        vertical-align: middle;\n",
       "    }\n",
       "\n",
       "    .dataframe tbody tr th {\n",
       "        vertical-align: top;\n",
       "    }\n",
       "\n",
       "    .dataframe thead th {\n",
       "        text-align: right;\n",
       "    }\n",
       "</style>\n",
       "<table border=\"1\" class=\"dataframe\">\n",
       "  <thead>\n",
       "    <tr style=\"text-align: right;\">\n",
       "      <th></th>\n",
       "      <th>course_name</th>\n",
       "      <th>duration</th>\n",
       "    </tr>\n",
       "  </thead>\n",
       "  <tbody>\n",
       "    <tr>\n",
       "      <th>2</th>\n",
       "      <td>Big Data</td>\n",
       "      <td>6</td>\n",
       "    </tr>\n",
       "  </tbody>\n",
       "</table>\n",
       "</div>"
      ],
      "text/plain": [
       "  course_name  duration\n",
       "2    Big Data         6"
      ]
     },
     "execution_count": 9,
     "metadata": {},
     "output_type": "execute_result"
    }
   ],
   "source": [
    "# Question 1\n",
    "\n",
    "df.loc[[2]]"
   ]
  },
  {
   "cell_type": "code",
   "execution_count": null,
   "id": "f3b52a90-b909-47df-8a32-8db35c61b840",
   "metadata": {},
   "outputs": [],
   "source": []
  },
  {
   "cell_type": "code",
   "execution_count": 17,
   "id": "ef886ad6-9f9e-4013-b47a-710c79b22278",
   "metadata": {},
   "outputs": [
    {
     "data": {
      "text/html": [
       "<div>\n",
       "<style scoped>\n",
       "    .dataframe tbody tr th:only-of-type {\n",
       "        vertical-align: middle;\n",
       "    }\n",
       "\n",
       "    .dataframe tbody tr th {\n",
       "        vertical-align: top;\n",
       "    }\n",
       "\n",
       "    .dataframe thead th {\n",
       "        text-align: right;\n",
       "    }\n",
       "</style>\n",
       "<table border=\"1\" class=\"dataframe\">\n",
       "  <thead>\n",
       "    <tr style=\"text-align: right;\">\n",
       "      <th></th>\n",
       "      <th>loc_function</th>\n",
       "      <th>iloc_function</th>\n",
       "    </tr>\n",
       "  </thead>\n",
       "  <tbody>\n",
       "    <tr>\n",
       "      <th>0</th>\n",
       "      <td>The loc function is label based data selecting method which means that we have to pass the name of the row or column which we want to select.</td>\n",
       "      <td>The iloc function is an indexed based selecting method which means that we have to pass an integer index in the method to select a specific row/column</td>\n",
       "    </tr>\n",
       "  </tbody>\n",
       "</table>\n",
       "</div>"
      ],
      "text/plain": [
       "                                                                                                                                    loc_function  \\\n",
       "0  The loc function is label based data selecting method which means that we have to pass the name of the row or column which we want to select.   \n",
       "\n",
       "                                                                                                                                            iloc_function  \n",
       "0  The iloc function is an indexed based selecting method which means that we have to pass an integer index in the method to select a specific row/column  "
      ]
     },
     "execution_count": 17,
     "metadata": {},
     "output_type": "execute_result"
    }
   ],
   "source": [
    "# Question 2\n",
    "\n",
    "pd.set_option('display.max_colwidth',1000)\n",
    "\n",
    "df2 = pd.DataFrame({'loc_function' : ['The loc function is label based data selecting method which means that we have to pass the name of the row or column which we want to select.'],\n",
    "                   'iloc_function': ['The iloc function is an indexed based selecting method which means that we have to pass an integer index in the method to select a specific row/column']})\n",
    "df2\n"
   ]
  },
  {
   "cell_type": "code",
   "execution_count": null,
   "id": "5275b986-480f-4ee9-ab2d-c960526ac83c",
   "metadata": {},
   "outputs": [],
   "source": []
  },
  {
   "cell_type": "code",
   "execution_count": 24,
   "id": "cee79e6a-8e85-42f2-94e8-efccf1cfade9",
   "metadata": {},
   "outputs": [
    {
     "name": "stdout",
     "output_type": "stream",
     "text": [
      "........loc[2].......\n",
      "course_name    Big Data\n",
      "duration              6\n",
      "Name: 2, dtype: object\n",
      ".......iloc[2].......\n",
      "course_name    Machine Learning\n",
      "duration                      3\n",
      "Name: 1, dtype: object\n"
     ]
    }
   ],
   "source": [
    "# Question 3\n",
    "\n",
    "new_df = df.reindex([3,0,1,2])\n",
    "\n",
    "print('........loc[2].......')\n",
    "print(new_df.loc[2])\n",
    "\n",
    "\n",
    "print('.......iloc[2].......')\n",
    "print(new_df.iloc[2])"
   ]
  },
  {
   "cell_type": "code",
   "execution_count": null,
   "id": "2ae28552-7bc3-4e53-a9d5-fa4039d02a4a",
   "metadata": {},
   "outputs": [],
   "source": [
    "as we can see that there is a difference between both the outputs this is because we have just reindex the dataframe ,\n",
    "so loc function always give us data through the original indexes and iloc always gives data from the given indexes."
   ]
  },
  {
   "cell_type": "code",
   "execution_count": null,
   "id": "f7564d45-6029-4ddd-9110-9c5edddcb616",
   "metadata": {},
   "outputs": [],
   "source": []
  },
  {
   "cell_type": "code",
   "execution_count": 1,
   "id": "d70ac89a-7892-49be-92f5-e795e475f06a",
   "metadata": {},
   "outputs": [],
   "source": [
    "import pandas as pd\n",
    "import numpy as np\n",
    "columns = ['column_1', 'column_2', 'column_3', 'column_4', 'column_5', 'column_6']\n",
    "indices = [1,2,3,4,5,6]\n",
    "#Creating a dataframe:\n",
    "df1 = pd.DataFrame(np.random.rand(6,6), columns = columns, index = indices)\n",
    "\n",
    "\n"
   ]
  },
  {
   "cell_type": "code",
   "execution_count": 3,
   "id": "a7826f0d-ec6d-4910-93a6-64e7562ab177",
   "metadata": {},
   "outputs": [
    {
     "data": {
      "text/html": [
       "<div>\n",
       "<style scoped>\n",
       "    .dataframe tbody tr th:only-of-type {\n",
       "        vertical-align: middle;\n",
       "    }\n",
       "\n",
       "    .dataframe tbody tr th {\n",
       "        vertical-align: top;\n",
       "    }\n",
       "\n",
       "    .dataframe thead th {\n",
       "        text-align: right;\n",
       "    }\n",
       "</style>\n",
       "<table border=\"1\" class=\"dataframe\">\n",
       "  <thead>\n",
       "    <tr style=\"text-align: right;\">\n",
       "      <th></th>\n",
       "      <th>column_1</th>\n",
       "      <th>column_2</th>\n",
       "      <th>column_3</th>\n",
       "      <th>column_4</th>\n",
       "      <th>column_5</th>\n",
       "      <th>column_6</th>\n",
       "    </tr>\n",
       "  </thead>\n",
       "  <tbody>\n",
       "    <tr>\n",
       "      <th>1</th>\n",
       "      <td>0.105852</td>\n",
       "      <td>0.339236</td>\n",
       "      <td>0.726484</td>\n",
       "      <td>0.703992</td>\n",
       "      <td>0.712665</td>\n",
       "      <td>0.095537</td>\n",
       "    </tr>\n",
       "    <tr>\n",
       "      <th>2</th>\n",
       "      <td>0.890845</td>\n",
       "      <td>0.220657</td>\n",
       "      <td>0.634936</td>\n",
       "      <td>0.929123</td>\n",
       "      <td>0.258013</td>\n",
       "      <td>0.537852</td>\n",
       "    </tr>\n",
       "    <tr>\n",
       "      <th>3</th>\n",
       "      <td>0.342161</td>\n",
       "      <td>0.535444</td>\n",
       "      <td>0.453646</td>\n",
       "      <td>0.044082</td>\n",
       "      <td>0.175961</td>\n",
       "      <td>0.532555</td>\n",
       "    </tr>\n",
       "    <tr>\n",
       "      <th>4</th>\n",
       "      <td>0.847364</td>\n",
       "      <td>0.439314</td>\n",
       "      <td>0.179200</td>\n",
       "      <td>0.815162</td>\n",
       "      <td>0.643435</td>\n",
       "      <td>0.640453</td>\n",
       "    </tr>\n",
       "    <tr>\n",
       "      <th>5</th>\n",
       "      <td>0.154327</td>\n",
       "      <td>0.390427</td>\n",
       "      <td>0.943907</td>\n",
       "      <td>0.059281</td>\n",
       "      <td>0.963648</td>\n",
       "      <td>0.043675</td>\n",
       "    </tr>\n",
       "    <tr>\n",
       "      <th>6</th>\n",
       "      <td>0.620828</td>\n",
       "      <td>0.472757</td>\n",
       "      <td>0.751606</td>\n",
       "      <td>0.786247</td>\n",
       "      <td>0.901645</td>\n",
       "      <td>0.366516</td>\n",
       "    </tr>\n",
       "  </tbody>\n",
       "</table>\n",
       "</div>"
      ],
      "text/plain": [
       "   column_1  column_2  column_3  column_4  column_5  column_6\n",
       "1  0.105852  0.339236  0.726484  0.703992  0.712665  0.095537\n",
       "2  0.890845  0.220657  0.634936  0.929123  0.258013  0.537852\n",
       "3  0.342161  0.535444  0.453646  0.044082  0.175961  0.532555\n",
       "4  0.847364  0.439314  0.179200  0.815162  0.643435  0.640453\n",
       "5  0.154327  0.390427  0.943907  0.059281  0.963648  0.043675\n",
       "6  0.620828  0.472757  0.751606  0.786247  0.901645  0.366516"
      ]
     },
     "execution_count": 3,
     "metadata": {},
     "output_type": "execute_result"
    }
   ],
   "source": [
    "df1"
   ]
  },
  {
   "cell_type": "code",
   "execution_count": 35,
   "id": "a6f8b9e0-3d0f-4943-a98f-2c4f6468bc30",
   "metadata": {},
   "outputs": [
    {
     "data": {
      "text/plain": [
       "column_1    0.288606\n",
       "column_2    0.317234\n",
       "column_3    0.348519\n",
       "column_4    0.653325\n",
       "column_5    0.443886\n",
       "column_6    0.595696\n",
       "dtype: float64"
      ]
     },
     "execution_count": 35,
     "metadata": {},
     "output_type": "execute_result"
    }
   ],
   "source": [
    "# Question 4 (i)\n",
    "\n",
    "df1[['column_1' , 'column_2' , 'column_3' , 'column_4' , 'column_5' , 'column_6']].mean()"
   ]
  },
  {
   "cell_type": "code",
   "execution_count": 38,
   "id": "88cebf66-f67c-4aee-8dea-bfc87b8f1fa8",
   "metadata": {},
   "outputs": [
    {
     "data": {
      "text/plain": [
       "0.2747725326261313"
      ]
     },
     "execution_count": 38,
     "metadata": {},
     "output_type": "execute_result"
    }
   ],
   "source": [
    "# (ii)\n",
    "\n",
    "df1['column_2'].std()"
   ]
  },
  {
   "cell_type": "code",
   "execution_count": null,
   "id": "ef472b66-92fc-410a-a9a7-ebd4d57b2e85",
   "metadata": {},
   "outputs": [],
   "source": []
  },
  {
   "cell_type": "code",
   "execution_count": 48,
   "id": "0c1b354a-b7b6-45c7-9bac-aa8f61a7b173",
   "metadata": {},
   "outputs": [
    {
     "name": "stdout",
     "output_type": "stream",
     "text": [
      "<bound method NDFrame._add_numeric_operations.<locals>.mean of 1    0.122727\n",
      "2         NaN\n",
      "3    0.224085\n",
      "4    0.925607\n",
      "5    0.010207\n",
      "6    0.359388\n",
      "Name: column_2, dtype: float64>\n"
     ]
    }
   ],
   "source": [
    "# Question 5\n",
    "\n",
    "df1.loc[2 , \"column_2\"] = 'string'   # replace data in second row of second column to string variable\n",
    "\n",
    "df1['column_2'] = pd.to_numeric(df1['column_2'],errors='coerce')  # convert column 2 to numeric ignoring non-numeric values\n",
    "\n",
    "print (df1['column_2'].mean)  # printing the mean of column 2"
   ]
  },
  {
   "cell_type": "code",
   "execution_count": null,
   "id": "cb6a7e11-581e-4aec-91b7-2de36f95bce1",
   "metadata": {},
   "outputs": [],
   "source": []
  },
  {
   "cell_type": "code",
   "execution_count": null,
   "id": "4e7bf4e7-a357-44ae-87c3-1367f915134d",
   "metadata": {},
   "outputs": [],
   "source": [
    "# Question 6\n",
    "\n",
    "pandas window functions are the functions where the input values are taken from a 'window' of one or more rows in a series or \n",
    "a table and calculation is performed over them . the word window means the number of rows between the two boundaries by \n",
    "which we perform calculations including the boundary rows. \n",
    "\n",
    "pandas support 4 types of windowing operations:-\n",
    "\n",
    "1. Rolling window \n",
    "2. Weighted window\n",
    "3. Expanding window\n",
    "4. Exponentially wieghted window"
   ]
  },
  {
   "cell_type": "code",
   "execution_count": null,
   "id": "7e2f9372-c9b3-400e-a616-d43496196f1f",
   "metadata": {},
   "outputs": [],
   "source": []
  },
  {
   "cell_type": "code",
   "execution_count": 48,
   "id": "516ef5d5-bbed-4b33-8f1c-e45aa2b075ad",
   "metadata": {},
   "outputs": [
    {
     "name": "stdout",
     "output_type": "stream",
     "text": [
      "6 2023\n"
     ]
    },
    {
     "name": "stderr",
     "output_type": "stream",
     "text": [
      "/tmp/ipykernel_1028/3475194672.py:3: FutureWarning: The pandas.datetime class is deprecated and will be removed from pandas in a future version. Import from datetime module instead.\n",
      "  date = pd.datetime.now()\n"
     ]
    }
   ],
   "source": [
    "# Question 7\n",
    "\n",
    "date = pd.datetime.now()\n",
    "\n",
    "print(date.month , date.year)\n"
   ]
  },
  {
   "cell_type": "code",
   "execution_count": 33,
   "id": "e6326cd8-2b39-48fe-866d-685494f7bbd6",
   "metadata": {},
   "outputs": [
    {
     "name": "stdout",
     "output_type": "stream",
     "text": [
      "Requirement already satisfied: pandas in /opt/conda/lib/python3.10/site-packages (1.5.2)\n",
      "Requirement already satisfied: python-dateutil>=2.8.1 in /opt/conda/lib/python3.10/site-packages (from pandas) (2.8.2)\n",
      "Requirement already satisfied: pytz>=2020.1 in /opt/conda/lib/python3.10/site-packages (from pandas) (2022.6)\n",
      "Requirement already satisfied: numpy>=1.21.0 in /opt/conda/lib/python3.10/site-packages (from pandas) (1.23.5)\n",
      "Requirement already satisfied: six>=1.5 in /opt/conda/lib/python3.10/site-packages (from python-dateutil>=2.8.1->pandas) (1.16.0)\n",
      "Note: you may need to restart the kernel to use updated packages.\n"
     ]
    }
   ],
   "source": [
    "pip install pandas"
   ]
  },
  {
   "cell_type": "code",
   "execution_count": 5,
   "id": "83accbfc-94ad-4818-b655-cc093427bffd",
   "metadata": {},
   "outputs": [],
   "source": [
    "# Question 8\n",
    "import pandas as pd\n",
    "def difference():\n",
    "    d1 = input(\"Enter yor 1st date(YYYY-MM-DD):\")\n",
    "\n",
    "    d2 = input(\"Enter yor 2nd date(YYYY-MM-DD):\")\n",
    "    \n",
    "    d11 = pd.to_datetime(d1)\n",
    "    d22 = pd.to_datetime(d2)\n",
    "    delta = d11-d22\n",
    "    days = delta.days\n",
    "    hrs = delta.seconds//3600\n",
    "    \n",
    "    minu = (delta.seconds % 3600)//60\n",
    "    \n",
    "    \n",
    "    print(f\"The difference between {d11.date()} and {d22.date()} is {days}days , {hrs}hrs and {minu}minu.\")\n",
    "\n",
    "    "
   ]
  },
  {
   "cell_type": "code",
   "execution_count": 6,
   "id": "663ff632-1f64-4dba-8959-918525c8d730",
   "metadata": {},
   "outputs": [
    {
     "name": "stdin",
     "output_type": "stream",
     "text": [
      "Enter yor 1st date(YYYY-MM-DD): 2023-06-06\n",
      "Enter yor 2nd date(YYYY-MM-DD): 2023-06-02\n"
     ]
    },
    {
     "name": "stdout",
     "output_type": "stream",
     "text": [
      "The difference between 2023-06-06 and 2023-06-02 is 4days , 0hrs and 0minu.\n"
     ]
    }
   ],
   "source": [
    "difference()"
   ]
  },
  {
   "cell_type": "code",
   "execution_count": 2,
   "id": "b12d614b-63b1-4fb9-98c8-8e172ebf952f",
   "metadata": {},
   "outputs": [
    {
     "name": "stdout",
     "output_type": "stream",
     "text": [
      "Requirement already satisfied: pandas in /opt/conda/lib/python3.10/site-packages (1.5.2)\n",
      "Requirement already satisfied: python-dateutil>=2.8.1 in /opt/conda/lib/python3.10/site-packages (from pandas) (2.8.2)\n",
      "Requirement already satisfied: pytz>=2020.1 in /opt/conda/lib/python3.10/site-packages (from pandas) (2022.6)\n",
      "Requirement already satisfied: numpy>=1.21.0 in /opt/conda/lib/python3.10/site-packages (from pandas) (1.23.5)\n",
      "Requirement already satisfied: six>=1.5 in /opt/conda/lib/python3.10/site-packages (from python-dateutil>=2.8.1->pandas) (1.16.0)\n",
      "Note: you may need to restart the kernel to use updated packages.\n"
     ]
    }
   ],
   "source": [
    "pip install pandas"
   ]
  },
  {
   "cell_type": "code",
   "execution_count": 45,
   "id": "c40bd835-2fac-400c-969a-3015d28bec20",
   "metadata": {
    "tags": []
   },
   "outputs": [],
   "source": [
    "# Question 9 \n",
    "\n",
    "import pandas as pd\n",
    "def sorted_data():\n",
    "    \n",
    "    file_path= input('Enter file path')\n",
    "\n",
    "    col_name = input('Enter column name')\n",
    "\n",
    "    cat_order = input('Enter category order (comma seperated list):')\n",
    "    cat_order = [cat.strip() for cat in cat_order.split(\",\")]\n",
    "\n",
    "    df = pd.read_csv(file_path)\n",
    "\n",
    "    df[col_name] = pd.Categorical(df[col_name], categories = cat_order , ordered = True)\n",
    "\n",
    "    df_sort = df.sort_values(col_name,ascending=False)\n",
    "\n",
    "    print ('File path Entered:',file_path)\n",
    "    print ('column name Entered:' , col_name)\n",
    "    print('Category order entered:', cat_order ,'\\n')\n",
    "    print('=========================','\\n' )\n",
    "    return df_sort\n",
    "    "
   ]
  },
  {
   "cell_type": "code",
   "execution_count": 47,
   "id": "428eee47-d937-4a0a-958e-19f0a78244a6",
   "metadata": {},
   "outputs": [
    {
     "name": "stdin",
     "output_type": "stream",
     "text": [
      "Enter file path file1.csv\n",
      "Enter column name Grades\n",
      "Enter category order (comma seperated list): A,B,C,D\n"
     ]
    },
    {
     "name": "stdout",
     "output_type": "stream",
     "text": [
      "File path Entered: file1.csv\n",
      "column name Entered: Grades\n",
      "Category order entered: ['A', 'B', 'C', 'D'] \n",
      "\n",
      "========================= \n",
      "\n"
     ]
    },
    {
     "data": {
      "text/html": [
       "<div>\n",
       "<style scoped>\n",
       "    .dataframe tbody tr th:only-of-type {\n",
       "        vertical-align: middle;\n",
       "    }\n",
       "\n",
       "    .dataframe tbody tr th {\n",
       "        vertical-align: top;\n",
       "    }\n",
       "\n",
       "    .dataframe thead th {\n",
       "        text-align: right;\n",
       "    }\n",
       "</style>\n",
       "<table border=\"1\" class=\"dataframe\">\n",
       "  <thead>\n",
       "    <tr style=\"text-align: right;\">\n",
       "      <th></th>\n",
       "      <th>Unnamed: 0</th>\n",
       "      <th>Name</th>\n",
       "      <th>Gender</th>\n",
       "      <th>Grades</th>\n",
       "    </tr>\n",
       "  </thead>\n",
       "  <tbody>\n",
       "    <tr>\n",
       "      <th>2</th>\n",
       "      <td>2</td>\n",
       "      <td>kamal</td>\n",
       "      <td>male</td>\n",
       "      <td>D</td>\n",
       "    </tr>\n",
       "    <tr>\n",
       "      <th>4</th>\n",
       "      <td>4</td>\n",
       "      <td>aniket</td>\n",
       "      <td>male</td>\n",
       "      <td>C</td>\n",
       "    </tr>\n",
       "    <tr>\n",
       "      <th>1</th>\n",
       "      <td>1</td>\n",
       "      <td>rohan</td>\n",
       "      <td>male</td>\n",
       "      <td>B</td>\n",
       "    </tr>\n",
       "    <tr>\n",
       "      <th>0</th>\n",
       "      <td>0</td>\n",
       "      <td>aman</td>\n",
       "      <td>male</td>\n",
       "      <td>A</td>\n",
       "    </tr>\n",
       "    <tr>\n",
       "      <th>3</th>\n",
       "      <td>3</td>\n",
       "      <td>ankit</td>\n",
       "      <td>male</td>\n",
       "      <td>A</td>\n",
       "    </tr>\n",
       "  </tbody>\n",
       "</table>\n",
       "</div>"
      ],
      "text/plain": [
       "   Unnamed: 0    Name Gender Grades\n",
       "2           2   kamal   male      D\n",
       "4           4  aniket   male      C\n",
       "1           1   rohan   male      B\n",
       "0           0    aman   male      A\n",
       "3           3   ankit   male      A"
      ]
     },
     "execution_count": 47,
     "metadata": {},
     "output_type": "execute_result"
    }
   ],
   "source": [
    "sorted_data()"
   ]
  },
  {
   "cell_type": "code",
   "execution_count": 2,
   "id": "e1dbfe84-0ac5-4d5d-b469-db54977c3a80",
   "metadata": {},
   "outputs": [],
   "source": [
    "import pandas as pd"
   ]
  },
  {
   "cell_type": "code",
   "execution_count": 2,
   "id": "7f7cc067-5e5d-4a93-a16c-f854bfe43f2f",
   "metadata": {},
   "outputs": [],
   "source": [
    "# Question 10\n",
    "\n",
    "def sales():\n",
    "    \n",
    "\n",
    "    file_input = input(\"Enter file path:\")\n",
    "\n",
    "    df3 = pd.read_csv(file_input)\n",
    "\n",
    "    df3['Date'] = pd.to_datetime(df3['Date'])\n",
    "\n",
    "    df_group = df3.groupby([ 'Date','Products']).sum().reset_index()\n",
    "\n",
    "    df_pivot = df_group.pivot(index='Date' , columns='Products' , values='Sales')\n",
    "\n",
    "    print('Given CSV file :','\\n')\n",
    "    print('=======================')\n",
    "\n",
    "    print(df3 , '\\n')\n",
    "    print('=======================','\\n')\n",
    "\n",
    "    df_pivot.plot(kind='bar',\n",
    "              stacked = True,\n",
    "             title = 'Sales per day',\n",
    "             xlabel= 'Date',\n",
    "             ylabel='Sales')\n",
    "\n"
   ]
  },
  {
   "cell_type": "code",
   "execution_count": 5,
   "id": "96f8cb38-5af8-444d-9400-85c7b487a844",
   "metadata": {},
   "outputs": [
    {
     "name": "stdin",
     "output_type": "stream",
     "text": [
      "Enter file path: sales.csv\n"
     ]
    },
    {
     "name": "stdout",
     "output_type": "stream",
     "text": [
      "Given CSV file : \n",
      "\n",
      "=======================\n",
      "        Date Products  Sales\n",
      "0 2023-06-01     Oppo     50\n",
      "1 2023-06-01    Apple     25\n",
      "2 2023-06-01  Samsung     65\n",
      "3 2023-06-02    Apple     60\n",
      "4 2023-06-02     Oppo      5\n",
      "5 2023-06-03     Oppo     25\n",
      "6 2023-06-03  Samsung     40\n",
      "7 2023-06-03    Apple     50 \n",
      "\n",
      "======================= \n",
      "\n"
     ]
    },
    {
     "data": {
      "image/png": "[encoded data removed]",
      "text/plain": [
       "<Figure size 640x480 with 1 Axes>"
      ]
     },
     "metadata": {},
     "output_type": "display_data"
    }
   ],
   "source": [
    "sales()"
   ]
  },
  {
   "cell_type": "code",
   "execution_count": null,
   "id": "fea009d6-c8fb-4f15-98f4-8268b029adf8",
   "metadata": {},
   "outputs": [],
   "source": []
  },
  {
   "cell_type": "code",
   "execution_count": 10,
   "id": "3abf0967-d3d2-4ed8-9352-bd9ebe027ab1",
   "metadata": {},
   "outputs": [
    {
     "name": "stdin",
     "output_type": "stream",
     "text": [
      "Enter file path student data.csv\n"
     ]
    },
    {
     "name": "stdout",
     "output_type": "stream",
     "text": [
      "\n",
      "\n",
      "Entered file path: student data.csv\n",
      "============+=======+===== \n",
      "\n",
      "Dataframe provided \n",
      "\n",
      "============+=======+===== \n",
      "\n",
      "   Student ID  Test Score\n",
      "0           1          85\n",
      "1           2          90\n",
      "2           3          80\n",
      "3           4          75\n",
      "4           5          85\n",
      "5           6          82\n",
      "6           7          78\n",
      "7           8          85\n",
      "8           9          90\n",
      "9          10          85\n",
      "============+=======+===== \n",
      "\n",
      "Statistics Table \n",
      "\n",
      "============+=======+===== \n",
      "\n",
      "  Statistics  Value\n",
      "0       Mean   83.5\n",
      "1     Median   85.0\n",
      "2       Mode   85.0\n",
      "============+=======+===== \n",
      "\n"
     ]
    }
   ],
   "source": [
    "# Question 11\n",
    " \n",
    "\n",
    "give_file = input(\"Enter file path\")\n",
    "\n",
    "df = pd.read_csv(give_file)\n",
    "\n",
    "test_mean = df['Test Score'].mean()\n",
    "test_med = df['Test Score'].median()\n",
    "test_mod = df['Test Score'].mode()[0]\n",
    "\n",
    "df_test = pd.DataFrame({'Statistics':['Mean' , 'Median' ,'Mode'],\n",
    "                       'Value':[test_mean , test_med , test_mod]})\n",
    "print('\\n')\n",
    "print('Entered file path:' , give_file)\n",
    "\n",
    "print('============+=======+=====', '\\n')\n",
    "print ('Dataframe provided','\\n')\n",
    "print('============+=======+=====', '\\n')\n",
    "print(df)\n",
    "print('============+=======+=====', '\\n')\n",
    "print('Statistics Table' , '\\n')\n",
    "print('============+=======+=====', '\\n')\n",
    "\n",
    "print(df_test)\n",
    "print('============+=======+=====', '\\n')"
   ]
  },
  {
   "cell_type": "code",
   "execution_count": null,
   "id": "d937f48d-cc1f-4758-811d-f07a8b7eed4e",
   "metadata": {},
   "outputs": [],
   "source": []
  },
  {
   "cell_type": "code",
   "execution_count": null,
   "id": "60c2755b-4ca9-4dcf-9d11-bae6fbb73d2d",
   "metadata": {},
   "outputs": [],
   "source": []
  },
  {
   "cell_type": "code",
   "execution_count": null,
   "id": "00aac62d-61f0-4e61-bef4-cfd99575df79",
   "metadata": {},
   "outputs": [],
   "source": []
  }
 ],
 "metadata": {
  "kernelspec": {
   "display_name": "Python 3 (ipykernel)",
   "language": "python",
   "name": "python3"
  },
  "language_info": {
   "codemirror_mode": {
    "name": "ipython",
    "version": 3
   },
   "file_extension": ".py",
   "mimetype": "text/x-python",
   "name": "python",
   "nbconvert_exporter": "python",
   "pygments_lexer": "ipython3",
   "version": "3.10.8"
  }
 },
 "nbformat": 4,
 "nbformat_minor": 5
}
