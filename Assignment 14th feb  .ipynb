{
 "cells": [
  {
   "cell_type": "code",
   "execution_count": null,
   "id": "356ff6bd-f420-4f6d-87a5-8825ebb5fb9d",
   "metadata": {},
   "outputs": [],
   "source": [
    "# Question 1\n",
    "\n",
    "Multithreading runs multiple threads simultaneusly within a single process. \n",
    "Multithreading enables efficient utilization of the resources as the threads share the data space and memory.\n",
    "Threading module is used to handle threads in python."
   ]
  },
  {
   "cell_type": "code",
   "execution_count": null,
   "id": "3db7ed8f-2b49-4c7f-93d1-12bea64c4d2a",
   "metadata": {},
   "outputs": [],
   "source": []
  },
  {
   "cell_type": "code",
   "execution_count": null,
   "id": "80f843b6-99e0-4835-b202-4877bb052f65",
   "metadata": {},
   "outputs": [],
   "source": [
    "# Question 2\n",
    "\n",
    "Threading module is used for creating , controlling and managing threads in python.\n",
    "\n",
    "1. Activecount() - Returns the number of thread objects that are active.\n",
    "\n",
    "2. currentThread() - It is used to return the current thread object which corresponds to the callers thread of control.\n",
    "\n",
    "3. enumerate() - Enumerate method adds a counter to an iterable and returns it in a form of enumarating object .\n",
    "This enumerated object can then be used directly for loops or converted into a list of tuples using the list function."
   ]
  },
  {
   "cell_type": "code",
   "execution_count": null,
   "id": "31ee45a1-182e-4812-81c9-737fdd30f42c",
   "metadata": {},
   "outputs": [],
   "source": []
  },
  {
   "cell_type": "code",
   "execution_count": null,
   "id": "cb95f1c1-67c9-4963-a609-ff1e1d2f58fc",
   "metadata": {},
   "outputs": [],
   "source": [
    "# Question 3\n",
    "\n",
    "1. run() - The run method executes any target function belonging to a given thread object that is now active .\n",
    "It normally executes in the background after the start method is invoked. \n",
    "\n",
    "2. start() - the start method starts a thread by calling the run method . \n",
    "\n",
    "3. join() - The join waits for threads to terminate.\n",
    "\n",
    "4. isalive() - The isAlive method checks weather a thread is still executing."
   ]
  },
  {
   "cell_type": "code",
   "execution_count": null,
   "id": "93d794e6-bc9b-4602-8fe3-b0c678237b24",
   "metadata": {},
   "outputs": [],
   "source": []
  },
  {
   "cell_type": "code",
   "execution_count": 23,
   "id": "548a7e8b-4d6d-4ebd-9769-16b1f2bcea12",
   "metadata": {},
   "outputs": [
    {
     "name": "stdin",
     "output_type": "stream",
     "text": [
      "Enter your number 9\n"
     ]
    },
    {
     "name": "stdout",
     "output_type": "stream",
     "text": [
      "81\n",
      "729\n"
     ]
    }
   ],
   "source": [
    "# Question 4\n",
    "\n",
    "import threading\n",
    "k=int(input(\"Enter your number\"))\n",
    "\n",
    "def square(n):\n",
    "    print(n**2)\n",
    "\n",
    "    \n",
    "def cube(n):\n",
    "    print (n**3)\n",
    "    \n",
    "if __name__ == '__main__' :\n",
    "\n",
    "    thred = threading.Thread(target = square  , args = (k,))\n",
    "    thread = threading.Thread(target = cube , args = (k ,)) \n",
    "    \n",
    "    thred.start()\n",
    "    thread.start()\n",
    "    thred.join()\n",
    "    thread.join()\n",
    "    \n"
   ]
  },
  {
   "cell_type": "code",
   "execution_count": null,
   "id": "1ba4ae4b-db80-45b0-bf23-9beed9d53721",
   "metadata": {},
   "outputs": [],
   "source": []
  },
  {
   "cell_type": "code",
   "execution_count": null,
   "id": "1f5e52e1-9544-4fcd-b234-64edcbcb08d9",
   "metadata": {},
   "outputs": [],
   "source": [
    "# Question 5\n",
    "\n",
    "Some Advantages of multithreading are - \n",
    "1. Python multithreading enables efficient utilization of the resources as the threads share the data space and memory.\n",
    "2. Multithreading in python allows the concurrent and parallel occurence of various tasks.\n",
    "3. It causes a reduction in time consumption or response time , thereby increasing the performance.\n",
    "\n",
    "Some disadvantges of multithreading are -\n",
    "1. Increases the complexity of the program.\n",
    "2. Synchronization of shared resources (object , data ) is necessary.\n",
    "3. Difficult to debug unpredictable results."
   ]
  },
  {
   "cell_type": "code",
   "execution_count": null,
   "id": "ea187080-34e4-44f4-ab16-ea1460fec098",
   "metadata": {},
   "outputs": [],
   "source": []
  },
  {
   "cell_type": "code",
   "execution_count": null,
   "id": "3778a817-cd42-4f87-9b18-b580987cd872",
   "metadata": {},
   "outputs": [],
   "source": [
    "# Question 6\n",
    "\n",
    "Race condition is when two processes are competing with each other causing data corruption.\n",
    "Deadlock is when two processes are waiting for each other directly or indirectly."
   ]
  },
  {
   "cell_type": "code",
   "execution_count": null,
   "id": "af9132e0-1f64-4d0b-aec5-e2d6fa9c9876",
   "metadata": {},
   "outputs": [],
   "source": []
  }
 ],
 "metadata": {
  "kernelspec": {
   "display_name": "Python 3 (ipykernel)",
   "language": "python",
   "name": "python3"
  },
  "language_info": {
   "codemirror_mode": {
    "name": "ipython",
    "version": 3
   },
   "file_extension": ".py",
   "mimetype": "text/x-python",
   "name": "python",
   "nbconvert_exporter": "python",
   "pygments_lexer": "ipython3",
   "version": "3.10.8"
  }
 },
 "nbformat": 4,
 "nbformat_minor": 5
}
