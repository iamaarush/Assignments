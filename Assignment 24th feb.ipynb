{
 "cells": [
  {
   "cell_type": "code",
   "execution_count": 10,
   "id": "3de5fcd9-ec6c-4fc7-b44e-128a350c80e0",
   "metadata": {},
   "outputs": [
    {
     "data": {
      "text/plain": [
       "Index(['id', 'location_id', 'program_id', 'accepted_payments',\n",
       "       'alternate_name', 'application_process', 'audience', 'description',\n",
       "       'eligibility', 'email', 'fees', 'funding_sources',\n",
       "       'interpretation_services', 'keywords', 'languages', 'name',\n",
       "       'required_documents', 'service_areas', 'status', 'wait_time', 'website',\n",
       "       'taxonomy_ids'],\n",
       "      dtype='object')"
      ]
     },
     "execution_count": 10,
     "metadata": {},
     "output_type": "execute_result"
    }
   ],
   "source": [
    "# Question 1\n",
    "\n",
    "import pandas as pd\n",
    "\n",
    "\"Five functions of the pandas library are :-\"\n",
    "\n",
    "# 1. read_csv() - This function is used to read a data which is in csv format. \n",
    "\n",
    "df = pd.read_csv(\"services.csv\")\n",
    "\n",
    "# 2. head() - This function shows us the first five data from the dataframe.\n",
    "\n",
    "df.head()\n",
    "\n",
    "# 3. Describe() - IT shows all the numerical data in the statistical form.\n",
    "\n",
    "df.describe()\n",
    "\n",
    "# 4. dtypes - It shows datatypes of all the columns.\n",
    "\n",
    "df.dtypes\n",
    "\n",
    "# 5. columns- It shows all the columns in dataframe\n",
    "\n",
    "df.columns"
   ]
  },
  {
   "cell_type": "code",
   "execution_count": null,
   "id": "b17711d0-aa64-4298-94a7-df6fdb501b6e",
   "metadata": {},
   "outputs": [],
   "source": []
  },
  {
   "cell_type": "code",
   "execution_count": 2,
   "id": "a5bdcd01-0a7e-410c-a684-c3dc0e5a3508",
   "metadata": {},
   "outputs": [],
   "source": [
    "# Question 2\n",
    "\n",
    "import pandas as pd\n",
    "\n",
    "def reindex_df(df):\n",
    "    new_index = range(1,2*len(df)+1 , 2)\n",
    "    new_df = df.set_index(pd.Index(new_index))\n",
    "    return new_df\n",
    "\n",
    "\n",
    "\n",
    "\n"
   ]
  },
  {
   "cell_type": "code",
   "execution_count": null,
   "id": "cb86b92f-b388-4979-a105-250909b98977",
   "metadata": {},
   "outputs": [],
   "source": []
  },
  {
   "cell_type": "code",
   "execution_count": 20,
   "id": "74467dec-f72f-46c0-b08e-7c3e00411ef7",
   "metadata": {},
   "outputs": [],
   "source": [
    "# Question 3\n",
    "\n",
    "def Sum_of_values(df):\n",
    "    \n",
    "    df1=df['Values']\n",
    "    \n",
    "    print(sum(df1.head(3)))"
   ]
  },
  {
   "cell_type": "code",
   "execution_count": 2,
   "id": "96180c7e-68ee-4714-bb9e-f3aa3a8fc056",
   "metadata": {},
   "outputs": [],
   "source": []
  },
  {
   "cell_type": "code",
   "execution_count": 42,
   "id": "1d008c2d-27bf-49e9-b5cc-cc0b044bccd2",
   "metadata": {},
   "outputs": [],
   "source": [
    "# Question 4\n",
    "\n",
    "def word(df):\n",
    "    \n",
    "    df2['no_of_words']= df.Text.str.split().apply(len)\n",
    "    \n",
    "    print(df2)"
   ]
  },
  {
   "cell_type": "code",
   "execution_count": null,
   "id": "84a01155-5a32-4ef6-ac8e-13f7c5f557ea",
   "metadata": {},
   "outputs": [],
   "source": []
  },
  {
   "cell_type": "code",
   "execution_count": 16,
   "id": "f7d12642-e730-4d48-88fb-06c3af599f88",
   "metadata": {},
   "outputs": [
    {
     "data": {
      "text/plain": [
       "'Dataframe.size() returns the number of elements in the dataframe. The number of elements is the number of rows * number of \\ncolumns.\\n\\nDataframe.shape() is a tuple of array dimensions that tells the number of rows and columns of a given Dataframe.'"
      ]
     },
     "execution_count": 16,
     "metadata": {},
     "output_type": "execute_result"
    }
   ],
   "source": [
    "# Question 5\n",
    "\n",
    "\"\"\"Dataframe.size() returns the number of elements in the dataframe. The number of elements is the number of rows * number of \n",
    "columns.\n",
    "\n",
    "Dataframe.shape() is a tuple of array dimensions that tells the number of rows and columns of a given Dataframe.\"\"\""
   ]
  },
  {
   "cell_type": "code",
   "execution_count": null,
   "id": "5e8baa5e-7804-4953-b688-a910ab7ce790",
   "metadata": {},
   "outputs": [],
   "source": []
  },
  {
   "cell_type": "code",
   "execution_count": null,
   "id": "b7547a3c-39b2-4740-b36d-1a590126432f",
   "metadata": {},
   "outputs": [],
   "source": [
    "# Question 6\n",
    "\n",
    "The function we use to read an excel file is pandas read_excel() function. files can be imported using a URL link or can be \n",
    "directly imported from the disk."
   ]
  },
  {
   "cell_type": "code",
   "execution_count": null,
   "id": "cbe8dd0b-882d-4b35-b8fc-2693301e0668",
   "metadata": {},
   "outputs": [],
   "source": []
  },
  {
   "cell_type": "code",
   "execution_count": 74,
   "id": "339eb985-f5c0-42c7-a3d4-56b1eb972b0a",
   "metadata": {},
   "outputs": [],
   "source": [
    "# Question 7\n",
    "\n",
    "def user(df):\n",
    "    \n",
    "    df['Username']  = df['Email'].str.split('@' , expand = True )[0]\n",
    " \n",
    "    \n",
    "    print( df)\n",
    "\n"
   ]
  },
  {
   "cell_type": "code",
   "execution_count": null,
   "id": "2e25decc-3943-4010-9fd6-a2a5e776cf47",
   "metadata": {},
   "outputs": [],
   "source": []
  },
  {
   "cell_type": "code",
   "execution_count": 15,
   "id": "4b5a9da0-0808-4a59-8795-55ceca697734",
   "metadata": {},
   "outputs": [],
   "source": [
    "# Question 8\n",
    "\n",
    "def new_df(df):\n",
    "    \n",
    "    select = df[(df['A']>5) & (df['B']<10)]\n",
    "\n",
    "    print(select)"
   ]
  },
  {
   "cell_type": "code",
   "execution_count": null,
   "id": "6c391c4a-4004-4fef-a437-42ef6a1ef033",
   "metadata": {},
   "outputs": [],
   "source": []
  },
  {
   "cell_type": "code",
   "execution_count": 30,
   "id": "9b158f72-4cee-4c66-8817-b493e7a0d2e2",
   "metadata": {},
   "outputs": [],
   "source": [
    "# Question 9\n",
    "\n",
    "def MMstd(df):\n",
    "    \n",
    "    print ('........Mean.........')\n",
    "    print (df['Values'].mean())\n",
    "    \n",
    "    print ('.........Median........')\n",
    "    print (df['Values'].median())\n",
    "    \n",
    "    print ('........Std........')\n",
    "    print (df['Values'].std())"
   ]
  },
  {
   "cell_type": "code",
   "execution_count": null,
   "id": "66365fbd-a1c0-4070-8c88-2b799c0bb918",
   "metadata": {},
   "outputs": [],
   "source": []
  },
  {
   "cell_type": "code",
   "execution_count": 102,
   "id": "ff2733af-4209-45ab-8602-bdd2002c345a",
   "metadata": {},
   "outputs": [],
   "source": [
    "# Question 10\n",
    "\n",
    "def calculate_MA(df):\n",
    "    \n",
    "    df['Date'] = pd.date_range(start = '26/05/2023' , periods = len(df) , freq = 'D')\n",
    "    \n",
    "    df['SMA'] = df['Sales'].rolling(window=7 , min_periods=1).mean()\n",
    "    \n",
    "    print (df)"
   ]
  },
  {
   "cell_type": "code",
   "execution_count": 93,
   "id": "fbd3669c-2644-4eef-9a5e-0cf9dcf4588e",
   "metadata": {},
   "outputs": [],
   "source": []
  },
  {
   "cell_type": "code",
   "execution_count": 109,
   "id": "4cdb41e5-20cb-4479-8a4d-188751801820",
   "metadata": {},
   "outputs": [],
   "source": [
    "# Question 11\n",
    "\n",
    "def week_name(df):\n",
    "    \n",
    "    df['Weekday'] = df['Date'].dt.day_name() \n",
    "    return df"
   ]
  },
  {
   "cell_type": "code",
   "execution_count": null,
   "id": "57a251ff-e88c-499e-91c4-a93779ab9b95",
   "metadata": {},
   "outputs": [],
   "source": []
  },
  {
   "cell_type": "code",
   "execution_count": 163,
   "id": "dc6873a7-f8c2-4f3e-a85f-9916fa9315ac",
   "metadata": {},
   "outputs": [],
   "source": [
    "# Question 12\n",
    "\n",
    "def select_date(df):\n",
    "    \n",
    "    difference = df[(df['Date']>='2023-01-01') & (df['Date']<= '2023-01-31')]\n",
    "    \n",
    "    return difference\n"
   ]
  },
  {
   "cell_type": "code",
   "execution_count": null,
   "id": "48709cda-f4cd-4f13-9e37-c07d1af2a205",
   "metadata": {},
   "outputs": [],
   "source": []
  },
  {
   "cell_type": "code",
   "execution_count": null,
   "id": "0f962a2e-540a-4ac4-b7da-f6807f617133",
   "metadata": {},
   "outputs": [],
   "source": [
    "# Question 13\n",
    "\n",
    "To use the basic functions of pandas the first and foremost necessary library that needs to be imported is \"pandas\" library."
   ]
  },
  {
   "cell_type": "code",
   "execution_count": null,
   "id": "39745730-eef7-4bcf-9a75-548f2f1f9620",
   "metadata": {},
   "outputs": [],
   "source": []
  }
 ],
 "metadata": {
  "kernelspec": {
   "display_name": "Python 3 (ipykernel)",
   "language": "python",
   "name": "python3"
  },
  "language_info": {
   "codemirror_mode": {
    "name": "ipython",
    "version": 3
   },
   "file_extension": ".py",
   "mimetype": "text/x-python",
   "name": "python",
   "nbconvert_exporter": "python",
   "pygments_lexer": "ipython3",
   "version": "3.10.8"
  }
 },
 "nbformat": 4,
 "nbformat_minor": 5
}
