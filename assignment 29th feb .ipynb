{
 "cells": [
  {
   "cell_type": "code",
   "execution_count": 6,
   "id": "de31ff89-4a48-43ff-8acf-def9a64163e5",
   "metadata": {},
   "outputs": [
    {
     "data": {
      "text/plain": [
       "'python programming was developed by \"Guido van Rossum\" and first released on 20 february 1991.'"
      ]
     },
     "execution_count": 6,
     "metadata": {},
     "output_type": "execute_result"
    }
   ],
   "source": [
    "#Question 1 \n",
    "# Answer\n",
    "\"\"\"python programming was developed by \"Guido van Rossum\" and first released on 20 february 1991.\"\"\""
   ]
  },
  {
   "cell_type": "code",
   "execution_count": 5,
   "id": "d3b3cc67-49d8-4d8d-9e0c-edc2c0a8bb67",
   "metadata": {},
   "outputs": [
    {
     "data": {
      "text/plain": [
       "' Python is a interpreted programming language it supports:-\\n* object oriented programming\\n* structured programming\\n* functional programming '"
      ]
     },
     "execution_count": 5,
     "metadata": {},
     "output_type": "execute_result"
    }
   ],
   "source": [
    "#question 2\n",
    "# Answer\n",
    "\"\"\" Python is a interpreted programming language it supports:-\n",
    "* object oriented programming\n",
    "* structured programming\n",
    "* functional programming \"\"\""
   ]
  },
  {
   "cell_type": "code",
   "execution_count": 7,
   "id": "01800cb0-43f9-4380-8355-f5023a18e670",
   "metadata": {},
   "outputs": [
    {
     "data": {
      "text/plain": [
       "' Yes python is a case senstive language, i.e.,it treats uppercase and lowercase characters differently.This applies to \\nidentifiers too. You must avoid using the same name with different cases while naming identifiers.'"
      ]
     },
     "execution_count": 7,
     "metadata": {},
     "output_type": "execute_result"
    }
   ],
   "source": [
    "# Question 3\n",
    "# Answer\n",
    "\"\"\" Yes python is a case senstive language, i.e.,it treats uppercase and lowercase characters differently.This applies to \n",
    "identifiers too. You must avoid using the same name with different cases while naming identifiers.\"\"\""
   ]
  },
  {
   "cell_type": "code",
   "execution_count": 9,
   "id": "6a083d27-ed12-4326-91f2-49e144347185",
   "metadata": {},
   "outputs": [
    {
     "data": {
      "text/plain": [
       "' Correct extensions of python file are :-\\n> .py\\n> .pyi\\n> .pyc\\n> .pyd\\n> .pyo\\n> .pyw\\n> .pyz '"
      ]
     },
     "execution_count": 9,
     "metadata": {},
     "output_type": "execute_result"
    }
   ],
   "source": [
    "# Question 4 \n",
    "# Answer\n",
    "\"\"\" Correct extensions of python file are :-\n",
    "> .py\n",
    "> .pyi\n",
    "> .pyc\n",
    "> .pyd\n",
    "> .pyo\n",
    "> .pyw\n",
    "> .pyz \"\"\""
   ]
  },
  {
   "cell_type": "code",
   "execution_count": 10,
   "id": "0b054753-785d-4461-8a7c-970db8ebbe65",
   "metadata": {},
   "outputs": [
    {
     "data": {
      "text/plain": [
       "' Python is an interpreted language which means the source code of a python program is converted into bytecode that is than\\nexecuted by the python virtual machine.'"
      ]
     },
     "execution_count": 10,
     "metadata": {},
     "output_type": "execute_result"
    }
   ],
   "source": [
    "# Question 5\n",
    "# Answer\n",
    "\"\"\" Python is an interpreted language which means the source code of a python program is converted into bytecode that is than\n",
    "executed by the python virtual machine.\"\"\""
   ]
  },
  {
   "cell_type": "code",
   "execution_count": 11,
   "id": "bfbc664e-3601-4556-b4da-bfe8bba266be",
   "metadata": {},
   "outputs": [
    {
     "data": {
      "text/plain": [
       "' A python program is constructed from code blocks. a block is a piece of python program text that is executed as a unit.\\nthe following are blocks : a module , a functional body , and a class definition.\\nIndentation is used to define a block of code in python. and in python indentation is done with whitespace.'"
      ]
     },
     "execution_count": 11,
     "metadata": {},
     "output_type": "execute_result"
    }
   ],
   "source": [
    "# Question 6\n",
    "# Answer\n",
    "\"\"\" A python program is constructed from code blocks. a block is a piece of python program text that is executed as a unit.\n",
    "the following are blocks : a module , a functional body , and a class definition.\n",
    "Indentation is used to define a block of code in python. and in python indentation is done with whitespace.\"\"\" "
   ]
  },
  {
   "cell_type": "code",
   "execution_count": 12,
   "id": "35e9ae35-2e09-4ddc-a30a-a86080d6078f",
   "metadata": {},
   "outputs": [
    {
     "data": {
      "text/plain": [
       "' Hash character (#) is used to give single line comment in python '"
      ]
     },
     "execution_count": 12,
     "metadata": {},
     "output_type": "execute_result"
    }
   ],
   "source": [
    "# Question 7\n",
    "# Answer\n",
    "\"\"\" Hash character (#) is used to give single line comment in python \"\"\""
   ]
  },
  {
   "cell_type": "code",
   "execution_count": 13,
   "id": "5de872eb-5cbd-4aa1-9bdb-307a23a84038",
   "metadata": {},
   "outputs": [
    {
     "data": {
      "text/plain": [
       "' The function sys.version can help us to find the version of python that we are currently working on '"
      ]
     },
     "execution_count": 13,
     "metadata": {},
     "output_type": "execute_result"
    }
   ],
   "source": [
    "# Question 8\n",
    "# Answer\n",
    "\"\"\" The function sys.version can help us to find the version of python that we are currently working on \"\"\""
   ]
  },
  {
   "cell_type": "code",
   "execution_count": 15,
   "id": "4ac57658-90bd-4dde-b075-f8f39040b7d8",
   "metadata": {},
   "outputs": [
    {
     "data": {
      "text/plain": [
       "' Python supports the creation of anonymous functions at runtime, using a construct called \"LAMBDA\".'"
      ]
     },
     "execution_count": 15,
     "metadata": {},
     "output_type": "execute_result"
    }
   ],
   "source": [
    "# Question 9\n",
    "# Answer\n",
    "\"\"\" Python supports the creation of anonymous functions at runtime, using a construct called \"LAMBDA\".\"\"\""
   ]
  },
  {
   "cell_type": "code",
   "execution_count": 16,
   "id": "4370b57d-bddf-480a-b922-818d9ac5b6ac",
   "metadata": {},
   "outputs": [
    {
     "data": {
      "text/plain": [
       "' \\'Pip\\' stands for \"preffered installer program\".'"
      ]
     },
     "execution_count": 16,
     "metadata": {},
     "output_type": "execute_result"
    }
   ],
   "source": [
    "# Question 10\n",
    "# Answer\n",
    "\"\"\" 'Pip' stands for \"preffered installer program\".\"\"\""
   ]
  },
  {
   "cell_type": "code",
   "execution_count": 17,
   "id": "7931533b-0b23-415f-b28f-be4914ef4e92",
   "metadata": {},
   "outputs": [
    {
     "data": {
      "text/plain": [
       "' There are 68 built-in python functions. These functions perform a specific task and can be used in any program depending on the \\nrequirement of the user.some functions are :-\\n> print() function\\n> type() function\\n> input() function\\n> max() function , and so on .'"
      ]
     },
     "execution_count": 17,
     "metadata": {},
     "output_type": "execute_result"
    }
   ],
   "source": [
    "# Question 11\n",
    "# Answer\n",
    "\"\"\" There are 68 built-in python functions. These functions perform a specific task and can be used in any program depending on the \n",
    "requirement of the user.some functions are :-\n",
    "> print() function\n",
    "> type() function\n",
    "> input() function\n",
    "> max() function , and so on .\"\"\""
   ]
  },
  {
   "cell_type": "code",
   "execution_count": 18,
   "id": "778f52a4-9d24-473e-b62c-edfc768939a9",
   "metadata": {},
   "outputs": [
    {
     "data": {
      "text/plain": [
       "' An identifier can have a maximum length of 79 characters in python.'"
      ]
     },
     "execution_count": 18,
     "metadata": {},
     "output_type": "execute_result"
    }
   ],
   "source": [
    "#Question 12\n",
    "# Answer\n",
    "\"\"\" An identifier can have a maximum length of 79 characters in python.\"\"\" "
   ]
  },
  {
   "cell_type": "code",
   "execution_count": 20,
   "id": "7b630777-cf19-42ba-9bd5-eea7a68e6148",
   "metadata": {},
   "outputs": [
    {
     "data": {
      "text/plain": [
       "' Python is a simple, clean, and fast to write programming language. due to easy syntax it gained popularity not only among software engineers but also with data scientist and academic researchers.'"
      ]
     },
     "execution_count": 20,
     "metadata": {},
     "output_type": "execute_result"
    }
   ],
   "source": [
    "# question 13\n",
    "# Answer\n",
    "\"\"\" Python is a simple, clean, and fast to write programming language. due to easy syntax it gained popularity not only among software engineers but also with data scientist and academic researchers.\"\"\""
   ]
  },
  {
   "cell_type": "code",
   "execution_count": 21,
   "id": "515a42f0-0358-4798-b012-dc5174bee7cf",
   "metadata": {},
   "outputs": [
    {
     "data": {
      "text/plain": [
       "'- Memory management in python involves a private heap containing all python objects and data structures. interpreter takes \\ncare of python heap and that the programmer has no access to it.\\n- the allocation of heap space for python objects is done by python memory manager. The core api of python provides some tools \\nfor the programmer to code reliable and more robust program.\\n- python also has a build-in garbage collector which recycles all the unused memory. when an object is no longer referenced by \\nthe program the heap space it occupies can be freed.'"
      ]
     },
     "execution_count": 21,
     "metadata": {},
     "output_type": "execute_result"
    }
   ],
   "source": [
    "# Question 14\n",
    "# Answer\n",
    "\"\"\"- Memory management in python involves a private heap containing all python objects and data structures. interpreter takes \n",
    "care of python heap and that the programmer has no access to it.\n",
    "- the allocation of heap space for python objects is done by python memory manager. The core api of python provides some tools \n",
    "for the programmer to code reliable and more robust program.\n",
    "- python also has a build-in garbage collector which recycles all the unused memory. when an object is no longer referenced by \n",
    "the program the heap space it occupies can be freed.\"\"\""
   ]
  },
  {
   "cell_type": "code",
   "execution_count": 22,
   "id": "c46bb507-32e5-4448-9ca1-8ff74bbb0de8",
   "metadata": {},
   "outputs": [
    {
     "data": {
      "text/plain": [
       "\" for installing python first we download it from python.org and install it.\\n> right clicking this pc and going to properties.\\n> Clicking on the advanced system settings in the menu on the left.\\n> Clicking on the environment variables button on the bottom right.\\n> In the system variables section ,selecting the path variables and clicking on edit. the next screen will show all the \\ndirectories that are currently a part of the path variable.\\n> Clicking on new and entering pyhton's install directory.\""
      ]
     },
     "execution_count": 22,
     "metadata": {},
     "output_type": "execute_result"
    }
   ],
   "source": [
    "# Question 15\n",
    "# Answer\n",
    "\"\"\" for installing python first we download it from python.org and install it.\n",
    "> right clicking this pc and going to properties.\n",
    "> Clicking on the advanced system settings in the menu on the left.\n",
    "> Clicking on the environment variables button on the bottom right.\n",
    "> In the system variables section ,selecting the path variables and clicking on edit. the next screen will show all the \n",
    "directories that are currently a part of the path variable.\n",
    "> Clicking on new and entering pyhton's install directory.\"\"\""
   ]
  },
  {
   "cell_type": "code",
   "execution_count": 23,
   "id": "f38114be-66a7-47d2-8016-e4cda06dcac5",
   "metadata": {},
   "outputs": [
    {
     "data": {
      "text/plain": [
       "' Indentation refers to the space at the beginning of a code line. where in other programming languages the indentation in \\ncode is for readability only the indentation in python is very important.python uses indentation to indicate a block of code.'"
      ]
     },
     "execution_count": 23,
     "metadata": {},
     "output_type": "execute_result"
    }
   ],
   "source": [
    "# Question 16 \n",
    "# Answer\n",
    "\"\"\" Indentation refers to the space at the beginning of a code line. where in other programming languages the indentation in \n",
    "code is for readability only the indentation in python is very important.python uses indentation to indicate a block of code.\"\"\""
   ]
  },
  {
   "cell_type": "code",
   "execution_count": null,
   "id": "6de06610-233f-445f-8bbb-e0215ca927ea",
   "metadata": {},
   "outputs": [],
   "source": []
  }
 ],
 "metadata": {
  "kernelspec": {
   "display_name": "Python 3 (ipykernel)",
   "language": "python",
   "name": "python3"
  },
  "language_info": {
   "codemirror_mode": {
    "name": "ipython",
    "version": 3
   },
   "file_extension": ".py",
   "mimetype": "text/x-python",
   "name": "python",
   "nbconvert_exporter": "python",
   "pygments_lexer": "ipython3",
   "version": "3.10.8"
  }
 },
 "nbformat": 4,
 "nbformat_minor": 5
}
