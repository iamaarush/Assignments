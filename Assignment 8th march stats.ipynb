{
 "cells": [
  {
   "cell_type": "markdown",
   "id": "215d5aeb-49fd-47cd-bc9f-4c103c09caf8",
   "metadata": {},
   "source": [
    "# Question 1\n",
    "\n",
    "What is the Probability density function?"
   ]
  },
  {
   "cell_type": "code",
   "execution_count": null,
   "id": "4ba01717-5d17-4bdd-b266-35fcd41d2edf",
   "metadata": {},
   "outputs": [],
   "source": [
    "Probability density function is a function that provides the likelihood that the value of a random variable will fall\n",
    "between a certain range of values. We use the probability density function in the case of continuous random variables.\n",
    "For discrete random variables, we use the probability mass function which is analogous to the probability density \n",
    "function.\n",
    "\n",
    "The PDF of a continuous random variable is defined as the derivative of its cumulative distribution function (CDF). \n",
    "The CDF gives the probability that a random variable takes on a value less than or equal to a given value.\n",
    "\n",
    "The PDF is used to calculate the probability that a random variable falls within a certain range of values, by \n",
    "integrating the PDF over that range. The area under the PDF curve represents the total probability of all possible\n",
    "values of the random variable.\n",
    "\n",
    "In summary, the PDF provides a way to quantify the probability distribution of a continuous random variable, making it \n",
    "a useful tool in many fields including statistics, physics, and engineering.\n"
   ]
  },
  {
   "cell_type": "markdown",
   "id": "6bcf9d1c-d03b-4aaa-bb28-0c50b28d01fe",
   "metadata": {},
   "source": [
    "# Question 2\n",
    "\n",
    "What are the types of Probability distribution?"
   ]
  },
  {
   "cell_type": "code",
   "execution_count": null,
   "id": "25a38405-c542-41ad-a270-6bb5ed39c9e2",
   "metadata": {},
   "outputs": [],
   "source": [
    "There are many types of probability distributions, but some of the most common ones are:-\n",
    "1. Normal distribution: Also known as the Gaussian distribution, it is one of the most important distributions \n",
    "in statistics. It is often used to model natural phenomena such as the heights and weights of a population, and\n",
    "it is characterized by a bell-shaped curve.\n",
    "\n",
    "2. Binomial distribution: This distribution describes the number of successes in a fixed number of independent trials,\n",
    "where each trial has the same probability of success. It is often used in experiments where there are only two \n",
    "possible outcomes, such as coin flips or medical treatments.\n",
    "\n",
    "3. Poisson distribution: This distribution describes the number of occurrences of a rare event within a fixed time \n",
    "or space. It is often used in modeling the number of customers arriving at a store or the number of defects in a \n",
    "manufacturing process.\n",
    "\n",
    "4. Exponential distribution: This distribution describes the time between two successive events in a Poisson process.\n",
    "It is often used in modeling the lifetimes of electronic components or the time between customer arrivals at a store.\n",
    "\n",
    "5. Uniform distribution: This distribution describes a random variable that is equally likely to take on any value \n",
    "within a certain range. It is often used in simulation models or in random number generation."
   ]
  },
  {
   "cell_type": "markdown",
   "id": "a7d64dcd-8c50-4dc7-bb1c-cefe6c1a423a",
   "metadata": {},
   "source": [
    "# Question 3\n",
    "\n",
    "Write a Python function to calculate the probability density function of a normal distribution with\n",
    "given mean and standard deviation at a given point."
   ]
  },
  {
   "cell_type": "code",
   "execution_count": 1,
   "id": "20cf4a7d-7d73-4d86-823e-7d53d2ec6511",
   "metadata": {},
   "outputs": [],
   "source": [
    "import math\n",
    "\n",
    "def normal_pdf(x, mean, std_dev):\n",
    "    variance = std_dev ** 2\n",
    "    exponent = -((x - mean) ** 2) / (2 * variance)\n",
    "    coefficient = 1 / math.sqrt(2 * math.pi * variance)\n",
    "    pdf = coefficient * math.exp(exponent)\n",
    "    return pdf"
   ]
  },
  {
   "cell_type": "code",
   "execution_count": 2,
   "id": "19c5b5b4-5754-44f9-9f0d-a49a57348190",
   "metadata": {},
   "outputs": [
    {
     "data": {
      "text/plain": [
       "0.035993977675458706"
      ]
     },
     "execution_count": 2,
     "metadata": {},
     "output_type": "execute_result"
    }
   ],
   "source": [
    "normal_pdf(x=5 , mean= 2 , std_dev=1.5 )"
   ]
  },
  {
   "cell_type": "markdown",
   "id": "38cd8caa-3e70-4ab1-a0b1-4040cdd0711c",
   "metadata": {},
   "source": [
    "# Question 4\n",
    "\n",
    "What are the properties of Binomial distribution? Give two examples of events where binomial\n",
    "distribution can be applied."
   ]
  },
  {
   "cell_type": "code",
   "execution_count": null,
   "id": "80a17d44-16d5-4bd4-a721-2383a67d56fa",
   "metadata": {},
   "outputs": [],
   "source": [
    "The Binomial distribution is a discrete probability distribution that describes the number of successes in a fixed\n",
    "number of independent trials, where each trial has the same probability of success. The key properties of the \n",
    "Binomial distribution are:\n",
    "    \n",
    "1. The number of trials n is fixed and known in advance.\n",
    "\n",
    "2. Each trial is independent of the others.\n",
    "\n",
    "3. There are only two possible outcomes for each trial: success or failure.\n",
    "\n",
    "4. The probability of success p is the same for each trial.\n",
    " \n",
    "    Examples - \n",
    "\n",
    "1. Flipping a coin multiple times and counting the number of times it lands on heads. Here, each coin flip is an \n",
    "independent trial, and there are only two possible outcomes (heads or tails) with a fixed probability of success\n",
    "(0.5 assuming a fair coin).\n",
    "\n",
    "2. Testing a new drug to see how many patients respond positively. Here, each patient is an independent trial, and\n",
    "there are only two possible outcomes (response or no response) with a fixed probability of success (based on the\n",
    "effectiveness of the drug)."
   ]
  },
  {
   "cell_type": "markdown",
   "id": "38da666a-399a-460a-bed8-7471fb7033c1",
   "metadata": {},
   "source": [
    "# Question 5\n",
    "\n",
    "Generate a random sample of size 1000 from a binomial distribution with probability of success 0.4\n",
    "and plot a histogram of the results using matplotlib."
   ]
  },
  {
   "cell_type": "code",
   "execution_count": 8,
   "id": "4d9cca12-c8a5-4490-994c-2748c4362b09",
   "metadata": {},
   "outputs": [
    {
     "data": {
      "image/png": "[encoded data removed]",
      "text/plain": [
       "<Figure size 640x480 with 1 Axes>"
      ]
     },
     "metadata": {},
     "output_type": "display_data"
    }
   ],
   "source": [
    "import numpy as np \n",
    "import matplotlib.pyplot as plt\n",
    "\n",
    "# Generate a random sample of size 1000 from a Binomial distribution\n",
    "n = 1000\n",
    "p = 0.4\n",
    "sample = np.random.binomial(n,p,size=1000)\n",
    "\n",
    "# Plot a histogram of the results using Fredman diaconis rule i.e. bins='fd'\n",
    "plt.hist(sample ,bins='fd' , density=True , edgecolor= 'yellow' )\n",
    "plt.xlabel('Number of Successes')\n",
    "plt.ylabel('Probability')\n",
    "plt.title('Binomial Distribution (n=1000, p=0.4)')\n",
    "plt.show()"
   ]
  },
  {
   "cell_type": "markdown",
   "id": "e8579646-efec-4f6a-8637-d9279fefbeeb",
   "metadata": {},
   "source": [
    "# Question 6\n",
    "\n",
    "Write a Python function to calculate the cumulative distribution function of a Poisson distribution\n",
    "with given mean at a given point."
   ]
  },
  {
   "cell_type": "code",
   "execution_count": 9,
   "id": "2fe5898c-a085-4bf8-ae5a-f3258b02df85",
   "metadata": {},
   "outputs": [],
   "source": [
    "import math\n",
    "\n",
    "def poisson_cdf(mean, point):\n",
    "    \"\"\"\n",
    "    Calculates the cumulative distribution function of a \n",
    "    Poisson distribution with given mean at a given point\n",
    "    \"\"\"\n",
    "    cdf = 0\n",
    "    for k in range(point + 1):\n",
    "        cdf = cdf + math.exp(-mean) * pow(mean, k) / math.factorial(k)\n",
    "    return cdf"
   ]
  },
  {
   "cell_type": "code",
   "execution_count": 10,
   "id": "3e94d252-3890-4e4a-9a08-a88c7aaa85b0",
   "metadata": {},
   "outputs": [
    {
     "data": {
      "text/plain": [
       "0.06196880441665896"
      ]
     },
     "execution_count": 10,
     "metadata": {},
     "output_type": "execute_result"
    }
   ],
   "source": [
    "poisson_cdf(mean=6 , point=2)"
   ]
  },
  {
   "cell_type": "code",
   "execution_count": 11,
   "id": "3ade1dc0-97c2-4ce0-afd6-4c159653b7f0",
   "metadata": {},
   "outputs": [
    {
     "data": {
      "text/plain": [
       "0.06196880441665898"
      ]
     },
     "execution_count": 11,
     "metadata": {},
     "output_type": "execute_result"
    }
   ],
   "source": [
    "# Verifying with scipy.stats\n",
    "\n",
    "from scipy.stats import poisson\n",
    "poisson.cdf(2,mu=6)"
   ]
  },
  {
   "cell_type": "markdown",
   "id": "19411b7f-6c14-4d68-955a-771f663a59ed",
   "metadata": {},
   "source": [
    "# Quesstion 7\n",
    "\n",
    "How Binomial distribution different from Poisson distribution?"
   ]
  },
  {
   "cell_type": "code",
   "execution_count": null,
   "id": "fdaa7a5a-4573-4cb5-be88-c8f58cb603ee",
   "metadata": {},
   "outputs": [],
   "source": [
    "Binomial distribution describes the distribution of binary data from a finite sample. Thus it gives the probability\n",
    "of getting r events out of n trials. \n",
    "\n",
    "Poisson distribution describes the distribution of binary data from an infinite sample. Thus it gives the probability\n",
    "of getting r events in a population."
   ]
  },
  {
   "cell_type": "markdown",
   "id": "da4b62a3-5cfc-44d6-9f58-0507f8100e44",
   "metadata": {},
   "source": [
    "# Question 8\n",
    "\n",
    "Generate a random sample of size 1000 from a Poisson distribution with mean 5 and calculate the\n",
    "sample mean and variance."
   ]
  },
  {
   "cell_type": "code",
   "execution_count": 8,
   "id": "0f9a5cb4-e76b-47d0-8a2f-60c6f45e2dad",
   "metadata": {},
   "outputs": [
    {
     "name": "stdout",
     "output_type": "stream",
     "text": [
      "Poission Sample Mean     : 5.07\n",
      "Poission Sample Variance : 5.1991000000000005\n"
     ]
    }
   ],
   "source": [
    "import numpy as np\n",
    "\n",
    "# Set the random seed for reproducibility\n",
    "np.random.seed(40)\n",
    "\n",
    "# Generate a random sample of size 1000 from a Poisson distribution with mean 5\n",
    "sample = np.random.poisson(lam=5, size=1000)\n",
    "\n",
    "# Calculate the sample mean and variance\n",
    "sample_mean = np.mean(sample)\n",
    "sample_var = np.var(sample)\n",
    "\n",
    "# Printing the output\n",
    "print(\"Poission Sample Mean     :\", sample_mean)\n",
    "print(\"Poission Sample Variance :\", sample_var)"
   ]
  },
  {
   "cell_type": "markdown",
   "id": "3df6157b-86fa-48e5-afab-35e5a2db02c8",
   "metadata": {},
   "source": [
    "# Question 9\n",
    "\n",
    "How mean and variance are related in Binomial distribution and Poisson distribution?"
   ]
  },
  {
   "cell_type": "code",
   "execution_count": null,
   "id": "42b2e306-14c4-4ccc-80f7-90c2aab133f2",
   "metadata": {},
   "outputs": [],
   "source": [
    "1. Binomial Distribution -\n",
    "In the binomial distribution, the mean (or expected value) and variance are related as follows:\n",
    "Mean = np\n",
    "Variance = np(1-p)\n",
    "Where n is the number of trials, p is the probability of success in each trial, np is the expected number of successes,\n",
    "and np(1-p) is the variance.\n",
    "\n",
    "2. Poission Distribution - \n",
    "In the Poisson distribution, the mean (or expected value) and variance are related as follows:\n",
    "Mean = Variance = λ\n",
    "where λ is the average number of rare events in the interval."
   ]
  },
  {
   "cell_type": "markdown",
   "id": "7bb25a7c-b7f8-4d2a-b4cd-0a90bdf9fc6e",
   "metadata": {},
   "source": [
    "# Question 10\n",
    "\n",
    "In normal distribution with respect to mean position, where does the least frequent data appear?"
   ]
  },
  {
   "cell_type": "code",
   "execution_count": null,
   "id": "979ba29d-00a8-4bf7-9d83-d9c9d27863c3",
   "metadata": {},
   "outputs": [],
   "source": [
    "In a normal distribution, the least frequent data appear in the tails of the distribution, which are the regions that are\n",
    "farthest from the mean. The tails of a normal distribution represent the extreme values of the variable being measured, \n",
    "which are less common than the values closer to the mean.\n",
    "\n",
    "For example, if we have a normal distribution with mean 0 and standard deviation 1, the least frequent data will appear\n",
    "in the tails of the distribution, which are the regions beyond 3 standard deviations from the mean. This is because the\n",
    "normal distribution is symmetric around the mean, and the probability density decreases rapidly as we move away from the\n",
    "mean towards the tails of the distribution. The probability of observing a value in the tails of a normal distribution is\n",
    "relatively low compared to the probability of observing a value closer to the mean."
   ]
  }
 ],
 "metadata": {
  "kernelspec": {
   "display_name": "Python 3 (ipykernel)",
   "language": "python",
   "name": "python3"
  },
  "language_info": {
   "codemirror_mode": {
    "name": "ipython",
    "version": 3
   },
   "file_extension": ".py",
   "mimetype": "text/x-python",
   "name": "python",
   "nbconvert_exporter": "python",
   "pygments_lexer": "ipython3",
   "version": "3.10.8"
  }
 },
 "nbformat": 4,
 "nbformat_minor": 5
}
