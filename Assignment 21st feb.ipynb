{
 "cells": [
  {
   "cell_type": "code",
   "execution_count": null,
   "id": "9b7c3157-7247-4b7f-8497-fdf65a7f55b7",
   "metadata": {},
   "outputs": [],
   "source": [
    "# Question 1 \n",
    "\n",
    "Web scraping is an automatic method to obtain large amount of data from websites. most of this data is unstructured \n",
    "data in an html format which is then converted into structured data in a spreadsheet or database so that it can be used\n",
    "in various applications. \n",
    "\n",
    "Web scraping is used for multiple things some of those are -\n",
    "\n",
    "1. Price Monitering\n",
    "Web scraping can be used by companies to scrap the product data for their products and competing products as well to see \n",
    "how it impacts their pricing strategies. companies can use this data to fix the optimal pricing for their products so \n",
    "that they can obtain maximum revenue.\n",
    "\n",
    "2. Market research\n",
    "WEb scraping can be used for market research by companies. high quality web scraped data obtained in large volumes can\n",
    "be very helpful for companies in analyzing consumer trends and understanding which direction the company should move in\n",
    "the future.\n",
    "\n",
    "3. Sentiment Analysis \n",
    "If companies want to understand the general sentiment for their product among their cunsumers then sentiment analysis is\n",
    "must. companies can use web scraping to collect data from social media websites such as facebook, instagram as to what\n",
    " the general sentiment about their product is. this will help them in creating products that people desire and moving \n",
    "ahead of their competition."
   ]
  },
  {
   "cell_type": "code",
   "execution_count": null,
   "id": "0f51f1e9-7eca-4046-80d3-86225a02a796",
   "metadata": {},
   "outputs": [],
   "source": []
  },
  {
   "cell_type": "code",
   "execution_count": null,
   "id": "9316a15a-270d-47a2-b838-44c47f8442e1",
   "metadata": {},
   "outputs": [],
   "source": [
    "# Question 2\n",
    "\n",
    "The most common methods used for web scraping are - \n",
    "\n",
    "1. Human copy and paste\n",
    "2. Text pattern matching \n",
    "3. HTML parsing\n",
    "4. HTTP Programmming \n",
    "5. DOM Parsing \n",
    "6. Vertical aggregation \n",
    "7. Computer vision web page analysis\n",
    "8. Semantic annotation recognizing"
   ]
  },
  {
   "cell_type": "code",
   "execution_count": null,
   "id": "1f74b155-5873-4fda-8931-658ded22e959",
   "metadata": {},
   "outputs": [],
   "source": []
  },
  {
   "cell_type": "code",
   "execution_count": null,
   "id": "1163b9b9-12b5-4f81-a488-55db11f1293c",
   "metadata": {},
   "outputs": [],
   "source": [
    "# Question 3\n",
    "\n",
    "Beautiful soup is a python library that makes it easy to scrape information from web pages. It sits atop in HTML or XML \n",
    "parser and provides pythonic idioms for iterating, searching and modifying the parse tree. \n",
    "The beautiful soup library helps with isolating titles and links from webpages. It can extract all of the text from HTML \n",
    "tags and alter the HTML in the document with which we are working. \n",
    "\n",
    "Some key features that make beautiful soup unique are - \n",
    "1.Beautiful soup provides a few simple methods and pythonic idioms for navigating , searching and modifying a parse tree.\n",
    "\n",
    "2. Beautiful soup automatically converts incoming documents to unicode and outgoing documents to UTF - 8.\n",
    "\n",
    "3. Beautiful soup sits on top of popular python parsers like lxml and html5lib which allows us to try out different\n",
    "parsing strategies or trade speed for flexibility.   "
   ]
  },
  {
   "cell_type": "code",
   "execution_count": null,
   "id": "85bfde60-ee69-4361-9fb9-f4b79590907e",
   "metadata": {},
   "outputs": [],
   "source": []
  },
  {
   "cell_type": "code",
   "execution_count": null,
   "id": "27aa1bf5-f092-4a72-92c0-1205ebc44e08",
   "metadata": {},
   "outputs": [],
   "source": [
    "# Question 4\n",
    "\n",
    "Flask is lightweight framework to build websites we will use this to parse our collected data and display it as HTMl in \n",
    "a new HTML file. the request module allows us to send HTTP requests to the website we want to scrap. the first line \n",
    "import the flask class and the render template method from the flask library.\n"
   ]
  },
  {
   "cell_type": "code",
   "execution_count": null,
   "id": "4632d893-38ee-4548-8d75-b824ded4114e",
   "metadata": {},
   "outputs": [],
   "source": []
  },
  {
   "cell_type": "code",
   "execution_count": null,
   "id": "ec20dad4-5932-4b9d-851d-2df89073474b",
   "metadata": {},
   "outputs": [],
   "source": [
    "# Question 5\n",
    "\n",
    "The AWS services used in this project are AWS codepipeline and AWS beanstalk. \n",
    "\n",
    "the use of these two services are -\n",
    "Codepipeline - AWS codepipeline is a continuous delivery service you can use to model , visualize , and automates the\n",
    "steps required to release your software. You can quickly model and configure the different stages of a software release\n",
    "process. codepipeline automates the steps required to release your software changes continuously. \n",
    "\n",
    "Beanstalk - With elastic beanstalk you can quickly deploy and manage applications in the AWS cloud without having to \n",
    "learn about the infrastructure that runs those applications. Elastic beanstalk reduces management complexity without\n",
    "restricting choice or control. you simply upload your application and beanstalk automatically handles the details \n",
    "of capacity provisioning , load balancing , scaling and application health monitering. \n"
   ]
  }
 ],
 "metadata": {
  "kernelspec": {
   "display_name": "Python 3 (ipykernel)",
   "language": "python",
   "name": "python3"
  },
  "language_info": {
   "codemirror_mode": {
    "name": "ipython",
    "version": 3
   },
   "file_extension": ".py",
   "mimetype": "text/x-python",
   "name": "python",
   "nbconvert_exporter": "python",
   "pygments_lexer": "ipython3",
   "version": "3.10.8"
  }
 },
 "nbformat": 4,
 "nbformat_minor": 5
}
