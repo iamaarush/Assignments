{
 "cells": [
  {
   "cell_type": "code",
   "execution_count": null,
   "id": "1e6494dc-9b87-4e26-ae36-3df6de1945a5",
   "metadata": {},
   "outputs": [],
   "source": [
    "# Question 1\n",
    "\n",
    "API stands for application programming interface which is a set of definitions and protocols for building and integrating \n",
    "application software.\n",
    "APIs are used in web applications to connect user facing front ends with critical back end functionality and data. APIs are \n",
    "used to deliver material by streaming services such as spotify and netflix."
   ]
  },
  {
   "cell_type": "code",
   "execution_count": null,
   "id": "f87c6f78-5c38-489d-9e11-c7304d23977c",
   "metadata": {},
   "outputs": [],
   "source": []
  },
  {
   "cell_type": "code",
   "execution_count": null,
   "id": "685f3690-a0af-4eeb-bac5-0886e801d282",
   "metadata": {},
   "outputs": [],
   "source": [
    "# Question 2\n",
    "\n",
    "Some advantages of APIs are - \n",
    "\n",
    "Applications - access to APIs ensure more flexibility in information transfer process.\n",
    "\n",
    "Reach - APIs let you create layers in apps inorder to distribute information to different audiences.\n",
    "\n",
    "Customization -  Firthermore it can serve as a solution to create different experience for users , letting protocols ,\n",
    "functions and commands be adapted according to specific demands.\n",
    "\n",
    "Efficiency - When you have content that is automatically published and made available on different channels \n",
    "simultaneously APIs allow for more efficient data distribution.\n",
    "\n",
    "Adaptability - One of the greatest benefits of APIs is the abality it has to adapt to changes through data migration\n",
    "and flexibilty of services.\n",
    "\n",
    "\n",
    "Some disadvantages of APIs are -\n",
    "\n",
    "Security concerns - API infrastructure can be vulnerable to security breaches such as SQL injection attacks and \n",
    "cross site scripting attacks making it crucial to implement security measures to protect against these threats.\n",
    "\n",
    "Complexity - APIs can be complex requiring a significant amount of developement effort to implement and maintain.\n",
    "\n",
    "Compatibilty issues - APIs can have compatability issues between differnt versions of the same software system \n",
    "or between differnt systems which can lead to errors and system failures.\n",
    "\n",
    "Dependency on third party developers - APIs rely on third party developers to create applications that integrate with the \n",
    "software system. This can create dependencies that are outside of the control of the company that owns the software syytem.\n",
    "\n",
    "Governance and management - APIs require proper governance and management to ensure they are being used correctly and \n",
    "consistently across different applications and systems."
   ]
  },
  {
   "cell_type": "code",
   "execution_count": null,
   "id": "54061ff1-a52a-43c9-b403-ef99c4e469e9",
   "metadata": {},
   "outputs": [],
   "source": []
  },
  {
   "cell_type": "code",
   "execution_count": null,
   "id": "dad5b5e9-107d-4bf6-9461-f5d4b2e1caa1",
   "metadata": {},
   "outputs": [],
   "source": [
    "# Question 3\n",
    "\n",
    "Web API is an API as the name suggests it can be accessed over the web using the HTTP protocol.It is a framework that\n",
    "helps you to create and develop HTTP based RESTFUL services.web API is used in either a web server or a web browser.\n",
    "Basically Web API is a web developement concept. It is limited to web applications client side and also it does not\n",
    "include a web server or web browser details.\n",
    "\n",
    "# Key differences between API and web API are -\n",
    "\n",
    "All Web services are APIS but all APIs are not web services.\n",
    "\n",
    "Web service supports XML while API supports XML and JSON.\n",
    "\n",
    "Web service supports only HTTP protocol whereas API supports HTTP/HTTPS protocol.\n",
    "\n",
    "Web service is used for REST , SOAP and XML-RPC for communication while API is used for any style of communication."
   ]
  },
  {
   "cell_type": "code",
   "execution_count": null,
   "id": "8cfa04af-c3dd-4fab-ad94-ab19b36cede9",
   "metadata": {},
   "outputs": [],
   "source": []
  },
  {
   "cell_type": "code",
   "execution_count": null,
   "id": "553d3ba6-2dca-4ad2-9a4e-55dd4eb2f28d",
   "metadata": {},
   "outputs": [],
   "source": [
    "# Question 4\n",
    "\n",
    "REST (Representational State Transfer) is an architectural approach for communication purposes often used\n",
    "in various web services development. It is a stateless client-server model. Web services that are defined \n",
    "on the concept of REST are RESTful web services. When a client makes a request via RESTful API, it transfers \n",
    "the representation of the state of the resources to the server. This information can be transferred in various \n",
    "formats via HTTP like, JSON, HTML, XLT, and Plain Text, but JSON is the most common language used due to its easy \n",
    "readability by machines and humans.\n",
    "\n",
    "SOAP (Simple Object Access Protocol) is an XML-based protocol for accessing web services over HTTP. It is developed\n",
    "as an intermediate language so that applications built in various programming languages can communicate with each \n",
    "other effectively. Web services use SOAP for exchange of XML data between applications. SOAP supports both stateful\n",
    "and stateless operations.\n",
    "\n",
    "Shortcomings of SOAP are -\n",
    "\n",
    "API calls are not cached\n",
    "\n",
    "Extremely Complicated \n",
    "\n",
    "No choice of data formats\n",
    "\n",
    "Requires more Bandwith"
   ]
  },
  {
   "cell_type": "code",
   "execution_count": null,
   "id": "db165776-cbeb-419f-9516-e10c07c0e5bb",
   "metadata": {},
   "outputs": [],
   "source": []
  },
  {
   "cell_type": "code",
   "execution_count": null,
   "id": "f5279411-5a79-406d-ae61-96b4eca8d4d0",
   "metadata": {},
   "outputs": [],
   "source": [
    "# Question 5\n",
    "\n",
    "Key differences between REST and SOAP are-\n",
    "\n",
    "SOAP stands for Simple Object Access Protocol where as REST stands for Representational State Transfer.\n",
    "\n",
    "SOAP is a Protocol where REST is an architectural Pattern.\n",
    "\n",
    "SOAP uses service interfaces to expose its functionality to client applications while REST uses Uniform \n",
    "Service locators to access to the components on the hardware device.\n",
    "\n",
    "SOAP needs more bandwidth for its usage whereas REST doesn’t need much bandwidth.\n",
    "\n",
    "SOAP only works with XML formats whereas REST work with plain text, XML, HTML and JSON."
   ]
  }
 ],
 "metadata": {
  "kernelspec": {
   "display_name": "Python 3 (ipykernel)",
   "language": "python",
   "name": "python3"
  },
  "language_info": {
   "codemirror_mode": {
    "name": "ipython",
    "version": 3
   },
   "file_extension": ".py",
   "mimetype": "text/x-python",
   "name": "python",
   "nbconvert_exporter": "python",
   "pygments_lexer": "ipython3",
   "version": "3.10.8"
  }
 },
 "nbformat": 4,
 "nbformat_minor": 5
}
