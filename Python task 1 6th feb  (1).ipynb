{
 "cells": [
  {
   "cell_type": "code",
   "execution_count": 26,
   "id": "e303ef58-7bee-49ca-8fb8-079881095a09",
   "metadata": {},
   "outputs": [
    {
     "name": "stdout",
     "output_type": "stream",
     "text": [
      "[1, 2, 3, 4, 44, 55, 66, 34, 56, 78, 89, 34, 1, 2, 3, 1, 4, 34, 55, 67, 78, 89, 45, 22, 61, 34, 56]\n",
      "The product of the numeric values from the given list is 4134711838987085478833841242112000\n"
     ]
    }
   ],
   "source": [
    "# Question 1  function to product all the numeric values present in list.\n",
    "\n",
    "list1 = [1,2,3,4, [44,55,66, True], False, (34,56,78,89,34), {1,2,3,3,2,1}, {1:34, \"key2\": [55, 67, 78, 89], 4: (45,\n",
    "22, 61, 34)}, [56, 'data science'], 'Machine Learning']\n",
    "\n",
    "\n",
    "from functools import reduce\n",
    "def product(a):\n",
    "    flat_list=[]\n",
    "    for i in a:\n",
    "        if type(i) == list or type (i) == tuple or type(i)== set :\n",
    "            for j in i:\n",
    "                if type (j)== int:\n",
    "                    flat_list.append(j)\n",
    "                \n",
    "        elif type(i) == dict:\n",
    "            for k in i.keys():\n",
    "                if type(k) == int:\n",
    "                    flat_list.append(k)\n",
    "            for n in i.values():\n",
    "                if type(n) == int:\n",
    "                    flat_list.append(n)\n",
    "                elif type(n)==list or type (n)== tuple :\n",
    "                    for m in n:\n",
    "                        if type(m) == int: \n",
    "                            flat_list.append(m)\n",
    "        else:\n",
    "            if type(i)== int:\n",
    "                flat_list.append(i)\n",
    "    return flat_list\n",
    "flist=product(list1)\n",
    "print(flist)  \n",
    "print(\"The product of the numeric values from the given list is\"  , reduce(lambda x,y: x*y ,flist)) \n",
    "    "
   ]
  },
  {
   "cell_type": "code",
   "execution_count": 19,
   "id": "1676727e-e5ce-4ab2-b05a-ae329bb85db0",
   "metadata": {},
   "outputs": [
    {
     "name": "stdin",
     "output_type": "stream",
     "text": [
      "Enter your message I want to become a Data Scientist.\n"
     ]
    },
    {
     "name": "stdout",
     "output_type": "stream",
     "text": [
      "Encrypted message i$wznt$to$yexome$z$dztz$sxientist.\n"
     ]
    }
   ],
   "source": [
    "# Question 2   program for encrypting a message.\n",
    "\n",
    "s=input(\"Enter your message\")\n",
    "t=s.lower()\n",
    "dic ={\"a\":\"z\" , \"b\":\"y\" , \"c\":\"x\" , \" \":\"$\"}\n",
    "for i in dic:\n",
    "    t=t.replace(i,dic[i])\n",
    "print(\"Encrypted message\" ,   t)    \n"
   ]
  },
  {
   "cell_type": "code",
   "execution_count": null,
   "id": "71ac9b66-18d6-49ed-b73a-64f03d8010ca",
   "metadata": {},
   "outputs": [],
   "source": []
  }
 ],
 "metadata": {
  "kernelspec": {
   "display_name": "Python 3 (ipykernel)",
   "language": "python",
   "name": "python3"
  },
  "language_info": {
   "codemirror_mode": {
    "name": "ipython",
    "version": 3
   },
   "file_extension": ".py",
   "mimetype": "text/x-python",
   "name": "python",
   "nbconvert_exporter": "python",
   "pygments_lexer": "ipython3",
   "version": "3.10.8"
  }
 },
 "nbformat": 4,
 "nbformat_minor": 5
}
