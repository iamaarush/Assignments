{
 "cells": [
  {
   "cell_type": "code",
   "execution_count": 5,
   "id": "bcc4d368-0035-4655-a66d-e3f883055e75",
   "metadata": {},
   "outputs": [],
   "source": [
    "# Question 1\n",
    "\n",
    "\"\"\"def keyword is used to create a function. example- we create a function test so the syntax will be def test().\"\"\"\n",
    "\n",
    "# The function to return the odd numbers in the range of 1 to 25 is given below:-\n",
    "\n",
    "def odd_numb():\n",
    "    l=[]\n",
    "    n= range(1,25)\n",
    "    for i in n:\n",
    "        if i%2!=0:\n",
    "            l.append(i)\n",
    "    return l"
   ]
  },
  {
   "cell_type": "code",
   "execution_count": 6,
   "id": "098375d9-3dca-40c3-88e0-04b3ba294889",
   "metadata": {},
   "outputs": [
    {
     "data": {
      "text/plain": [
       "[1, 3, 5, 7, 9, 11, 13, 15, 17, 19, 21, 23]"
      ]
     },
     "execution_count": 6,
     "metadata": {},
     "output_type": "execute_result"
    }
   ],
   "source": [
    "odd_numb()"
   ]
  },
  {
   "cell_type": "code",
   "execution_count": 23,
   "id": "aa44b1ce-fb9f-4141-9fb7-b29e43540ccc",
   "metadata": {},
   "outputs": [],
   "source": [
    "# Question 2\n",
    "\n",
    "\"\"\"*args allows us to pass variable number of non-keyword arguments in the function. while **kwargs allows us to pass\n",
    "variable number of keyword arguments in the function .\"\"\"\n",
    " # Example -\n",
    "def add(*args):\n",
    "    total = 0\n",
    "    for i in args:\n",
    "        total=total+i\n",
    "    return total\n",
    "# we can give n number of arguments in the function.we can give any name in the place of args.\n",
    "\n",
    "# example of **kwargs\n",
    "\n",
    "def total_fruits(**kwargs):\n",
    "    total = 0\n",
    "    for j in kwargs.values():\n",
    "        total = total+j\n",
    "    return total\n",
    "# we can give n number of keyword arguments in kwargs.  "
   ]
  },
  {
   "cell_type": "code",
   "execution_count": 41,
   "id": "05623856-d5cc-4f45-b33d-5be66d5b6d92",
   "metadata": {},
   "outputs": [
    {
     "name": "stdout",
     "output_type": "stream",
     "text": [
      "2\n",
      "4\n",
      "6\n",
      "8\n",
      "10\n"
     ]
    }
   ],
   "source": [
    "# Question 3\n",
    "\n",
    "\"\"\"Iterator is an object that is used to iterate over iterable objects like list,tuple,dict and sets. The method used to\n",
    "initialize the iterator object is iter() method and the method used for iteration is next() method.\"\"\" \n",
    "\n",
    "l=[2,4,6,8,10,12,14,16,18,20] # as list is an iterable object we have to change it to iterator object. \n",
    "                             \n",
    "l1=iter(l) # in here we are changing the given list into iterator object using iter method.\n",
    "\n",
    "print(next(l1)) \n",
    "print(next(l1))\n",
    "print(next(l1))\n",
    "print(next(l1))\n",
    "print(next(l1))"
   ]
  },
  {
   "cell_type": "code",
   "execution_count": 44,
   "id": "4b76cb36-6fa7-49ea-b9ff-f12749969e41",
   "metadata": {},
   "outputs": [],
   "source": [
    "# Question 4\n",
    "\n",
    "\"\"\"A generator function is defined like a normal function but whenever it needs to generate a vlue it does so with the \n",
    " yield keyword rather than return. if the function contains yield keyword it automatically becomes a generator function. \n",
    "yield keyword is used to form a generator function .\"\"\"\n",
    "\n",
    "# Example- printing numbers from range 0 to 10\n",
    "\n",
    "def test_num():\n",
    "    a=0\n",
    "    for i in range(10):\n",
    "        yield i\n",
    "# test_ num is basically a generator function. Generator function return a generator object. we use for in loop for the outcome of generator function."
   ]
  },
  {
   "cell_type": "code",
   "execution_count": 47,
   "id": "01c716df-5c33-44be-8ad9-09a1ae23a218",
   "metadata": {},
   "outputs": [],
   "source": [
    "t=test_num()"
   ]
  },
  {
   "cell_type": "code",
   "execution_count": 48,
   "id": "3f22a59a-2f50-45da-9b3c-59bed20bff38",
   "metadata": {},
   "outputs": [
    {
     "name": "stdout",
     "output_type": "stream",
     "text": [
      "0\n",
      "1\n",
      "2\n",
      "3\n",
      "4\n",
      "5\n",
      "6\n",
      "7\n",
      "8\n",
      "9\n"
     ]
    }
   ],
   "source": [
    "for i in t:\n",
    "    print (i)"
   ]
  },
  {
   "cell_type": "code",
   "execution_count": 116,
   "id": "30f9652f-1161-47f9-b9fd-71bceaeaad08",
   "metadata": {},
   "outputs": [
    {
     "name": "stdout",
     "output_type": "stream",
     "text": [
      "The first 20 prime numbers are -\n",
      "1\n",
      "3\n",
      "5\n",
      "7\n",
      "9\n",
      "11\n",
      "13\n",
      "15\n",
      "17\n",
      "19\n",
      "21\n",
      "23\n",
      "25\n",
      "27\n",
      "29\n",
      "31\n",
      "33\n",
      "35\n",
      "37\n",
      "39\n"
     ]
    }
   ],
   "source": [
    "# Question 5\n",
    "\n",
    "l=[]\n",
    "def prime_numb():\n",
    "    for i in range(1000):\n",
    "        if i%2!=0:\n",
    "            yield i    \n",
    "    \n",
    "for j in prime_numb():\n",
    "    l.append(j)        \n",
    "\n",
    "l1=iter(l)\n",
    "\n",
    "print(\"The first 20 prime numbers are -\")\n",
    "print(next(l1))\n",
    "print(next(l1))\n",
    "print(next(l1))\n",
    "print(next(l1))\n",
    "print(next(l1))\n",
    "print(next(l1))\n",
    "print(next(l1))\n",
    "print(next(l1))\n",
    "print(next(l1))\n",
    "print(next(l1))\n",
    "print(next(l1))\n",
    "print(next(l1))\n",
    "print(next(l1))\n",
    "print(next(l1))\n",
    "print(next(l1))\n",
    "print(next(l1))\n",
    "print(next(l1))\n",
    "print(next(l1))\n",
    "print(next(l1))\n",
    "print(next(l1))\n",
    "            \n",
    "    "
   ]
  },
  {
   "cell_type": "code",
   "execution_count": 119,
   "id": "a3ccc720-f78e-4254-a1e0-76d0adff7e27",
   "metadata": {},
   "outputs": [
    {
     "name": "stdout",
     "output_type": "stream",
     "text": [
      "0\n",
      "1\n",
      "1\n",
      "2\n",
      "3\n",
      "5\n",
      "8\n",
      "13\n",
      "21\n",
      "34\n"
     ]
    }
   ],
   "source": [
    "# Question 6 - fibonacci series\n",
    "\n",
    "a=0\n",
    "b=1\n",
    "count=1\n",
    "while count<=10:\n",
    "    print (a)\n",
    "    c=a+b\n",
    "    a=b\n",
    "    b=c\n",
    "    count=count+1\n",
    "    \n"
   ]
  },
  {
   "cell_type": "code",
   "execution_count": 6,
   "id": "2be3bc2a-4adc-451b-9d54-1c5811cbf8d5",
   "metadata": {},
   "outputs": [
    {
     "name": "stdout",
     "output_type": "stream",
     "text": [
      "['p', 'w', 's', 'k', 'i', 'l', 'l', 's']\n"
     ]
    }
   ],
   "source": [
    "# Question 7\n",
    "# List comprehension gives us a shorter syntax when u want to create a new list.\n",
    "\n",
    "s=\"pwskills\"\n",
    "list_comp=iter(s)\n",
    "list_comp =[ i for i in s ]\n",
    "print(list_comp)"
   ]
  },
  {
   "cell_type": "code",
   "execution_count": 10,
   "id": "fa43947a-ffed-426b-ac2e-0c60d12ab304",
   "metadata": {},
   "outputs": [
    {
     "name": "stdin",
     "output_type": "stream",
     "text": [
      "Enter your number 1234\n"
     ]
    },
    {
     "name": "stdout",
     "output_type": "stream",
     "text": [
      "Not Palindrome\n"
     ]
    }
   ],
   "source": [
    "# Question 8\n",
    "\n",
    "num=int(input(\"Enter your number\"))\n",
    "temp = num\n",
    "reverse = 0\n",
    "while temp > 0:\n",
    "    remainder = temp % 10\n",
    "    reverse = (reverse * 10) + remainder\n",
    "    temp = temp // 10\n",
    "if num == reverse:\n",
    "  print('Palindrome')\n",
    "else:\n",
    "  print(\"Not Palindrome\")\n"
   ]
  },
  {
   "cell_type": "code",
   "execution_count": 20,
   "id": "06529fbc-6cfb-4284-852a-8b735a1ee728",
   "metadata": {},
   "outputs": [
    {
     "name": "stdout",
     "output_type": "stream",
     "text": [
      "Odd numbers from 1 to 100  [1, 3, 5, 7, 9, 11, 13, 15, 17, 19, 21, 23, 25, 27, 29, 31, 33, 35, 37, 39, 41, 43, 45, 47, 49, 51, 53, 55, 57, 59, 61, 63, 65, 67, 69, 71, 73, 75, 77, 79, 81, 83, 85, 87, 89, 91, 93, 95, 97, 99]\n"
     ]
    }
   ],
   "source": [
    "# Question 9\n",
    "\n",
    "List=[ i for i in range(1,101)]\n",
    "\n",
    "new_list1=[i for i in List if i%2 != 0]\n",
    "print(\"Odd numbers from 1 to 100 \"     ,new_list1)"
   ]
  },
  {
   "cell_type": "code",
   "execution_count": null,
   "id": "4509351b-283e-45cc-9afb-79f2d7454715",
   "metadata": {},
   "outputs": [],
   "source": []
  },
  {
   "cell_type": "code",
   "execution_count": null,
   "id": "31d66a55-554c-4fe2-a4b5-35c37cafe51e",
   "metadata": {},
   "outputs": [],
   "source": []
  }
 ],
 "metadata": {
  "kernelspec": {
   "display_name": "Python 3 (ipykernel)",
   "language": "python",
   "name": "python3"
  },
  "language_info": {
   "codemirror_mode": {
    "name": "ipython",
    "version": 3
   },
   "file_extension": ".py",
   "mimetype": "text/x-python",
   "name": "python",
   "nbconvert_exporter": "python",
   "pygments_lexer": "ipython3",
   "version": "3.10.8"
  }
 },
 "nbformat": 4,
 "nbformat_minor": 5
}
