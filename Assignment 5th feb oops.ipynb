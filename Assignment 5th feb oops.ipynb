{
 "cells": [
  {
   "cell_type": "code",
   "execution_count": 1,
   "id": "dd350f02-a8a8-44f8-9d26-c8714ae22070",
   "metadata": {},
   "outputs": [
    {
     "data": {
      "text/plain": [
       "'consider the class bike a bike has some common criteria like it has 2 tires one engine ,1 tank,  seat , gear etc. so \\nthis is basically the blueprint of bike . the object in this class will be the data which i give for telling a specific\\nbike like thier company name , colour of the bike , power of engine etc. so , here bike is a class and thier data is a\\nobject.'"
      ]
     },
     "execution_count": 1,
     "metadata": {},
     "output_type": "execute_result"
    }
   ],
   "source": [
    "# Question 1 \n",
    "\n",
    "\"\"\"A class is nothing but just a classification or blueprint of the real world entity but not specific to a real world \n",
    "entity. a class is a logical intity and can be declared once .\n",
    "Object stands for a real world entity. object is an instance of a class . an object is a physical intity and can be \n",
    "declared many times as per requirement and it is also called as variable or instance.\"\"\"\n",
    "# Example- \n",
    "\"\"\"consider the class bike a bike has some common criteria like it has 2 tires one engine ,1 tank,  seat , gear etc. so \n",
    "this is basically the blueprint of bike . the object in this class will be the data which i give for telling a specific\n",
    "bike like thier company name , colour of the bike , power of engine etc. so , here bike is a class and thier data is a\n",
    "object.\"\"\""
   ]
  },
  {
   "cell_type": "code",
   "execution_count": 2,
   "id": "7467f1d0-813c-4d56-9462-a9ddcbf7b264",
   "metadata": {},
   "outputs": [
    {
     "data": {
      "text/plain": [
       "'The four pillar of oops are :-\\n1. Inheritance\\n2. Abstraction \\n3. Encapsulation\\n4. Polymorphism\\n\\nInheritance - inheritance allows us to define a class that inherits method and properties  from another class . Let\\'s \\nsay u need a new class with little or no modification than you can apply this  concept.\\n\\nAbstraction - it hides the unnecessory code details from the user . also , when we do not want to give out sensitive\\nparts of our code implementation and this is where data abstraction came.\\n\\nEncapsulation - encapsulation means binding up of code and data together under 1 wrapper which we already know as\\n\"class\" and provide proper access to change or modify the data of the class. we hide the variables by providing \\none or two underscore (_ or __) as prefix to the name of the variable.\\n\\nPolymorphism - the word polymorphism means having many forms, in programming polymorphism means the same function name \\nis used for different types. '"
      ]
     },
     "execution_count": 2,
     "metadata": {},
     "output_type": "execute_result"
    }
   ],
   "source": [
    "# Question 2\n",
    "\n",
    "\"\"\"The four pillar of oops are :-\n",
    "1. Inheritance\n",
    "2. Abstraction \n",
    "3. Encapsulation\n",
    "4. Polymorphism\n",
    "\n",
    "Inheritance - inheritance allows us to define a class that inherits method and properties  from another class . Let's \n",
    "say u need a new class with little or no modification than you can apply this  concept.\n",
    "\n",
    "Abstraction - it hides the unnecessory code details from the user . also , when we do not want to give out sensitive\n",
    "parts of our code implementation and this is where data abstraction came.\n",
    "\n",
    "Encapsulation - encapsulation means binding up of code and data together under 1 wrapper which we already know as\n",
    "\"class\" and provide proper access to change or modify the data of the class. we hide the variables by providing \n",
    "one or two underscore (_ or __) as prefix to the name of the variable.\n",
    "\n",
    "Polymorphism - the word polymorphism means having many forms, in programming polymorphism means the same function name \n",
    "is used for different types. \"\"\""
   ]
  },
  {
   "cell_type": "code",
   "execution_count": 8,
   "id": "772cce39-ddcb-4182-a7e5-8bbfa6e174a7",
   "metadata": {},
   "outputs": [],
   "source": [
    "# Question 3 \n",
    "\n",
    "\"\"\"The __init__ function is used to pass data inside a class. this method is called when an object is created from a \n",
    "class and it allows the class to initialize the attributes of the class. it is also called as constructor.\"\"\"\n",
    "\n",
    "# Example:-\n",
    "\n",
    "class person:\n",
    "    def __init__(self , name, age , gender):      # for giving this data we have to use _init_\n",
    "        self.name = name\n",
    "        self.age = age\n",
    "        self.gender = gender\n",
    "    \n",
    "    def person_details(self):\n",
    "        return self.name , self.age , self.gender"
   ]
  },
  {
   "cell_type": "code",
   "execution_count": 12,
   "id": "a90c790c-b192-431d-8c62-74523acbb48b",
   "metadata": {},
   "outputs": [],
   "source": [
    "raja = person(\"raja\" ,32 , \"male\" )"
   ]
  },
  {
   "cell_type": "code",
   "execution_count": 14,
   "id": "1a7837ec-c2cc-4fa2-a38f-59ee5075074b",
   "metadata": {},
   "outputs": [
    {
     "data": {
      "text/plain": [
       "('raja', 32, 'male')"
      ]
     },
     "execution_count": 14,
     "metadata": {},
     "output_type": "execute_result"
    }
   ],
   "source": [
    "raja.person_details()"
   ]
  },
  {
   "cell_type": "code",
   "execution_count": 15,
   "id": "5ac9d554-6a4b-4855-96c5-a0fe8f1a771f",
   "metadata": {},
   "outputs": [
    {
     "data": {
      "text/plain": [
       "'The self parameter is a reference to the current instance of the class and is used to access variables that belongs\\nto the class. it does not have to be named self you can call it whatever you like but it has to be the first parameter\\nof any function in the class.'"
      ]
     },
     "execution_count": 15,
     "metadata": {},
     "output_type": "execute_result"
    }
   ],
   "source": [
    "# Question 4\n",
    "\n",
    "\"\"\"The self parameter is a reference to the current instance of the class and is used to access variables that belongs\n",
    "to the class. it does not have to be named self you can call it whatever you like but it has to be the first parameter\n",
    "of any function in the class.\"\"\""
   ]
  },
  {
   "cell_type": "code",
   "execution_count": 36,
   "id": "d56ea657-f348-48cf-abf9-732a176af92d",
   "metadata": {},
   "outputs": [
    {
     "name": "stdout",
     "output_type": "stream",
     "text": [
      "this function is in parent class\n",
      "this function is in child class\n",
      "Father name is suresh\n",
      "Mother name is maya\n",
      "Lal mani\n",
      "Grandfather name : Lal mani\n",
      "Father name : Rampal\n",
      "Son name : Prince\n",
      "This function is in parent class.\n",
      "This function is in child 1.\n",
      "This function is in parent class.\n",
      "This function is in child 2.\n",
      "This function is in school.\n",
      "This function is in student 1. \n"
     ]
    }
   ],
   "source": [
    "# Question 5\n",
    "\n",
    "\"\"\"Inheritance is defined as the mechanism of inheriting the property of the base class to the child class.\n",
    "\n",
    "# type of inheritance\n",
    "\n",
    "1.Single inheritance\"\"\"\n",
    " # base class \n",
    "class parents:\n",
    "    def funct1(self):\n",
    "        print(\"this function is in parent class\")\n",
    "        \n",
    " # derived class\n",
    "class child(parents):\n",
    "    def funct2(self):\n",
    "        print(\"this function is in child class\")\n",
    "        \n",
    "a=child()\n",
    "a.funct1()\n",
    "a.funct2()\n",
    "\n",
    "\"\"\"2. Multiple inheritance - If a class is able to be created from multiple base classes, this kind of Inheritance\n",
    "is known as multiple Inheritance\"\"\"  # Example -\n",
    "\n",
    "class father:\n",
    "    fathername =\"\"\n",
    "    def father(self):\n",
    "        print(self.fathername)\n",
    "    \n",
    "class mother:\n",
    "    mothername = \"\"\n",
    "    def mother(self):\n",
    "        print(self.mothername)\n",
    "    \n",
    "class son(father,mother):\n",
    "    def parents (self):\n",
    "        print(\"Father name is\", self.fathername )\n",
    "        print(\"Mother name is\" , self.mothername)\n",
    "    \n",
    "s=son()\n",
    "s.fathername = \"suresh\"\n",
    "s.mothername = \"maya\"\n",
    "s.parents()\n",
    "\n",
    "\"\"\" 3. multilevel inheritance-he features that are part of the original class, as well as the class that is derived\n",
    "from it, are passed on to the new class.\"\"\" # Example-\n",
    "\n",
    "class Grandfather:\n",
    " \n",
    "    def __init__(self, grandfathername):\n",
    "        self.grandfathername = grandfathername\n",
    "\n",
    "class Father(Grandfather):\n",
    "    def __init__(self, fathername, grandfathername):\n",
    "        self.fathername = fathername\n",
    " \n",
    "        Grandfather.__init__(self, grandfathername)\n",
    " \n",
    " \n",
    "class Son(Father):\n",
    "    def __init__(self, sonname, fathername, grandfathername):\n",
    "        self.sonname = sonname\n",
    " \n",
    "        Father.__init__(self, fathername, grandfathername)\n",
    " \n",
    "    def print_name(self):\n",
    "        print('Grandfather name :', self.grandfathername)\n",
    "        print(\"Father name :\", self.fathername)\n",
    "        print(\"Son name :\", self.sonname)\n",
    " \n",
    "   \n",
    "s1 = Son('Prince', 'Rampal', 'Lal mani')\n",
    "print(s1.grandfathername)\n",
    "s1.print_name()\n",
    "\n",
    "\"\"\" 4.Hierarchical Inheritance - When more than one derived class are created from a single base this type of\n",
    "inheritance is called hierarchical inheritance\"\"\" # Example-\n",
    "\n",
    "class Parent: # base class\n",
    "    def func1(self):\n",
    "        print(\"This function is in parent class.\")\n",
    "         \n",
    "class Child1(Parent): # derived class 1\n",
    "    def func2(self):\n",
    "        print(\"This function is in child 1.\") \n",
    "\n",
    "class Child2(Parent): # derived class 2\n",
    "    def func3(self):\n",
    "        print(\"This function is in child 2.\")\n",
    "\n",
    "        \n",
    "object1 = Child1()\n",
    "object2 = Child2()\n",
    "object1.func1()\n",
    "object1.func2()\n",
    "object2.func1()\n",
    "object2.func3()\n",
    "\n",
    "\"\"\" 5.Hybrid Inheritance--Inheritance consisting of multiple types of inheritance is called hybrid inheritance\"\"\"\n",
    "\n",
    "class School:\n",
    "    def func1(self):\n",
    "        print(\"This function is in school.\")\n",
    " \n",
    " \n",
    "class Student1(School):\n",
    "    def func2(self):\n",
    "        print(\"This function is in student 1. \")\n",
    " \n",
    " \n",
    "class Student2(School):\n",
    "    def func3(self):\n",
    "        print(\"This function is in student 2.\")\n",
    " \n",
    " \n",
    "class Student3(Student1, School):\n",
    "    def func4(self):\n",
    "        print(\"This function is in student 3.\")\n",
    " \n",
    " \n",
    "object = Student3()\n",
    "object.func1()\n",
    "object.func2()"
   ]
  },
 
  {
   "cell_type": "code",
   "execution_count": 29,
   "id": "cab69489-6f58-4489-8e98-98a3a6ee9355",
   "metadata": {},
   "outputs": [
    {
     "ename": "TypeError",
     "evalue": "son.father_mother_son() takes 0 positional arguments but 1 was given",
     "output_type": "error",
     "traceback": [
      "\u001b[0;31m---------------------------------------------------------------------------\u001b[0m",
      "\u001b[0;31mTypeError\u001b[0m                                 Traceback (most recent call last)",
      "Cell \u001b[0;32mIn[29], line 1\u001b[0m\n\u001b[0;32m----> 1\u001b[0m \u001b[43mz\u001b[49m\u001b[38;5;241;43m.\u001b[39;49m\u001b[43mfather_mother_son\u001b[49m\u001b[43m(\u001b[49m\u001b[43m)\u001b[49m\n",
      "\u001b[0;31mTypeError\u001b[0m: son.father_mother_son() takes 0 positional arguments but 1 was given"
     ]
   
  {
   "cell_type": "code",
   "execution_count": null,
   "id": "f3b6ed25-4fd0-4810-9e6a-2cd82afc40e8",
   "metadata": {},
   "outputs": [],
   "source": []
  }
 ],
 "metadata": {
  "kernelspec": {
   "display_name": "Python 3 (ipykernel)",
   "language": "python",
   "name": "python3"
  },
  "language_info": {
   "codemirror_mode": {
    "name": "ipython",
    "version": 3
   },
   "file_extension": ".py",
   "mimetype": "text/x-python",
   "name": "python",
   "nbconvert_exporter": "python",
   "pygments_lexer": "ipython3",
   "version": "3.10.8"
  }
 },
 "nbformat": 4,
 "nbformat_minor": 5
}
