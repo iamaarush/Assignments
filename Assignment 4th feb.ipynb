{
 "cells": [
  {
   "cell_type": "code",
   "execution_count": 35,
   "id": "0b389637-c0a0-4bb3-a722-69ed8e519322",
   "metadata": {},
   "outputs": [
    {
     "name": "stdout",
     "output_type": "stream",
     "text": [
      "[('Virat Kohli', 24936), ('Jack Kallis', 25534), ('Ricky Ponting', 27483), ('Sachin Tendulkar', 34357)]\n"
     ]
    }
   ],
   "source": [
    "# Question 1\n",
    "\n",
    "l=[('Sachin Tendulkar', 34357), ('Ricky Ponting', 27483), ('Jack Kallis', 25534), ('Virat Kohli', 24936)]\n",
    "    \n",
    "l.sort(key=lambda i:i[1])\n",
    "print(l)"
   ]
  },
  {
   "cell_type": "code",
   "execution_count": 45,
   "id": "0c48793b-956f-4f26-b4d4-e1e42928b264",
   "metadata": {},
   "outputs": [
    {
     "data": {
      "text/plain": [
       "[1, 4, 9, 16, 25, 36, 49, 64, 81, 100]"
      ]
     },
     "execution_count": 45,
     "metadata": {},
     "output_type": "execute_result"
    }
   ],
   "source": [
    "# Question 2\n",
    "\n",
    "l1=[1, 2, 3, 4, 5, 6, 7, 8, 9, 10]# given list\n",
    "\n",
    "list(map(lambda x:x**2,l1))"
   ]
  },
  {
   "cell_type": "code",
   "execution_count": 46,
   "id": "dcdd3f97-78bf-4ecd-9970-a2805d1d8c0d",
   "metadata": {},
   "outputs": [
    {
     "data": {
      "text/plain": [
       "('1', '2', '3', '4', '5', '6', '7', '8', '9', '10')"
      ]
     },
     "execution_count": 46,
     "metadata": {},
     "output_type": "execute_result"
    }
   ],
   "source": [
    "# Question 3\n",
    "\n",
    "l2=[1, 2, 3, 4, 5, 6, 7, 8, 9, 10] # given list\n",
    "\n",
    "tuple(map(lambda l:str(l),l2))"
   ]
  },
  {
   "cell_type": "code",
   "execution_count": 57,
   "id": "841edac8-f63e-4ee8-bbf3-28666fc5ff54",
   "metadata": {},
   "outputs": [
    {
     "data": {
      "text/plain": [
       "15511210043330985984000000"
      ]
     },
     "execution_count": 57,
     "metadata": {},
     "output_type": "execute_result"
    }
   ],
   "source": [
    "# Question 4\n",
    "\n",
    "from functools import reduce\n",
    "l1=[]\n",
    "l=range(1,26)\n",
    "for i in l:\n",
    "    l1.append(i)\n",
    "reduce(lambda x,y:x*y,l1)\n"
   ]
  },
  {
   "cell_type": "code",
   "execution_count": 59,
   "id": "54869085-7b53-4529-bc7a-a7eff74814e9",
   "metadata": {},
   "outputs": [
    {
     "data": {
      "text/plain": [
       "[6, 60, 90, 120]"
      ]
     },
     "execution_count": 59,
     "metadata": {},
     "output_type": "execute_result"
    }
   ],
   "source": [
    "# Question 5\n",
    " \n",
    "l3=[2, 3, 6, 9, 27, 60, 90, 120, 55, 46] # given list\n",
    "list(filter(lambda x : x%2==0 or x%3==0 ,l3))\n"
   ]
  },
  {
   "cell_type": "code",
   "execution_count": 63,
   "id": "692691c3-b663-417e-bec9-70927680f020",
   "metadata": {},
   "outputs": [
    {
     "data": {
      "text/plain": [
       "['php', 'aba', 'radar', 'level']"
      ]
     },
     "execution_count": 63,
     "metadata": {},
     "output_type": "execute_result"
    }
   ],
   "source": [
    "# Question 6 palin\n",
    "\n",
    "given_list = ['python', 'php', 'aba', 'radar', 'level']\n",
    "list(filter(lambda x :(x == \"\".join (reversed(x))) ,given_list))"
   ]
  },
  {
   "cell_type": "code",
   "execution_count": null,
   "id": "eb814918-8be4-4d86-867c-8d4366fc4705",
   "metadata": {},
   "outputs": [],
   "source": []
  }
 ],
 "metadata": {
  "kernelspec": {
   "display_name": "Python 3 (ipykernel)",
   "language": "python",
   "name": "python3"
  },
  "language_info": {
   "codemirror_mode": {
    "name": "ipython",
    "version": 3
   },
   "file_extension": ".py",
   "mimetype": "text/x-python",
   "name": "python",
   "nbconvert_exporter": "python",
   "pygments_lexer": "ipython3",
   "version": "3.10.8"
  }
 },
 "nbformat": 4,
 "nbformat_minor": 5
}
