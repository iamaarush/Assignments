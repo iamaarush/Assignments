{
 "cells": [
  {
   "cell_type": "markdown",
   "id": "93a37d17-c394-41e2-b054-52929aa0bc04",
   "metadata": {},
   "source": [
    "# Question 1\n",
    "\n",
    "What is Bayes' theorem?"
   ]
  },
  {
   "cell_type": "markdown",
   "id": "4de6d54d-745e-4207-88fc-cc2b6f4d74dd",
   "metadata": {},
   "source": [
    "# Answer\n",
    "\n",
    "Bayes' theorem is a way of updating our beliefs about the likelihood of something happening, based on new information that we receive.\n",
    "\n",
    "For example, let's say that you want to know the likelihood of catching a cold. You know that the probability of catching a cold is generally low, but it increases if you are exposed to someone who already has a cold.\n",
    "\n",
    "Now, suppose you learn that your co-worker has just come down with a cold. This new information changes your initial belief about the likelihood of catching a cold. Bayes' theorem helps you to update your belief by taking into account the new information.\n",
    "\n",
    "In essence, Bayes' theorem is a mathematical formula that allows you to calculate the probability of something happening, given what you know about the situation. It's a tool that can help you make better decisions by incorporating new information and updating your beliefs accordingly."
   ]
  },
  {
   "cell_type": "markdown",
   "id": "d123ebf9-6570-491a-ad01-3ccc8facecee",
   "metadata": {},
   "source": [
    "# Question 2\n",
    "\n",
    "What is the formula for Bayes' theorem?"
   ]
  },
  {
   "cell_type": "markdown",
   "id": "860f3ae1-ff7e-478b-837b-7fcd7e6c52a7",
   "metadata": {},
   "source": [
    "# Answer\n",
    "\n",
    "The formula for Bayes' theorem can be stated as follows:\n",
    " \n",
    "$ P(A|B) = \\frac {P(B|A)\\times P(A)}{P(B)}$\n",
    "         \n",
    "Where:\n",
    "\n",
    "- P(A|B) is the probability of event A given that event B has occurred\n",
    "- P(B|A) is the probability of event B given that event A has occurred\n",
    "- P(A) is the prior probability of event A\n",
    "- P(B) is the prior probability of event B\n",
    "\n",
    "In other words, Bayes' theorem tells us how to calculate the probability of A, given the probability of B and the conditional probability of B given A. It allows us to update our beliefs about the probability of A in light of new evidence B."
   ]
  },
  {
   "cell_type": "markdown",
   "id": "84bc656f-2595-475c-8516-fe51dd33f848",
   "metadata": {},
   "source": [
    "# Question 3\n",
    "\n",
    "How is Bayes' theorem used in practice?"
   ]
  },
  {
   "cell_type": "markdown",
   "id": "68ae5bf9-e81a-4cf0-8141-69b561ff758b",
   "metadata": {},
   "source": [
    "# Answer\n",
    "\n",
    "Bayes' theorem is used in a wide range of practical applications, from medical diagnosis to spam filtering. Here are a few examples:\n",
    "\n",
    "1. Medical diagnosis: Bayes' theorem can be used to calculate the probability of a patient having a particular disease, based on their symptoms and other diagnostic tests. For example, if a patient presents with a certain set of symptoms, a doctor can use Bayes' theorem to calculate the probability of a specific disease, and then order additional tests to confirm the diagnosis.\n",
    "\n",
    "2. Spam filtering: Bayes' theorem can be used to classify emails as spam or non-spam. The algorithm looks at the words in the email and calculates the probability that the email is spam, based on the frequency of words that are commonly found in spam emails.\n",
    "\n",
    "3. Risk assessment: Bayes' theorem can be used to assess the risk of a particular event occurring, such as a natural disaster or a terrorist attack. The probability of the event can be estimated based on historical data and other relevant information, and then used to inform decision-making and risk management strategies.\n",
    "\n",
    "4. Machine learning: Bayes' theorem is used in various machine learning algorithms, such as Naive Bayes classifiers, which can be trained to predict the probability of a certain outcome based on a set of input variables.\n",
    "\n",
    "In all of these applications, Bayes' theorem allows us to update our beliefs and make more informed decisions based on new information."
   ]
  },
  {
   "cell_type": "markdown",
   "id": "1bd3f380-76e6-4af8-bc0b-d14a20f2b0af",
   "metadata": {},
   "source": [
    "# Question 4\n",
    "\n",
    "What is the relationship between Bayes' theorem and conditional probability?"
   ]
  },
  {
   "cell_type": "markdown",
   "id": "a428495b-36dd-4888-a20e-a389ea45252b",
   "metadata": {},
   "source": [
    "# Answer\n",
    "\n",
    "Bayes' theorem is essentially a statement about conditional probability. It provides a way to calculate the conditional probability of an event A, given some new information or evidence B.\n",
    "\n",
    "The formula for Bayes' theorem involves two conditional probabilities: P(A|B) and P(B|A). P(A|B) represents the probability of A given that B has occurred, while P(B|A) represents the probability of B given that A has occurred.\n",
    "\n",
    "Bayes' theorem tells us how to calculate the probability of A given B, based on these two conditional probabilities and the prior probabilities of A and B. In other words, it tells us how to update our beliefs about the probability of A, based on the new information provided by B.\n",
    "\n",
    "So, in essence, Bayes' theorem is a tool for working with conditional probabilities, and is particularly useful when we need to update our beliefs in light of new evidence or information."
   ]
  },
  {
   "cell_type": "markdown",
   "id": "5fc2eb2f-737b-419e-85b9-594b3d350438",
   "metadata": {},
   "source": [
    "# Question 5\n",
    "\n",
    "How do you choose which type of Naive Bayes classifier to use for any given problem?"
   ]
  },
  {
   "cell_type": "markdown",
   "id": "66e9ecdc-5486-4e22-8d95-e27b9a5d8c77",
   "metadata": {},
   "source": [
    "# Answer\n",
    "\n",
    "When selecting a type of Naive Bayes classifier to use for a given problem, there are several factors to consider, including:\n",
    "\n",
    "1. Nature of the problem: The type of Naive Bayes classifier you choose may depend on the nature of the problem you are trying to solve. For example, if you are working with text classification, you may choose a Multinomial Naive Bayes classifier, while if you are working with continuous data, you may choose a Gaussian Naive Bayes classifier.\n",
    "\n",
    "2. Distribution of the data: The distribution of the data may also influence your choice of classifier. If the data is normally distributed, a Gaussian Naive Bayes classifier may be appropriate, while if the data has a categorical distribution, a Multinomial Naive Bayes classifier may be more appropriate.\n",
    "\n",
    "3. Size and quality of the dataset: The size and quality of the dataset may also influence your choice of classifier. If you have a small dataset, a Multinomial Naive Bayes classifier may be more robust, while if you have a large dataset, a Gaussian Naive Bayes classifier may be more efficient.\n",
    "\n",
    "4. Performance requirements: The performance requirements of the problem may also influence your choice of classifier. If you need a fast classifier that can handle large volumes of data, a Bernoulli Naive Bayes classifier may be appropriate, while if you need a more accurate classifier, a Gaussian Naive Bayes classifier may be more suitable.\n",
    "\n",
    "In general, it's a good idea to experiment with different types of Naive Bayes classifiers and evaluate their performance on your specific problem, using metrics such as accuracy, precision, recall, and F1 score. This can help you determine which classifier is best suited to your needs."
   ]
  },
  {
   "cell_type": "markdown",
   "id": "d4088737-c826-46a9-b53f-5c98f8af54e6",
   "metadata": {},
   "source": [
    "# Question 6\n",
    "\n",
    "Assignment:\n",
    "\n",
    "You have a dataset with two features, X1 and X2, and two possible classes, A and B. You want to use Naive\n",
    "Bayes to classify a new instance with features X1 = 3 and X2 = 4. The following table shows the frequency of\n",
    "each feature value for each class:\n",
    "\n",
    "   |Class |X1=1 | X1=2| X1=3| X2=1| X2=2 |X2=3| X2=4|\n",
    "   |:---: |:---:|:---:|:---:|:---:|:---:|:---:|:---:|\n",
    "   |A     |3    | 3   | 4   | 4   | 3   | 3   | 3   |\n",
    "   |B     |2    | 2   | 1   | 2   | 2   | 2   | 3   |\n",
    "   \n",
    "Assuming equal prior probabilities for each class, which class would Naive Bayes predict the new instance\n",
    "to belong to?"
   ]
  },
  {
   "cell_type": "markdown",
   "id": "db06799d-370f-4d9a-b8c4-5f4d26c7b364",
   "metadata": {},
   "source": [
    "# Answer\n",
    "\n",
    "To classify the new instance with features X1 = 3 and X2 = 4 using Naive Bayes, we need to calculate the posterior probabilities for each class, given these feature values. We can do this using Bayes' theorem:\n",
    "\n",
    "P(A|X1=3,X2=4) = P(X1=3,X2=4|A) * P(A) / P(X1=3,X2=4)\n",
    "\n",
    "P(B|X1=3,X2=4) = P(X1=3,X2=4|B) * P(B) / P(X1=3,X2=4)\n",
    "\n",
    "Since the prior probabilities for A and B are assumed to be equal, we can simplify this to:\n",
    "\n",
    "P(A|X1=3,X2=4) = P(X1=3,X2=4|A) / P(X1=3,X2=4)\n",
    "\n",
    "P(B|X1=3,X2=4) = P(X1=3,X2=4|B) / P(X1=3,X2=4)\n",
    "\n",
    "To calculate the probabilities, we need to use the Naive Bayes assumption that the features are conditionally independent, given the class. This allows us to factorize the joint probability distribution as follows:\n",
    "\n",
    "P(X1=3,X2=4|A) = P(X1=3|A) * P(X2=4|A)\n",
    "\n",
    "P(X1=3,X2=4|B) = P(X1=3|B) * P(X2=4|B)\n",
    "\n",
    "We can estimate these probabilities from the frequency table provided:\n",
    "\n",
    "P(X1=3|A) = 4/10\n",
    "\n",
    "P(X1=3|B) = 1/7\n",
    "\n",
    "P(X2=4|A) = 3/10\n",
    "\n",
    "P(X2=4|B) = 1/7\n",
    "\n",
    "To calculate the denominator, we need to use the law of total probability:\n",
    "\n",
    "P(X1=3,X2=4) = P(X1=3,X2=4|A) * P(A) + P(X1=3,X2=4|B) * P(B)\n",
    "\n",
    "We can estimate these probabilities from the frequency table provided:\n",
    "\n",
    "P(X1=3,X2=4|A) = P(X1=3|A) * P(X2=4|A) = (4/10) * (3/10) = 12/100\n",
    "\n",
    "P(X1=3,X2=4|B) = P(X1=3|B) * P(X2=4|B) = (1/7) * (1/7) = 1/49\n",
    "\n",
    "P(A) = P(B) = 0.5\n",
    "\n",
    "Therefore:\n",
    "\n",
    "P(X1=3,X2=4) = (12/100) * 0.5 + (1/49) * 0.5 = 0.124\n",
    "\n",
    "Now we can plug these values into the formula for the posterior probabilities:\n",
    "\n",
    "P(A|X1=3,X2=4) = (4/10) * (3/10) / 0.124 = 0.967\n",
    "\n",
    "P(B|X1=3,X2=4) = (1/7) * (1/7) / 0.124 = 0.033\n",
    "\n",
    "Therefore, Naive Bayes would predict that the new instance with features X1=3 and X2=4 belongs to class A, since it has a much higher posterior probability than class B."
   ]
  },
  {
   "cell_type": "code",
   "execution_count": null,
   "id": "9078adcc-ecce-4a0e-9be1-dcb51aa8b746",
   "metadata": {},
   "outputs": [],
   "source": []
  }
 ],
 "metadata": {
  "kernelspec": {
   "display_name": "Python 3 (ipykernel)",
   "language": "python",
   "name": "python3"
  },
  "language_info": {
   "codemirror_mode": {
    "name": "ipython",
    "version": 3
   },
   "file_extension": ".py",
   "mimetype": "text/x-python",
   "name": "python",
   "nbconvert_exporter": "python",
   "pygments_lexer": "ipython3",
   "version": "3.10.8"
  }
 },
 "nbformat": 4,
 "nbformat_minor": 5
}
