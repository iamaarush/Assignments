{
 "cells": [
  {
   "cell_type": "code",
   "execution_count": 3,
   "id": "19379dd6-6222-4095-9d33-6e847ead2aed",
   "metadata": {},
   "outputs": [
    {
     "name": "stdout",
     "output_type": "stream",
     "text": [
      "1\n",
      "2\n",
      "3\n",
      "4\n",
      "5\n",
      "6\n",
      "85\n"
     ]
    },
    {
     "name": "stdin",
     "output_type": "stream",
     "text": [
      "Enter the number  8\n"
     ]
    },
    {
     "name": "stdout",
     "output_type": "stream",
     "text": [
      "1\n",
      "2\n",
      "3\n",
      "4\n",
      "5\n",
      "6\n",
      "7\n",
      "8\n"
     ]
    }
   ],
   "source": [
    "# Question 1\n",
    "\"\"\"For Loop - for loop basically used when we know the number of iteration(number of times loop run).\"\"\"\n",
    "\n",
    "# for example - we are taking a list and from the list we are taking every integer out one by one using for loop\n",
    "\n",
    "l = [1,2,3,4,5,6,85]\n",
    "for i in l :\n",
    "    print (i)\n",
    "    \n",
    "\"\"\" so in this example we know that how many times loop has to run. That is why we have to specify the ending point \n",
    "in the for loop.\"\"\"\n",
    "\n",
    "\"\"\" While loop - While loop is used to run a block code until a certain condition is met which means basically when we\n",
    "want a block of code to run infinite number of times. if the condition given in code evaluates to true the code inside \n",
    "the while loop will execute untill the condition become false\"\"\"\n",
    "\n",
    "# for example - display numbers from taking input from the user \n",
    "\n",
    "n= int(input(\"Enter the number \"))\n",
    "starting_point = 1\n",
    "while starting_point <=n :\n",
    "    print (starting_point)\n",
    "    starting_point=starting_point+1\n",
    "    \n",
    "\"\"\" as we can see we don't have to specify the ending point in the while loop. the while loop runs untill it finds the\n",
    "condition false.\"\"\""
   ]
  },
  {
   "cell_type": "code",
   "execution_count": 16,
   "id": "322fc42d-408d-4c22-b6ce-a0e26d99a96e",
   "metadata": {},
   "outputs": [
    {
     "name": "stdout",
     "output_type": "stream",
     "text": [
      "Sum of starting 10 numbers is 55 Product of starting 10 numbers is 3628800\n"
     ]
    }
   ],
   "source": [
    "# Question 2\n",
    "\n",
    "# Sum and product of starting 10 numbers using for loop\n",
    "\n",
    "result = 0\n",
    "product = 1\n",
    "for i in range(1,11):\n",
    "    product = product *i\n",
    "    result = result +i\n",
    "print(\"Sum of starting 10 numbers is\" , result ,\"Product of starting 10 numbers is\", product)\n",
    "    "
   ]
  },
  {
   "cell_type": "code",
   "execution_count": 15,
   "id": "8fc910fe-c31f-4af9-8d7a-c26daf6ccf58",
   "metadata": {},
   "outputs": [
    {
     "name": "stdout",
     "output_type": "stream",
     "text": [
      "sum of starting 10 numbers is 55 Product of starting 10 numbers is 3628800\n"
     ]
    }
   ],
   "source": [
    "# Question 2\n",
    "\n",
    "# Sum and product of starting 10 numbers using while loop\n",
    "\n",
    "n=10\n",
    "starting_point = 0\n",
    "counter =1\n",
    "factorial = 1\n",
    "while n > 0:\n",
    "    factorial = factorial*n\n",
    "    while counter <=n:\n",
    "        starting_point= starting_point+counter\n",
    "        counter= counter+1\n",
    "    n = n-1\n",
    "print(\"sum of starting 10 numbers is\", starting_point , \"Product of starting 10 numbers is\", factorial) "
   ]
  },
  {
   "cell_type": "code",
   "execution_count": 1,
   "id": "75b2e1f6-236d-4c58-a498-419958eb7b40",
   "metadata": {},
   "outputs": [
    {
     "name": "stdin",
     "output_type": "stream",
     "text": [
      "Enter unit of electricity consumed in a month 310\n"
     ]
    },
    {
     "name": "stdout",
     "output_type": "stream",
     "text": [
      "2250\n"
     ]
    }
   ],
   "source": [
    "# Question 3\n",
    "\n",
    "n = int(input(\"Enter unit of electricity consumed in a month\"))\n",
    "if n <=100:\n",
    "    print(n*4.5)\n",
    "# we are subtracting the first 100 , 200 ,300 units and multiplying the remaining units from the given criteria in question.   \n",
    "elif n<=200 and n>100:\n",
    "    print (450 + ((n-100)*6))\n",
    "elif n<=300 and n>200:\n",
    "    print (1050+((n-200)*10))\n",
    "else:\n",
    "    print(2050 + ((n-300)*20))"
   ]
  },
  {
   "cell_type": "code",
   "execution_count": 5,
   "id": "fd836b26-8d0c-4fe1-9b79-26e073b58539",
   "metadata": {},
   "outputs": [
    {
     "name": "stdout",
     "output_type": "stream",
     "text": [
      "the numbers whose cubes are divisible by 4 or 5 are [2, 4, 5, 6, 8, 10, 12, 14, 15, 16, 18, 20, 22, 24, 25, 26, 28, 30, 32, 34, 35, 36, 38, 40, 42, 44, 45, 46, 48, 50, 52, 54, 55, 56, 58, 60, 62, 64, 65, 66, 68, 70, 72, 74, 75, 76, 78, 80, 82, 84, 85, 86, 88, 90, 92, 94, 95, 96, 98, 100]\n"
     ]
    }
   ],
   "source": [
    "# Question 4 ( using for loop)\n",
    "\n",
    "# l1 is a blank list which we are using to put the numbers whose cubes are divisible by 4 or 5.\n",
    "l1 = []\n",
    "l=list(range(1,101))\n",
    "for i in l :\n",
    "    n=i**3\n",
    "    if n%4==0 or n%5==0:\n",
    "        l1.append(i)\n",
    "print(\"the numbers whose cubes are divisible by 4 or 5 are\" , l1)"
   ]
  },
  {
   "cell_type": "code",
   "execution_count": 6,
   "id": "9b328f91-1106-41e8-8a8e-13590154c283",
   "metadata": {},
   "outputs": [
    {
     "name": "stdout",
     "output_type": "stream",
     "text": [
      "the numbers whose cubes are divisible by 4 or 5 are [2, 4, 5, 6, 8, 10, 12, 14, 15, 16, 18, 20, 22, 24, 25, 26, 28, 30, 32, 34, 35, 36, 38, 40, 42, 44, 45, 46, 48, 50, 52, 54, 55, 56, 58, 60, 62, 64, 65, 66, 68, 70, 72, 74, 75, 76, 78, 80, 82, 84, 85, 86, 88, 90, 92, 94, 95, 96, 98, 100]\n"
     ]
    }
   ],
   "source": [
    "# Question 4 ( using while loop)\n",
    "\n",
    "# numb_divisible is a blank list which we are using to put the numbers whose cubes are divisible by 4 or 5.\n",
    "numb_divisible=[]\n",
    "l=list(range(1,101))\n",
    "i=1\n",
    "while i <= len(l):\n",
    "    n=i**3\n",
    "    if n%4==0 or n%5==0:\n",
    "        numb_divisible.append(i)\n",
    "    i=i+1\n",
    "print(\"the numbers whose cubes are divisible by 4 or 5 are\" ,l1) "
   ]
  },
  {
   "cell_type": "code",
   "execution_count": 9,
   "id": "ac5da697-2877-4061-8243-38714abed9a4",
   "metadata": {},
   "outputs": [
    {
     "name": "stdout",
     "output_type": "stream",
     "text": [
      "The number of vowels present in this string are 12 ['I', 'a', 'o', 'e', 'o', 'e', 'a', 'a', 'a', 'i', 'e', 'i']\n"
     ]
    }
   ],
   "source": [
    "# Question 5\n",
    "\n",
    "s=\"I want to become a data scientist\"\n",
    "#vowels=[\"a\",\"e\",\"i\",\"o\",\"u\",\"I\"]\n",
    "l2=[]\n",
    "count=0\n",
    "for i in range(len(s)):\n",
    "    if (s[i] == \"a\" or\n",
    "        s[i] == \"e\" or\n",
    "        s[i] == \"i\" or\n",
    "        s[i] == \"o\" or\n",
    "        s[i] == \"u\" or\n",
    "        s[i] == \"I\"):\n",
    "        l2.append(s[i])\n",
    "        count=count+1\n",
    "print(\"The number of vowels present in this string are\" ,count ,l2)"
   ]
  },
  {
   "cell_type": "code",
   "execution_count": null,
   "id": "9529766b-af91-4322-a6b1-068306cda70e",
   "metadata": {},
   "outputs": [],
   "source": []
  }
 ],
 "metadata": {
  "kernelspec": {
   "display_name": "Python 3 (ipykernel)",
   "language": "python",
   "name": "python3"
  },
  "language_info": {
   "codemirror_mode": {
    "name": "ipython",
    "version": 3
   },
   "file_extension": ".py",
   "mimetype": "text/x-python",
   "name": "python",
   "nbconvert_exporter": "python",
   "pygments_lexer": "ipython3",
   "version": "3.10.8"
  }
 },
 "nbformat": 4,
 "nbformat_minor": 5
}
