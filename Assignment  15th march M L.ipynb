{
 "cells": [
  {
   "cell_type": "markdown",
   "id": "26908b80-02c3-4e06-9fd3-851e269b22ff",
   "metadata": {},
   "source": [
    "# Question 1\n",
    "\n",
    "Explain the following with an example:\n",
    "    \n",
    "1) Artificial Intelligece\n",
    "2) Machine Learning\n",
    "3) Deep Learning"
   ]
  },
  {
   "cell_type": "code",
   "execution_count": null,
   "id": "d14c8f2f-b7ad-4539-9f34-167e0f9c0156",
   "metadata": {},
   "outputs": [],
   "source": [
    "1. Artificial Intelligence - It is the branch of computer science that aims to create intelligent machines that \n",
    "can perform tasks that typically requires human intelligence , such as visual perception , speech recognition ,\n",
    "decision making and language translation. AI can be classified into two types : weak AI and strong AI . weak AI \n",
    "is designed to perform such specific tasks , Where strong AI is designed to have general intelligence like a human\n",
    "being.\n",
    "example - Virtual personal assitants like siri , alexa and google assitant ,Self driving cars and Facial \n",
    "recognition technology.\n",
    "\n",
    "2. Machine Learning - It is a subset of AI that focuses on enabling machines to learn and improve from \n",
    "experience without being explicitly programmed. In other words ML algorithm can automatically learn \n",
    "patterns and insights from data and make predictions or decisions based on that learning. There are three\n",
    "types of ML : Supervised Learning involves training the algorithm with labelled data , Unsupervised Learning \n",
    "involves finding patterns in unlabelled data and Reinforcement Learning involves training the algorithm\n",
    "to make decision based on rewards and punishments.\n",
    "Example - Spam filters , Recommendation systems and fraud detection systems.\n",
    "\n",
    "3. Deep Learning - It is a subset of ML that focuses on training artificial neural networks with many layers \n",
    "Which can learn and represent complex relationships between inputs and outputs. DL algorithms can be used \n",
    "for tasks such as image recognition , speech recognition , natural language processing and autonomus \n",
    "driving. Deep neural networks are composed of multiple layers of interconnected notes that transform\n",
    "input data and extract features at each layer. \n",
    "Example - Googles AlphaGO , which defeated the world champion at the board game GO , and self driving cars \n",
    "developed by companies like TESLA and WAYMO.\n"
   ]
  },
  {
   "cell_type": "markdown",
   "id": "fc7e5bae-23be-4f68-85cc-6d535f7f44dc",
   "metadata": {},
   "source": [
    "# Question 2\n",
    "\n",
    "What is supervised learning? List some Examples of supervised learning."
   ]
  },
  {
   "cell_type": "code",
   "execution_count": null,
   "id": "349d7dee-224e-48c6-adf3-486f800ab256",
   "metadata": {},
   "outputs": [],
   "source": [
    "Supervised machine learning is a type of machine learning where an algorithm learns from labelled \n",
    "data that is already categorized or classified. The algorithm learns to identify patterns and \n",
    "relationships between the input features (also known as independent variables or predictors) \n",
    "and the corresponding output (also known as dependent variables or response). The algorithm \n",
    "can then use this learning to predict the output for new input data that it has not seen before.\n",
    "\n",
    "Example of supervised learning :\n",
    "    1. Predicting house price based on factors such as size,location,number of bedrooms and bathrooms.\n",
    "    \n",
    "    2. Forecasting the demand for a particular product based on historic sales data,Time of year\n",
    "    and marketing campaigns.\n",
    "    \n",
    "    3. Estimating the time it will take to complete a task based on historical data of similar tasks\n",
    "    and factors such as complexity and available resources.\n",
    "    \n",
    "    4. Predicting whether a loan applicant will default or not based on their credit score, income, \n",
    "    and other factors."
   ]
  },
  {
   "cell_type": "markdown",
   "id": "1d7b9918-d67e-4288-b51d-92f7eb0a70d1",
   "metadata": {},
   "source": [
    "# Question 3\n",
    "\n",
    "What is unsupervised learning? List some Examples of unsupervised learning."
   ]
  },
  {
   "cell_type": "code",
   "execution_count": null,
   "id": "b984a9a4-1a8f-4951-a2d2-2d4a3bfaef99",
   "metadata": {},
   "outputs": [],
   "source": [
    "Unsupervised machine learning is a type of machine learning where an algorithm learns from unlabeled data \n",
    "without any specific guidance or labels from the user. The algorithm learns to identify patterns and\n",
    "relationships between the input data and can then group or cluster the data based on these patterns.\n",
    "This can be useful for identifying hidden patterns or structures in the data , or for finding outliers \n",
    "or anomalies that may require further investigation. \n",
    "\n",
    "Example of Unsupervised learning:\n",
    "    1. Clustering: In this application, the algorithm groups similar data points together based on their \n",
    "    similarity in terms of features or attributes. This can be used to identify patterns or clusters in \n",
    "    data that may not be immediately apparent, such as customer segmentation based on purchasing behavior\n",
    "    or fraud detection based on unusual behavior.\n",
    "    \n",
    "    2. Dimensionality Reduction: In this application, the algorithm reduces the dimensionality of the \n",
    "    input data by identifying the most important features or variables. This can be useful for visualizing\n",
    "    high-dimensional data or for speeding up the training of machine learning models.\n",
    "    \n",
    "    3. Anomaly detection: In this application, the algorithm identifies data points that are significantly\n",
    "    different from the rest of the data, such as fraudulent transactions or manufacturing defects.\n",
    "    \n",
    "    4. Association rule mining: In this application, the algorithm identifies patterns and relationships\n",
    "    between different variables or features, such as items frequently purchased together in a retail store\n",
    "    or words frequently used together in a document.\n",
    "    \n",
    "    5. Neural Network Unsupervised Learning: In this application, the algorithm uses neural networks to\n",
    "    learn from the unlabeled data by training the network to find patterns in the data. Examples of this \n",
    "    include autoencoders, which are neural networks designed to compress data into a lower-dimensional \n",
    "    representation and then reconstruct it, and generative adversarial networks (GANs), which are neural\n",
    "    networks that learn to generate new data that is similar to the training data.\n",
    "    "
   ]
  },
  {
   "cell_type": "markdown",
   "id": "40fded50-9113-44f7-8c52-76826da6a660",
   "metadata": {},
   "source": [
    "# Question 4\n",
    "\n",
    "What is the difference between AI, ML, DL, and DS?"
   ]
  },
  {
   "cell_type": "code",
   "execution_count": null,
   "id": "5f6a3dec-e731-4dfe-be1b-1fb463074fab",
   "metadata": {},
   "outputs": [],
   "source": [
    "AI - Artificial Intelligence, fondly abbreviated as AI, is concerned with imparting human intelligence to\n",
    "machines. It focuses on the development of intelligent machines that can think and act like humans; \n",
    "essentially, AI is intelligence such as machines display.\n",
    "\n",
    "ML - Machine Learning is concerned with giving machines the ability to learn by training algorithms on a \n",
    "huge amount of data. It makes use of algorithms and statistical models to perform a task without needing \n",
    "explicit instructions.\n",
    "\n",
    "DL - Deep Learning is an approach to Machine Learning; one that focuses on learning data representations \n",
    "rather than on task-specific algorithms. It makes use of Deep Neural Networks, which are inspired by the\n",
    "structure and function of the human brain.\n",
    "\n",
    "DS - Data Science is the term for a whole set of tools and techniques by which to analyze data and extract \n",
    "insights from it. It makes use of scientific methods, processes, and algorithms to make this happen.\n",
    "\n",
    "Note - These fields are interconnected and often overlap, with deep learning being a subset of machine \n",
    "learning, and machine learning being a subset of artificial intelligence. Data science also incorporates \n",
    "elements of machine learning and statistical analysis, as well as other techniques for data processing \n",
    "and analysis."
   ]
  },
  {
   "cell_type": "markdown",
   "id": "db639286-0a18-4362-a123-2a93f6935a2e",
   "metadata": {},
   "source": [
    "# Question 5\n",
    "\n",
    "What are the main differences between supervised, unsupervised, and semi-supervised learning?"
   ]
  },
  {
   "cell_type": "code",
   "execution_count": null,
   "id": "99876892-9ab1-4741-bbc0-09c227eaa592",
   "metadata": {},
   "outputs": [],
   "source": [
    "Supervised, unsupervised, and semi-supervised learning are three main types of machine learning. Here \n",
    "are the key differences between them:\n",
    "    \n",
    "    1. Supervised learning: Supervised learning is a type of machine learning in which an algorithm learns\n",
    "    from labeled data. The input data is labeled with the correct output, and the algorithm learns to map \n",
    "    the input to the output. The goal of supervised learning is to build a model that can accurately \n",
    "    predict the output for new, unseen data. Examples of supervised learning include classification and \n",
    "    regression problems.\n",
    "    \n",
    "    2. Unsupervised learning: Unsupervised learning is a type of machine learning in which the algorithm \n",
    "    learns from unlabeled data. The goal of unsupervised learning is to identify patterns in the data \n",
    "    without any prior knowledge of what those patterns might be. The algorithm tries to find the underlying\n",
    "    structure or distribution of the data. Examples of unsupervised learning include clustering, \n",
    "    dimensionality reduction, and anomaly detection.\n",
    "    \n",
    "    3. Semi-supervised learning: Semi-supervised learning is a type of machine learning that combines both\n",
    "    labeled and unlabeled data. The algorithm learns from the labeled data and tries to generalize to the \n",
    "    unlabeled data. The goal of semi-supervised learning is to improve the accuracy of the model by using \n",
    "    the unlabeled data. Semi-supervised learning can be useful when there is a large amount of unlabeled \n",
    "    data available, but labeling the data is expensive or time-consuming.\n",
    "    "
   ]
  },
  {
   "cell_type": "markdown",
   "id": "54ceda6b-6174-4538-84b1-581650144820",
   "metadata": {},
   "source": [
    "# Question 6\n",
    "\n",
    "What is train, test and validation split? Explain the importance of Each term."
   ]
  },
  {
   "cell_type": "code",
   "execution_count": null,
   "id": "86bbb129-a2d5-4478-9fe2-878bbb507947",
   "metadata": {},
   "outputs": [],
   "source": [
    "1. Training Set : The training set is the dataset that we employ to train our model. It is this dataset\n",
    "that our model uses to learn any underlying patterns or relationships that will enable making predictions\n",
    "later on.\n",
    "\n",
    "The training set should be as representative as possible of the population that we are trying to model.\n",
    "Additionally, we need to be careful and ensure that it is as unbiased as possible, as any bias at this stage\n",
    "may be propagated downstream during inference.\n",
    "\n",
    "2. Validation Set : it acts as an independent, unbiased dataset for comparing the performance of different \n",
    "algorithms trained on our training set.\n",
    "\n",
    "3.Test Set: Once we have used the validation set to determine the algorithm and parameter choices that we \n",
    "would like to use in production, the test set is used to approximate the models's true performance in the\n",
    "wild. It is the final step in evaluating our model's performance on unseen data.\n"
   ]
  },
  {
   "cell_type": "markdown",
   "id": "8c766a10-0e4e-4f8c-9687-52424a5227c6",
   "metadata": {},
   "source": [
    "# Question 7\n",
    "\n",
    "How can unsupervised learning be used in anomaly detection?"
   ]
  },
  {
   "cell_type": "code",
   "execution_count": null,
   "id": "7f8ddbe2-5f7f-4a36-9d8e-da814e4b280c",
   "metadata": {},
   "outputs": [],
   "source": [
    "Unsupervised machine learning can be used in anomaly detection by leveraging the fact that anomalies are\n",
    "rare and unusual events that deviate significantly from the normal behavior of a system. Here are some \n",
    "common techniques used for anomaly detection using unsupervised machine learning:\n",
    "    \n",
    "    1. Clustering: Clustering algorithms such as k-means, DBSCAN, and hierarchical clustering can be used \n",
    "    to group similar data points together. Anomalies can then be identified as data points that do not \n",
    "    belong to any of the clusters or are in small, isolated clusters.\n",
    "    \n",
    "    2. Density-Based Outlier Detection: Density-based techniques such as Local Outlier Factor (LOF) and \n",
    "    Isolation Forest can be used to identify outliers that have a low density compared to their neighbors.\n",
    "    \n",
    "    3. Dimensionality Reduction: Dimensionality reduction techniques such as Principal Component Analysis\n",
    "    (PCA) and t-SNE can be used to reduce the high-dimensional data into a lower-dimensional space. \n",
    "    Anomalies can then be identified as data points that are far from the bulk of the data in the reduced \n",
    "    space.\n",
    "    \n",
    "    4. Autoencoders: Autoencoders are a type of neural network that can be used for unsupervised anomaly\n",
    "    detection. The autoencoder learns to reconstruct the input data, and anomalies can be identified as \n",
    "    data points that are poorly reconstructed.\n",
    "    \n",
    "Overall, unsupervised machine learning is a useful tool for anomaly detection because it can identify \n",
    "anomalies without requiring a labeled dataset. However, it's important to note that the success of the\n",
    "unsupervised approach depends heavily on the quality of the data and the choice of the algorithm."
   ]
  },
  {
   "cell_type": "markdown",
   "id": "9cbe7d8c-b129-4ecb-986f-3bb430f7ea13",
   "metadata": {},
   "source": [
    "# Question 8\n",
    "\n",
    "List down some commonly used supervised learning algorithms and unsupervised learning\n",
    "algorithms."
   ]
  },
  {
   "cell_type": "code",
   "execution_count": null,
   "id": "eb4dae83-b46f-4483-8d07-a24465300ec6",
   "metadata": {},
   "outputs": [],
   "source": [
    "Below are commonly used supervised and unsupervised Machine Learning algorithms :\n",
    "    \n",
    "    Supervised Learning Algorithms:                      Unsupervised Learning Algorithms:\n",
    "        Linear Regression                                    \tK-Means Clustering\n",
    "        Logistic Regression                                     Hierarchical Clustering\n",
    "        Decision Tree                                           DBSCAN Clustering\n",
    "        Random Forest                                           Principal Component Analysis (PCA)\n",
    "        Support Vector Machines (SVM)                           Independent Component Analysis (ICA)\n",
    "        Naive Bayes                                             t-SNE (t-Distributed Stochastic Neighbor Embedding)\n",
    "        K-Nearest Neighbors (KNN)                               Isolation Forest\n",
    "        Neural Networks                                         Autoencoders"
   ]
  }
 ],
 "metadata": {
  "kernelspec": {
   "display_name": "Python 3 (ipykernel)",
   "language": "python",
   "name": "python3"
  },
  "language_info": {
   "codemirror_mode": {
    "name": "ipython",
    "version": 3
   },
   "file_extension": ".py",
   "mimetype": "text/x-python",
   "name": "python",
   "nbconvert_exporter": "python",
   "pygments_lexer": "ipython3",
   "version": "3.10.8"
  }
 },
 "nbformat": 4,
 "nbformat_minor": 5
}
