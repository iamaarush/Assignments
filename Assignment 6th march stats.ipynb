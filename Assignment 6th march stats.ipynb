{
 "cells": [
  {
   "cell_type": "markdown",
   "id": "4b749c70-9d9d-42ac-b184-f6db3152a401",
   "metadata": {},
   "source": [
    "# Question 1\n",
    "\n",
    "What is Statistics?"
   ]
  },
  {
   "cell_type": "code",
   "execution_count": null,
   "id": "480e45ae-83d3-4908-b209-d88001820e66",
   "metadata": {},
   "outputs": [],
   "source": [
    "Statistics is the science of collecting , organizing and analizing data.It involves the use of quantitative methods to \n",
    "extract meaning and insights from data sets."
   ]
  },
  {
   "cell_type": "markdown",
   "id": "e55c2462-9001-433a-8858-333b82d34056",
   "metadata": {},
   "source": [
    "# Question 2\n",
    "\n",
    "Define the different types of statistics and give an example of when each type might be used."
   ]
  },
  {
   "cell_type": "code",
   "execution_count": null,
   "id": "3434a605-95b9-4eba-ac38-286e09d9565c",
   "metadata": {},
   "outputs": [],
   "source": [
    "There are two main type of statistics : Descriptive statistics and Infrential statistics \n",
    "\n",
    "Descriptive statistics - descriptive statistics involves summarizing and describing data through measures such as Mean , \n",
    "Median , Mode , Range , Standard deviation and Variance. these statistics help us understand the characterstics of data \n",
    "such as its central tendency , variability and destribution.\n",
    "Example - A student wants to know the height of there classmates so he collected data of heights of there classmates and \n",
    "use descriptive statistics to claculate mean . median and standard deviation of the heights.\n",
    "\n",
    "Inferential statistics - Inferential statistics involves making predictions or drawing conclusions about a population based \n",
    "on a sample of data.This type of statistics use probability theory to estimate the liklihood that a particular conclusion \n",
    "is true.\n",
    "Example - A pharmaceutical company wants to test the effectiveness of a new drug. They conduct a randomized controlled trial\n",
    "with a sample of patients and use inferential statistics to determine whether the drug has a significant effect compared to\n",
    "a placebo. This information can help the company make decisions about whether to pursue further research or seek approval \n",
    "from regulatory agencies."
   ]
  },
  {
   "cell_type": "markdown",
   "id": "7ec3886b-e172-466e-8d49-664c126273c6",
   "metadata": {},
   "source": [
    "# Question 3\n",
    "\n",
    "What are the different types of data and how do they differ from each other? Provide an example of\n",
    "each type of data."
   ]
  },
  {
   "cell_type": "code",
   "execution_count": null,
   "id": "de847bf7-7f99-4cf1-9e83-72049594d06c",
   "metadata": {},
   "outputs": [],
   "source": [
    "There are two categories of data : Quantitative data and Qualitative data.\n",
    "\n",
    "Quantitative data consists of numerical measurements.\n",
    "Qualitative data consists of descriptive or categorical information.\n",
    "\n",
    "Quantitative and Qualitative further classified into below categories:\n",
    "    Quantitative:\n",
    "        Discrete data \n",
    "        Continuous data\n",
    "    \n",
    "    Qualitative:\n",
    "        Nominal data \n",
    "        Ordinal data\n",
    "        \n",
    "Quantitative/Discrete data - Numerical values that can only take on specific values, typically integers.\n",
    "Example - number of person in a family , number of vehicles in the house.\n",
    "\n",
    "Quantitative/Continuous data - Numerical values that can take on any value within a range.\n",
    "Example - Temprature , length , Time.\n",
    "\n",
    "Qualitative/Nominal data - Descriptive or categorical information that cannot be ranked or ordered.\n",
    "Example - Gender , Bloodgroup , pincode\n",
    "\n",
    "Qualitative/Ordinal data - Descriptive or categorical information that can be ranked or ordered, but the intervals between\n",
    "categories are not necessarily equal.\n",
    "Example - Customer feedback , Education level"
   ]
  },
  {
   "cell_type": "markdown",
   "id": "cae3f6f4-ed6a-4f66-846f-b8a6136e3b36",
   "metadata": {},
   "source": [
    "# Question 4\n",
    "\n",
    "Categorise the following datasets with respect to quantitative and qualitative data types:\n",
    "\n",
    "(i) Grading in exam: A+, A, B+, B, C+, C, D, E\n",
    "\n",
    "(ii) Colour of mangoes: yellow, green, orange, red\n",
    "\n",
    "(iii) Height data of a class: [178.9, 179, 179.5, 176, 177.2, 178.3, 175.8,...]\n",
    "\n",
    "(iv) Number of mangoes exported by a farm: [500, 600, 478, 672, ...]"
   ]
  },
  {
   "cell_type": "code",
   "execution_count": null,
   "id": "31eaedfa-8f5f-4ea2-b5f3-7de9207f469d",
   "metadata": {},
   "outputs": [],
   "source": [
    "(i). Grading in exam is Qualitative ordinal variable with A+ variable being highest rank and E being lowest.\n",
    "\n",
    "(ii). colour of mangoes is a Qualitative Nominal variable because colour cannot have a ranking.\n",
    "\n",
    "(iii). Height data of class is a Quantitative Continuous variable because this is numeric measurement and is not restricted\n",
    "to be an integer.\n",
    "\n",
    "(iv). Number of mangoes is a Quantitative Discrete variable because this is a numeric measurement and will always be integer."
   ]
  },
  {
   "cell_type": "markdown",
   "id": "235c6e43-ba6d-4dde-8011-8f40c742b0a4",
   "metadata": {},
   "source": [
    "# Question 5\n",
    "\n",
    "Explain the concept of levels of measurement and give an example of a variable for each level."
   ]
  },
  {
   "cell_type": "code",
   "execution_count": null,
   "id": "957e7601-5516-4baf-9913-62afa79eebf0",
   "metadata": {},
   "outputs": [],
   "source": [
    "The concept of levels of measurement, also known as scales of measurement, refers to the different ways in which data can\n",
    "be classified based on the type and properties of the variable being measured. There are four commonly recognized levels \n",
    "of measurement: nominal, ordinal, interval, and ratio.\n",
    "\n",
    "Nominal - Categorical variables with no inherent order or numerical value.\n",
    "Example - Country of origin, favorite color, political affiliation\n",
    "\n",
    "Ordinal - Categorical variables with a specific order or rank, but unequal or non-meaningful differences between categories.\n",
    "Example - Likert scale responses (strongly disagree, disagree, neutral, agree, strongly agree), stage of cancer (stage I,\n",
    "stage II, stage III, stage IV)\n",
    "\n",
    "Interval - Numerical variables with a specific order and equal intervals between values, but no true zero point.\n",
    "Example - Temperature (Celsius or Fahrenheit), Standardized test scores (SAT, ACT), credit scores, calendar years\n",
    "\n",
    "Ratio - Numerical variables with a specific order, equal intervals between values, and a true zero point.\n",
    "Example - income, distance ,age"
   ]
  },
  {
   "cell_type": "markdown",
   "id": "a52a6586-69b2-42fa-b1a4-d8dd20d7047a",
   "metadata": {},
   "source": [
    "# Question 6\n",
    "\n",
    "Why is it important to understand the level of measurement when analyzing data? Provide an\n",
    "example to illustrate your answer."
   ]
  },
  {
   "cell_type": "code",
   "execution_count": null,
   "id": "9def3825-887c-4fac-a197-95354f2a0b55",
   "metadata": {},
   "outputs": [],
   "source": [
    "Understanding the level of measurement of a variable is important because it determines the types of statistical analyses \n",
    "that can be performed and the appropriate interpretation of the results. In other words, the level of measurement helps \n",
    "researchers to identify the appropriate statistical procedures and tests to use when analyzing data. Using the wrong \n",
    "statistical procedure for a given level of measurement can result in misleading or inaccurate conclusions.\n",
    "\n",
    "\n",
    "For example, let's consider a study that examines the relationship between income and job satisfaction among employees in a\n",
    "company. The income variable is a ratio-level variable because it has a true zero point (no income) and equal intervals \n",
    "between values. In contrast, job satisfaction is an ordinal-level variable because it has a specific order or rank, but \n",
    "unequal or non-meaningful differences between categories. If the researcher were to use a correlation analysis to examine\n",
    "the relationship between these two variables, the result would be incorrect because correlation is only appropriate for \n",
    "ratio-level variables. Instead, a more appropriate statistical test for analyzing the relationship between a ratio-level\n",
    "and ordinal-level variable would be a chi-squared test or a t-test."
   ]
  },
  {
   "cell_type": "markdown",
   "id": "bd5c7e49-8caf-4e4c-a2a2-628d2d39c1dc",
   "metadata": {},
   "source": [
    "# Question 7\n",
    "\n",
    "How nominal data type is different from ordinal data type."
   ]
  },
  {
   "cell_type": "code",
   "execution_count": null,
   "id": "9e5c5e3c-30d6-4c69-a792-691bdd0bb726",
   "metadata": {},
   "outputs": [],
   "source": [
    "Nominal and ordinal data are both types of categorical data, but they differ in the level of measurement and the type of \n",
    "information they provide.\n",
    "\n",
    "Nominal data is the lowest level of measurement and refers to data that is categorized without any numerical or quantitative \n",
    "value. In other words, nominal data consists of categories that are mutually exclusive and do not have any inherent order or \n",
    "ranking.\n",
    "Examples of nominal data include gender (male/female), hair color (blonde/brunette/red), and marital status \n",
    "(single/married/divorced).\n",
    "\n",
    "\n",
    "Ordinal data, on the other hand, is the second level of measurement and refers to data that has an inherent order or ranking,\n",
    "but the differences between categories may not be equal or meaningful. \n",
    "Examples of ordinal data include educational level (elementary school, high school, college), level of agreement\n",
    "(strongly disagree, disagree, neutral, agree, strongly agree), and rating scales (poor, fair, good, excellent)."
   ]
  },
  {
   "cell_type": "markdown",
   "id": "b625bcce-94bf-4323-812f-18354e17c036",
   "metadata": {},
   "source": [
    "# Question 8\n",
    "\n",
    "Which type of plot can be used to display data in terms of range?"
   ]
  },
  {
   "cell_type": "code",
   "execution_count": null,
   "id": "5144b223-0d97-486b-92cf-9d17fd9e16a5",
   "metadata": {},
   "outputs": [],
   "source": [
    "A box plot or a box-and-whisker plot is a type of plot that can be used to display data in terms of range. Box plots are \n",
    "particularly useful for displaying data that has a non-normal distribution, outliers, or multiple groups of data that need\n",
    "to be compared.\n",
    "\n",
    "A box plot provides a visual representation of the minimum, maximum, median, and quartiles of a dataset. The box in the plot\n",
    "represents the interquartile range (IQR), which is the range of values between the first quartile (25th percentile) and the \n",
    "third quartile (75th percentile) of the dataset. The median is represented by a line within the box, while the minimum and \n",
    "maximum values are represented by the whiskers (vertical lines) that extend from the box.\n",
    "\n",
    "Box plots are particularly useful for comparing the range and distribution of different groups of data, as multiple box plots\n",
    "can be displayed side by side for comparison. They are also useful for identifying outliers, which are values that fall \n",
    "outside the minimum or maximum range of the dataset.\n",
    "\n",
    "Histogram is also one of the plot that can be shown in terms of ranges\n",
    "A histogram is particularly useful for displaying continuous data, as it allows you to see the shape of the distribution, \n",
    "including any peaks or clusters, as well as the range and spread of the data. It can also help identify outliers or unusual\n",
    "patterns in the data."
   ]
  },
  {
   "cell_type": "markdown",
   "id": "4b960f8f-8378-4524-abd7-9324dbceb1d0",
   "metadata": {},
   "source": [
    "# Question 9\n",
    "\n",
    "Describe the difference between descriptive and inferential statistics. Give an example of each\n",
    "type of statistics and explain how they are used."
   ]
  },
  {
   "cell_type": "code",
   "execution_count": null,
   "id": "dcb9ce75-4a23-4c02-9fe2-d61cda5a9908",
   "metadata": {},
   "outputs": [],
   "source": [
    "Descriptive statistics are used to summarize and describe the basic features of a dataset. They are used to analyze the\n",
    "characteristics of the data, such as central tendency, variability, and distribution. Descriptive statistics do not allow\n",
    "for generalization of the data beyond the sample being analyzed.\n",
    "\n",
    "Example1 - An example of descriptive statistics is calculating the mean, median, and mode of a dataset. These measures provide \n",
    "information about the central tendency of the data and are used to summarize the dataset. \n",
    "Example2 -  Another example of descriptive statistics is creating a histogram or bar chart to visually represent the \n",
    "distribution of the data.\n",
    "\n",
    "Inferential statistics, on the other hand, are used to make inferences or draw conclusions about a larger population based on \n",
    "a smaller sample of data. They allow researchers to make generalizations about the population and estimate the likelihood of \n",
    "certain outcomes based on the sample data.\n",
    "\n",
    "Example - An example of inferential statistics is conducting a hypothesis test to determine if there is a significant\n",
    "difference between two groups of data. This involves calculating a test statistic and comparing it to a critical value\n",
    "to determine if the difference is statistically significant."
   ]
  },
  {
   "cell_type": "markdown",
   "id": "c7a43da4-d430-4b59-9598-3d2d414e3d32",
   "metadata": {},
   "source": [
    "# Question 10\n",
    "\n",
    "What are some common measures of central tendency and variability used in statistics? Explain\n",
    "how each measure can be used to describe a dataset."
   ]
  },
  {
   "cell_type": "code",
   "execution_count": null,
   "id": "4e05a8dd-b37f-4e07-878b-5397ce3b22c9",
   "metadata": {},
   "outputs": [],
   "source": [
    "Measures of central tendency and variability are two types of descriptive statistics that are commonly used to summarize and\n",
    "describe a dataset.\n",
    "\n",
    "The main measures of central tendency include the mean, median, and mode, while the main measures of variability include the \n",
    "range, variance, and standard deviation\n",
    "\n",
    "Mean - Arithmetic average of a set of values.\n",
    "Median - Middle value in a dataset when it is ordered from smallest to largest.\n",
    "Mode - Most common value in a dataset.\n",
    "\n",
    "Range - Difference between the largest and smallest values in a dataset.\n",
    "Variance - Average of the squared differences from the mean.\n",
    "Standard deviation - Square root of the variance."
   ]
  }
 ],
 "metadata": {
  "kernelspec": {
   "display_name": "Python 3 (ipykernel)",
   "language": "python",
   "name": "python3"
  },
  "language_info": {
   "codemirror_mode": {
    "name": "ipython",
    "version": 3
   },
   "file_extension": ".py",
   "mimetype": "text/x-python",
   "name": "python",
   "nbconvert_exporter": "python",
   "pygments_lexer": "ipython3",
   "version": "3.10.8"
  }
 },
 "nbformat": 4,
 "nbformat_minor": 5
}
