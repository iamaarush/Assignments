{
 "cells": [
  {
   "cell_type": "code",
   "execution_count": 2,
   "id": "ef3b8946-ecf7-4c02-9d19-8985a7f2066c",
   "metadata": {},
   "outputs": [],
   "source": [
    "import numpy as np\n",
    "list_ = [ '1','2','3','4','5' ]\n",
    "array_list = np.array(object = list_)"
   ]
  },
  {
   "cell_type": "code",
   "execution_count": 11,
   "id": "984ba987-3994-4c98-b892-57a3553bbbca",
   "metadata": {},
   "outputs": [
    {
     "name": "stdout",
     "output_type": "stream",
     "text": [
      "Datatype of list_ is : <class 'list'>\n",
      "Datatype of array_list is: <class 'numpy.ndarray'>\n"
     ]
    },
    {
     "data": {
      "text/plain": [
       "'Yes ,there is difference in the datatype of list_ and array_list variables.\\nThe list_ variable datatype is python list of strings whereas array_list is a numpy array of strings although they both contain \\nsame string values but they have different datatypes because they are different types of objects.'"
      ]
     },
     "execution_count": 11,
     "metadata": {},
     "output_type": "execute_result"
    }
   ],
   "source": [
    "# Question 1\n",
    "\n",
    "print('Datatype of list_ is :' , type(list_))\n",
    "print(\"Datatype of array_list is:\" , type(array_list))\n",
    "\n",
    "\n",
    "\"\"\"Yes ,there is difference in the datatype of list_ and array_list variables.\n",
    "The list_ variable datatype is python list of strings whereas array_list is a numpy array of strings although they both contain \n",
    "same string values but they have different datatypes because they are different types of objects.\"\"\""
   ]
  },
  {
   "cell_type": "code",
   "execution_count": null,
   "id": "7b3cdcec-f287-45d5-b3b2-97426f982273",
   "metadata": {},
   "outputs": [],
   "source": []
  },
  {
   "cell_type": "code",
   "execution_count": 12,
   "id": "37eb2652-340b-4ea8-8fea-b05bc9ad90cb",
   "metadata": {},
   "outputs": [
    {
     "name": "stdout",
     "output_type": "stream",
     "text": [
      "The given element : 1 , Datatype = <class 'str'>\n",
      "The given element : 2 , Datatype = <class 'str'>\n",
      "The given element : 3 , Datatype = <class 'str'>\n",
      "The given element : 4 , Datatype = <class 'str'>\n",
      "The given element : 5 , Datatype = <class 'str'>\n"
     ]
    }
   ],
   "source": [
    "# Question 2\n",
    "\n",
    "# Datatype of each and every element in list_\n",
    "\n",
    "for i in list_:\n",
    "    print(f'The given element : {i} , Datatype = {type(i)}' )"
   ]
  },
  {
   "cell_type": "code",
   "execution_count": 13,
   "id": "b045c3a2-19c9-498e-a19a-3ee811cc60a1",
   "metadata": {},
   "outputs": [
    {
     "name": "stdout",
     "output_type": "stream",
     "text": [
      "The given element : 1 , Datatype = <class 'numpy.str_'>\n",
      "The given element : 2 , Datatype = <class 'numpy.str_'>\n",
      "The given element : 3 , Datatype = <class 'numpy.str_'>\n",
      "The given element : 4 , Datatype = <class 'numpy.str_'>\n",
      "The given element : 5 , Datatype = <class 'numpy.str_'>\n"
     ]
    }
   ],
   "source": [
    "# Datatype of each element in array_list\n",
    "\n",
    "for j in array_list:\n",
    "    print(f'The given element : {j} , Datatype = {type(j)}' )"
   ]
  },
  {
   "cell_type": "code",
   "execution_count": null,
   "id": "119c86eb-7cee-491d-b43f-3097e4ffd2a9",
   "metadata": {},
   "outputs": [],
   "source": []
  },
  {
   "cell_type": "code",
   "execution_count": 20,
   "id": "d8d259a6-bff2-421f-88ef-079f7aba4235",
   "metadata": {},
   "outputs": [
    {
     "name": "stdout",
     "output_type": "stream",
     "text": [
      "Datatype of every element in list_ \n",
      "\n",
      "The given element : 1 , Datatype = <class 'str'>\n",
      "The given element : 2 , Datatype = <class 'str'>\n",
      "The given element : 3 , Datatype = <class 'str'>\n",
      "The given element : 4 , Datatype = <class 'str'>\n",
      "The given element : 5 , Datatype = <class 'str'>\n",
      "\n",
      "\n",
      "Datatype of every element in array_list \n",
      "\n",
      "The given element : 1 , Datatype = <class 'numpy.int64'>\n",
      "The given element : 2 , Datatype = <class 'numpy.int64'>\n",
      "The given element : 3 , Datatype = <class 'numpy.int64'>\n",
      "The given element : 4 , Datatype = <class 'numpy.int64'>\n",
      "The given element : 5 , Datatype = <class 'numpy.int64'>\n"
     ]
    }
   ],
   "source": [
    "# Question 3\n",
    "\n",
    "array_list = np.array(object = list_, dtype = int)\n",
    "\n",
    "array_list\n",
    "\n",
    "\"\"\"Yes there is difference in the datatype of the elements present in both variables .\n",
    "list_variable datatype is list of strings and array_list datatype is now change into numpy integer.\"\"\"\n",
    "\n",
    "# Code to show the datatype of both the variables \n",
    "\n",
    "print('Datatype of every element in list_','\\n')\n",
    "\n",
    "for i in list_:\n",
    "    print(f'The given element : {i} , Datatype = {type(i)}' )\n",
    "    \n",
    "print('\\n')    \n",
    "print('Datatype of every element in array_list','\\n')\n",
    "\n",
    "for j in array_list:\n",
    "    print(f'The given element : {j} , Datatype = {type(j)}' )"
   ]
  },
  {
   "cell_type": "code",
   "execution_count": null,
   "id": "b9561c1d-29a8-467d-8d5e-5c1dfd78a01b",
   "metadata": {},
   "outputs": [],
   "source": []
  },
  {
   "cell_type": "code",
   "execution_count": 21,
   "id": "124e4af9-b957-4a63-96f4-bf0afe6f3678",
   "metadata": {},
   "outputs": [],
   "source": [
    "import numpy as np\n",
    "num_list = [ [ 1 , 2 , 3 ] , [ 4 , 5 , 6 ] ]\n",
    "num_array = np.array(object = num_list)"
   ]
  },
  {
   "cell_type": "code",
   "execution_count": 31,
   "id": "6d5a306d-7112-47f7-8d08-fd34fbe94fd6",
   "metadata": {},
   "outputs": [
    {
     "name": "stdout",
     "output_type": "stream",
     "text": [
      "Showing num_array shape: \n",
      "\n",
      "(2, 3)\n",
      "Showing num_array size: \n",
      "\n",
      "6\n"
     ]
    }
   ],
   "source": [
    "# Question 4\n",
    "\n",
    "print('Showing num_array shape:','\\n')\n",
    "\n",
    "print(num_array.shape)\n",
    "\n",
    "\n",
    "print('Showing num_array size:','\\n')\n",
    "\n",
    "\n",
    "print(num_array.size)"
   ]
  },
  {
   "cell_type": "code",
   "execution_count": null,
   "id": "8f445250-bdc6-4ea5-a93d-7cfbe7c41598",
   "metadata": {},
   "outputs": [],
   "source": []
  },
  {
   "cell_type": "code",
   "execution_count": 51,
   "id": "5c477a70-e396-453d-a59a-b87cec9a370a",
   "metadata": {},
   "outputs": [
    {
     "name": "stdout",
     "output_type": "stream",
     "text": [
      "[[0. 0. 0.]\n",
      " [0. 0. 0.]\n",
      " [0. 0. 0.]] \n",
      "\n",
      "Size of the matrix: 9 \n",
      "\n",
      "Shape of the matrix: (3, 3) \n",
      "\n"
     ]
    }
   ],
   "source": [
    "# Question 5\n",
    "\n",
    "# Creating matrix of 3*3 containig zero only through zeroes func\n",
    "\n",
    "arr = np.zeros((3 ,3))\n",
    "\n",
    "print(arr , '\\n')\n",
    "# Veryfying matrix size and shape\n",
    "\n",
    "print('Size of the matrix:',arr.size , '\\n')\n",
    "\n",
    "print('Shape of the matrix:',arr.shape , '\\n')\n"
   ]
  },
  {
   "cell_type": "code",
   "execution_count": null,
   "id": "c5b89b3f-70ec-44cc-965e-50cf38594fa0",
   "metadata": {},
   "outputs": [],
   "source": []
  },
  {
   "cell_type": "code",
   "execution_count": 56,
   "id": "4f1d1094-0753-44b5-9545-7fde3c5a4ff5",
   "metadata": {},
   "outputs": [
    {
     "name": "stdout",
     "output_type": "stream",
     "text": [
      "Identity matrix(5,5): \n",
      " [[1. 0. 0. 0. 0.]\n",
      " [0. 1. 0. 0. 0.]\n",
      " [0. 0. 1. 0. 0.]\n",
      " [0. 0. 0. 1. 0.]\n",
      " [0. 0. 0. 0. 1.]]\n"
     ]
    }
   ],
   "source": [
    "# Question 6\n",
    "\n",
    "# Creating identity matrix of 5*5 \n",
    "\n",
    "eye_arr = np.eye(5,5)\n",
    "\n",
    "print('Identity matrix(5,5):','\\n' ,eye_arr)"
   ]
  },
  {
   "cell_type": "code",
   "execution_count": null,
   "id": "10ea674f-fd87-4aed-86c0-d08ca3ac20b8",
   "metadata": {},
   "outputs": [],
   "source": []
  }
 ],
 "metadata": {
  "kernelspec": {
   "display_name": "Python 3 (ipykernel)",
   "language": "python",
   "name": "python3"
  },
  "language_info": {
   "codemirror_mode": {
    "name": "ipython",
    "version": 3
   },
   "file_extension": ".py",
   "mimetype": "text/x-python",
   "name": "python",
   "nbconvert_exporter": "python",
   "pygments_lexer": "ipython3",
   "version": "3.10.8"
  }
 },
 "nbformat": 4,
 "nbformat_minor": 5
}
