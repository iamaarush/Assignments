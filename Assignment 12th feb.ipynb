{
 "cells": [
  {
   "cell_type": "code",
   "execution_count": 2,
   "id": "fa2c37a9-d39f-4040-a225-3f3014a1de63",
   "metadata": {},
   "outputs": [
    {
     "data": {
      "text/plain": [
       "'An exception is an event which occurs during the execution of a program that disrupts the normal flow of the\\nprograms instructions. An exception is a Python object that represents an error.\\nErrors are the problems in a program due to which the program will stop the execution. On the other hand \\nexceptions are raised when some internal events occur which changes the normal flow of the program.'"
      ]
     },
     "execution_count": 2,
     "metadata": {},
     "output_type": "execute_result"
    }
   ],
   "source": [
    "# Question 1\n",
    "\n",
    "\"\"\"An exception is an event which occurs during the execution of a program that disrupts the normal flow of the\n",
    "programs instructions. An exception is a Python object that represents an error.\n",
    "Errors are the problems in a program due to which the program will stop the execution. On the other hand \n",
    "exceptions are raised when some internal events occur which changes the normal flow of the program.\"\"\""
   ]
  },
  {
   "cell_type": "code",
   "execution_count": null,
   "id": "536db1a4-f4e9-4333-b389-8065753ce897",
   "metadata": {},
   "outputs": [],
   "source": []
  },
  {
   "cell_type": "code",
   "execution_count": 3,
   "id": "052fc172-4199-429f-9288-85d6b99c9b35",
   "metadata": {},
   "outputs": [
    {
     "ename": "FileNotFoundError",
     "evalue": "[Errno 2] No such file or directory: 'test.txt'",
     "output_type": "error",
     "traceback": [
      "\u001b[0;31m---------------------------------------------------------------------------\u001b[0m",
      "\u001b[0;31mFileNotFoundError\u001b[0m                         Traceback (most recent call last)",
      "Cell \u001b[0;32mIn[3], line 8\u001b[0m\n\u001b[1;32m      3\u001b[0m \u001b[38;5;124;03m\"\"\"When an exception is not handled the program will not execute and show a error wheather only first line is having an \u001b[39;00m\n\u001b[1;32m      4\u001b[0m \u001b[38;5;124;03merror the whole program is going to crash.  Example -\"\"\"\u001b[39;00m\n\u001b[1;32m      6\u001b[0m \u001b[38;5;66;03m# we are opening a file in reaad mode which wil show us an error .\u001b[39;00m\n\u001b[0;32m----> 8\u001b[0m file \u001b[38;5;241m=\u001b[39m \u001b[38;5;28;43mopen\u001b[39;49m\u001b[43m(\u001b[49m\u001b[38;5;124;43m\"\u001b[39;49m\u001b[38;5;124;43mtest.txt\u001b[39;49m\u001b[38;5;124;43m\"\u001b[39;49m\u001b[43m  \u001b[49m\u001b[43m,\u001b[49m\u001b[43m \u001b[49m\u001b[38;5;124;43m\"\u001b[39;49m\u001b[38;5;124;43mr\u001b[39;49m\u001b[38;5;124;43m\"\u001b[39;49m\u001b[43m)\u001b[49m\n\u001b[1;32m      9\u001b[0m \u001b[38;5;28mprint\u001b[39m(\u001b[38;5;124m\"\u001b[39m\u001b[38;5;124mthis will not going to execute as it is having an error in the first line\u001b[39m\u001b[38;5;124m\"\u001b[39m)\n",
      "File \u001b[0;32m/opt/conda/lib/python3.10/site-packages/IPython/core/interactiveshell.py:282\u001b[0m, in \u001b[0;36m_modified_open\u001b[0;34m(file, *args, **kwargs)\u001b[0m\n\u001b[1;32m    275\u001b[0m \u001b[38;5;28;01mif\u001b[39;00m file \u001b[38;5;129;01min\u001b[39;00m {\u001b[38;5;241m0\u001b[39m, \u001b[38;5;241m1\u001b[39m, \u001b[38;5;241m2\u001b[39m}:\n\u001b[1;32m    276\u001b[0m     \u001b[38;5;28;01mraise\u001b[39;00m \u001b[38;5;167;01mValueError\u001b[39;00m(\n\u001b[1;32m    277\u001b[0m         \u001b[38;5;124mf\u001b[39m\u001b[38;5;124m\"\u001b[39m\u001b[38;5;124mIPython won\u001b[39m\u001b[38;5;124m'\u001b[39m\u001b[38;5;124mt let you open fd=\u001b[39m\u001b[38;5;132;01m{\u001b[39;00mfile\u001b[38;5;132;01m}\u001b[39;00m\u001b[38;5;124m by default \u001b[39m\u001b[38;5;124m\"\u001b[39m\n\u001b[1;32m    278\u001b[0m         \u001b[38;5;124m\"\u001b[39m\u001b[38;5;124mas it is likely to crash IPython. If you know what you are doing, \u001b[39m\u001b[38;5;124m\"\u001b[39m\n\u001b[1;32m    279\u001b[0m         \u001b[38;5;124m\"\u001b[39m\u001b[38;5;124myou can use builtins\u001b[39m\u001b[38;5;124m'\u001b[39m\u001b[38;5;124m open.\u001b[39m\u001b[38;5;124m\"\u001b[39m\n\u001b[1;32m    280\u001b[0m     )\n\u001b[0;32m--> 282\u001b[0m \u001b[38;5;28;01mreturn\u001b[39;00m \u001b[43mio_open\u001b[49m\u001b[43m(\u001b[49m\u001b[43mfile\u001b[49m\u001b[43m,\u001b[49m\u001b[43m \u001b[49m\u001b[38;5;241;43m*\u001b[39;49m\u001b[43margs\u001b[49m\u001b[43m,\u001b[49m\u001b[43m \u001b[49m\u001b[38;5;241;43m*\u001b[39;49m\u001b[38;5;241;43m*\u001b[39;49m\u001b[43mkwargs\u001b[49m\u001b[43m)\u001b[49m\n",
      "\u001b[0;31mFileNotFoundError\u001b[0m: [Errno 2] No such file or directory: 'test.txt'"
     ]
    }
   ],
   "source": [
    "# Question 2\n",
    "\n",
    "\"\"\"When an exception is not handled the program will not execute and show a error wheather only first line is having an \n",
    "error the whole program is going to crash.  Example -\"\"\"\n",
    "\n",
    "# we are opening a file in reaad mode which wil show us an error .\n",
    "\n",
    "file = open(\"test.txt\"  , \"r\")\n",
    "print(\"this will not going to execute as it is having an error in the first line\")  # as we can see this line is also not going to execute because of the first line."
   ]
  },
  {
   "cell_type": "code",
   "execution_count": null,
   "id": "30348ab5-2cf8-48a4-9ab5-e218ce261cb7",
   "metadata": {},
   "outputs": [],
   "source": []
  },
  {
   "cell_type": "code",
   "execution_count": 4,
   "id": "88b36f03-e6a3-4a1b-a933-9a37e7374625",
   "metadata": {},
   "outputs": [
    {
     "name": "stdout",
     "output_type": "stream",
     "text": [
      "this will going to execute as it is inside the except block  [Errno 2] No such file or directory: 'test.txt'\n"
     ]
    }
   ],
   "source": [
    "# Question 3\n",
    "\n",
    "\"\"\"Try and Except blocks are used to catch and handle Exception.Try basically lets you test a block of code for errors\n",
    "where except block lets you handle the error.\"\"\"\n",
    "\n",
    "# Example - we are taking the same example of question 2 .but this time we are using try and except to handle the error.\n",
    "\n",
    "try:\n",
    "    file = open(\"test.txt\"  , \"r\")\n",
    "except Exception as e:    \n",
    "    print(\"this will going to execute as it is inside the except block \" , e)\n",
    "\n",
    "# wheather the first line is having an error but the second line is executed as it is written under try and except block.     \n"
   ]
  },
  {
   "cell_type": "code",
   "execution_count": null,
   "id": "53ed6297-cd09-4f73-897e-7002e51d7d16",
   "metadata": {},
   "outputs": [],
   "source": []
  },
  {
   "cell_type": "code",
   "execution_count": 5,
   "id": "d884b9b3-f218-48b7-9565-b4008b03ab3e",
   "metadata": {},
   "outputs": [
    {
     "name": "stdout",
     "output_type": "stream",
     "text": [
      "this is going to execute because try dont have any error .in such condition code will fall directly in the else block\n"
     ]
    }
   ],
   "source": [
    "# Question 4\n",
    "\n",
    "\"\"\"a. Try and else - try block lets you test a block of code for errors . and Else block lets you execute code when \n",
    "there is no error in the try block. and else is not going to execute without except block.\"\"\"\n",
    "\n",
    "# Example - \n",
    "\n",
    "try:\n",
    "    file = open(\"test.txt\" , \"w\")\n",
    "    file.write(\"this will going to execute as it does not have any error\")\n",
    "    \n",
    "except Exception as f:\n",
    "    print(\"this is not going to execute as the try block dont have any error \" , f)\n",
    "    \n",
    "else:\n",
    "    file.close()\n",
    "    print(\"this is going to execute because try dont have any error .in such condition code will fall directly in the else block\")"
   ]
  },
  {
   "cell_type": "code",
   "execution_count": 6,
   "id": "5733354d-4c3c-48db-a7dd-341afcb781a9",
   "metadata": {},
   "outputs": [
    {
     "name": "stdout",
     "output_type": "stream",
     "text": [
      "this will going to execute wheather the try block is having an error\n"
     ]
    },
    {
     "ename": "ZeroDivisionError",
     "evalue": "division by zero",
     "output_type": "error",
     "traceback": [
      "\u001b[0;31m---------------------------------------------------------------------------\u001b[0m",
      "\u001b[0;31mZeroDivisionError\u001b[0m                         Traceback (most recent call last)",
      "Cell \u001b[0;32mIn[6], line 8\u001b[0m\n\u001b[1;32m      4\u001b[0m \u001b[38;5;66;03m# Example - \u001b[39;00m\n\u001b[1;32m      6\u001b[0m \u001b[38;5;28;01mtry\u001b[39;00m:\n\u001b[0;32m----> 8\u001b[0m     a\u001b[38;5;241m=\u001b[39m \u001b[38;5;241;43m5\u001b[39;49m\u001b[38;5;241;43m/\u001b[39;49m\u001b[38;5;241;43m0\u001b[39;49m\n\u001b[1;32m      9\u001b[0m     a\n\u001b[1;32m     10\u001b[0m \u001b[38;5;28;01mfinally\u001b[39;00m :\n",
      "\u001b[0;31mZeroDivisionError\u001b[0m: division by zero"
     ]
    }
   ],
   "source": [
    "\"\"\"b. finally - The finally block lets you execute code regardless of the result of the try and except blocks. wheather \n",
    "code is having an error or not finally will going to execute .\"\"\" \n",
    "\n",
    "# Example - \n",
    "\n",
    "try:\n",
    "    \n",
    "    a= 5/0\n",
    "    a\n",
    "finally :\n",
    "    print(\"this will going to execute wheather the try block is having an error\")"
   ]
  },
  {
   "cell_type": "code",
   "execution_count": 12,
   "id": "a90414d3-38a9-4d09-b85c-482e45bee518",
   "metadata": {},
   "outputs": [
    {
     "ename": "Exception",
     "evalue": "it is a negative number given",
     "output_type": "error",
     "traceback": [
      "\u001b[0;31m---------------------------------------------------------------------------\u001b[0m",
      "\u001b[0;31mException\u001b[0m                                 Traceback (most recent call last)",
      "Cell \u001b[0;32mIn[12], line 6\u001b[0m\n\u001b[1;32m      4\u001b[0m x \u001b[38;5;241m=\u001b[39m \u001b[38;5;124m\"\u001b[39m\u001b[38;5;124maarush\u001b[39m\u001b[38;5;124m\"\u001b[39m\n\u001b[1;32m      5\u001b[0m \u001b[38;5;28;01mif\u001b[39;00m \u001b[38;5;28mtype\u001b[39m(x) \u001b[38;5;241m==\u001b[39m \u001b[38;5;28mstr\u001b[39m:\n\u001b[0;32m----> 6\u001b[0m     \u001b[38;5;28;01mraise\u001b[39;00m \u001b[38;5;167;01mException\u001b[39;00m(\u001b[38;5;124m\"\u001b[39m\u001b[38;5;124mit is a negative number given\u001b[39m\u001b[38;5;124m\"\u001b[39m  ) \n",
      "\u001b[0;31mException\u001b[0m: it is a negative number given"
     ]
    }
   ],
   "source": [
    "\"\"\"c. raise - The raise keyword is used to raise an exception.\n",
    "You can define what kind of error to raise, and the text to print to the user.\"\"\"\n",
    "\n",
    "x = \"aarush\"\n",
    "if type(x) == str:\n",
    "    raise Exception(\"it is a negative number given\"  ) \n"
   ]
  },
  {
   "cell_type": "code",
   "execution_count": null,
   "id": "2662ecbb-21f6-4663-b510-dab8307985fd",
   "metadata": {},
   "outputs": [],
   "source": []
  },
  {
   "cell_type": "code",
   "execution_count": 17,
   "id": "976741cf-d7d2-4afd-b415-b8c40389d1a9",
   "metadata": {},
   "outputs": [],
   "source": [
    "# Question 5\n",
    "\n",
    "\"\"\"Python has many biult-in exceptions with it apart from these built-in exception python has the capability to provide\n",
    "custom exceptions to the user. We need custom exception to diagnose the error occured in the program.\"\"\"\n",
    "\n",
    "# Example - lets take an example to validate age where negative age is an error for the program.\n",
    "\n",
    "class validateage(Exception):    # we are creating a class which inherit the property of the exception class .\n",
    "    def __init__(self , msg):\n",
    "        self.msg = msg\n"
   ]
  },
  {
   "cell_type": "code",
   "execution_count": 20,
   "id": "e644a473-ec04-4104-89fb-0715042eaa3e",
   "metadata": {},
   "outputs": [],
   "source": [
    "def validage(age):    # in this function we raise validate class we made to handle the error .\n",
    "    if age <0 :\n",
    "        raise validateage(\"entered age is not valid\")\n",
    "    elif age >200 :\n",
    "        raise validateage(\"age is very very high\")\n",
    "    else:\n",
    "        print(\"age is valid\")"
   ]
  },
  {
   "cell_type": "code",
   "execution_count": 21,
   "id": "f95a37c9-024f-48f3-9b46-6c65ec14f473",
   "metadata": {},
   "outputs": [
    {
     "name": "stdin",
     "output_type": "stream",
     "text": [
      "enter your age 87\n"
     ]
    },
    {
     "name": "stdout",
     "output_type": "stream",
     "text": [
      "age is valid\n"
     ]
    }
   ],
   "source": [
    "try:\n",
    "    age = int(input(\"enter your age\"))       # now we are running try and except block to check and handle the error \n",
    "    validage(age)\n",
    "except validateage as e:\n",
    "    print(e)\n",
    "    \n"
   ]
  },
  {
   "cell_type": "code",
   "execution_count": null,
   "id": "e48debe5-3f3f-48fb-9ebb-aed057f94fcc",
   "metadata": {},
   "outputs": [],
   "source": []
  },
  {
   "cell_type": "code",
   "execution_count": 22,
   "id": "f9eef96c-9109-4bb1-bc87-e94aadc0568b",
   "metadata": {},
   "outputs": [],
   "source": [
    "# Question 6\n",
    "   # we have made a class for handling exception.\n",
    "class custom(Exception):\n",
    "    def __init__(self, msg):\n",
    "        self.msg=msg"
   ]
  },
  {
   "cell_type": "code",
   "execution_count": 53,
   "id": "0b171845-e381-4c95-bdb0-40f6c38a1d7d",
   "metadata": {},
   "outputs": [],
   "source": [
    "def custom_ex(wieght):     # the function is to check your wieght .\n",
    "    if wieght <10:\n",
    "        raise custom(\"invalid wieght\")    # we have raised custom class\n",
    "    elif wieght >150:\n",
    "        raise custom(\"you are fat\")\n",
    "       \n",
    "        \n",
    "    else:\n",
    "        print(\"fit buddy\")\n",
    "     \n",
    "      "
   ]
  },
  {
   "cell_type": "code",
   "execution_count": 56,
   "id": "cc21402e-1478-49a5-a807-292da98c1bd0",
   "metadata": {},
   "outputs": [
    {
     "name": "stdin",
     "output_type": "stream",
     "text": [
      "enter your value 156\n"
     ]
    },
    {
     "name": "stdout",
     "output_type": "stream",
     "text": [
      "you are fat\n"
     ]
    }
   ],
   "source": [
    "try:         # we are putting code in try and except block with the help of custom class we made\n",
    "    wieght=int(input(\"enter your value\"))\n",
    "    custom_ex(wieght)\n",
    "except custom as e:\n",
    "    print(e)"
   ]
  },
  {
   "cell_type": "code",
   "execution_count": null,
   "id": "2cbec616-cce1-4e15-866c-48733717649e",
   "metadata": {},
   "outputs": [],
   "source": []
  }
 ],
 "metadata": {
  "kernelspec": {
   "display_name": "Python 3 (ipykernel)",
   "language": "python",
   "name": "python3"
  },
  "language_info": {
   "codemirror_mode": {
    "name": "ipython",
    "version": 3
   },
   "file_extension": ".py",
   "mimetype": "text/x-python",
   "name": "python",
   "nbconvert_exporter": "python",
   "pygments_lexer": "ipython3",
   "version": "3.10.8"
  }
 },
 "nbformat": 4,
 "nbformat_minor": 5
}
