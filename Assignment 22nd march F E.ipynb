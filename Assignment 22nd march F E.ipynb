{
 "cells": [
  {
   "cell_type": "markdown",
   "id": "39834b03-e179-48aa-b26c-2594a7807cdb",
   "metadata": {},
   "source": [
    "# Question 1\n",
    "\n",
    "Pearson correlation coefficient is a measure of the linear relationship between two variables. Suppose\n",
    "you have collected data on the amount of time students spend studying for an exam and their final exam\n",
    "scores. Calculate the Pearson correlation coefficient between these two variables and interpret the result."
   ]
  },
  {
   "cell_type": "code",
   "execution_count": null,
   "id": "83a2ac45-bb93-43b3-99ca-dfc1e4843ed3",
   "metadata": {},
   "outputs": [],
   "source": [
    "To calculate the Pearson correlation coefficient between two variables, we need to compute the covariance \n",
    "and the standard deviation of each variable, and then use the formula:\n",
    "    \n",
    "    r = cov(X, Y) / (std(X) * std(Y))\n",
    "\n",
    "where X and Y are the two variables of interest."
   ]
  },
  {
   "cell_type": "code",
   "execution_count": 1,
   "id": "2d09acd1-3049-4595-aa85-99ee5b74cf7a",
   "metadata": {},
   "outputs": [
    {
     "data": {
      "text/html": [
       "<div>\n",
       "<style scoped>\n",
       "    .dataframe tbody tr th:only-of-type {\n",
       "        vertical-align: middle;\n",
       "    }\n",
       "\n",
       "    .dataframe tbody tr th {\n",
       "        vertical-align: top;\n",
       "    }\n",
       "\n",
       "    .dataframe thead th {\n",
       "        text-align: right;\n",
       "    }\n",
       "</style>\n",
       "<table border=\"1\" class=\"dataframe\">\n",
       "  <thead>\n",
       "    <tr style=\"text-align: right;\">\n",
       "      <th></th>\n",
       "      <th>time_studied</th>\n",
       "      <th>score</th>\n",
       "    </tr>\n",
       "  </thead>\n",
       "  <tbody>\n",
       "    <tr>\n",
       "      <th>0</th>\n",
       "      <td>11.324031</td>\n",
       "      <td>103.014204</td>\n",
       "    </tr>\n",
       "    <tr>\n",
       "      <th>1</th>\n",
       "      <td>5.839362</td>\n",
       "      <td>22.338745</td>\n",
       "    </tr>\n",
       "    <tr>\n",
       "      <th>2</th>\n",
       "      <td>10.430491</td>\n",
       "      <td>83.398362</td>\n",
       "    </tr>\n",
       "    <tr>\n",
       "      <th>3</th>\n",
       "      <td>7.501036</td>\n",
       "      <td>29.994925</td>\n",
       "    </tr>\n",
       "    <tr>\n",
       "      <th>4</th>\n",
       "      <td>9.656534</td>\n",
       "      <td>69.758755</td>\n",
       "    </tr>\n",
       "  </tbody>\n",
       "</table>\n",
       "</div>"
      ],
      "text/plain": [
       "   time_studied       score\n",
       "0     11.324031  103.014204\n",
       "1      5.839362   22.338745\n",
       "2     10.430491   83.398362\n",
       "3      7.501036   29.994925\n",
       "4      9.656534   69.758755"
      ]
     },
     "execution_count": 1,
     "metadata": {},
     "output_type": "execute_result"
    }
   ],
   "source": [
    "# Generate synthetic dataset\n",
    "import numpy as np\n",
    "import pandas as pd\n",
    "\n",
    "# Keep random seed for reproducibility\n",
    "np.random.seed(654)\n",
    "\n",
    "n = 1000\n",
    "time_studied = np.random.normal(loc=8, scale=2, size=n)\n",
    "score = (time_studied**2)-3*time_studied + 2 + np.random.normal(loc=0, scale=5, size=n)\n",
    "\n",
    "# Create dataframe\n",
    "df = pd.DataFrame({'time_studied':time_studied,\n",
    "                   'score':score})\n",
    "df.head()"
   ]
  },
  {
   "cell_type": "code",
   "execution_count": 2,
   "id": "dc6926ac-4793-437b-9db7-9ab18c7a1f2f",
   "metadata": {},
   "outputs": [
    {
     "data": {
      "text/html": [
       "<div>\n",
       "<style scoped>\n",
       "    .dataframe tbody tr th:only-of-type {\n",
       "        vertical-align: middle;\n",
       "    }\n",
       "\n",
       "    .dataframe tbody tr th {\n",
       "        vertical-align: top;\n",
       "    }\n",
       "\n",
       "    .dataframe thead th {\n",
       "        text-align: right;\n",
       "    }\n",
       "</style>\n",
       "<table border=\"1\" class=\"dataframe\">\n",
       "  <thead>\n",
       "    <tr style=\"text-align: right;\">\n",
       "      <th></th>\n",
       "      <th>time_studied</th>\n",
       "      <th>score</th>\n",
       "    </tr>\n",
       "  </thead>\n",
       "  <tbody>\n",
       "    <tr>\n",
       "      <th>time_studied</th>\n",
       "      <td>1.000000</td>\n",
       "      <td>0.963761</td>\n",
       "    </tr>\n",
       "    <tr>\n",
       "      <th>score</th>\n",
       "      <td>0.963761</td>\n",
       "      <td>1.000000</td>\n",
       "    </tr>\n",
       "  </tbody>\n",
       "</table>\n",
       "</div>"
      ],
      "text/plain": [
       "              time_studied     score\n",
       "time_studied      1.000000  0.963761\n",
       "score             0.963761  1.000000"
      ]
     },
     "execution_count": 2,
     "metadata": {},
     "output_type": "execute_result"
    }
   ],
   "source": [
    "cor = df.corr()\n",
    "cor"
   ]
  },
  {
   "cell_type": "code",
   "execution_count": 16,
   "id": "3a2806c7-398d-435f-ae0b-9c65656191e7",
   "metadata": {},
   "outputs": [
    {
     "data": {
      "text/plain": [
       "<AxesSubplot: title={'center': 'Time studied vs Score'}, xlabel='time_studied', ylabel='score'>"
      ]
     },
     "execution_count": 16,
     "metadata": {},
     "output_type": "execute_result"
    },
    {
     "data": {
      "image/png": "[encoded data removed]",
      "text/plain": [
       "<Figure size 640x480 with 1 Axes>"
      ]
     },
     "metadata": {},
     "output_type": "display_data"
    }
   ],
   "source": [
    "df.plot(kind='scatter',x='time_studied',y='score',title = 'Time studied vs Score',alpha=0.6)"
   ]
  },
  {
   "cell_type": "markdown",
   "id": "c7b9a968-b536-46be-a89c-c9a93c7e24a6",
   "metadata": {},
   "source": [
    "# Question 2\n",
    "\n",
    "Spearman's rank correlation is a measure of the monotonic relationship between two variables.\n",
    "Suppose you have collected data on the amount of sleep individuals get each night and their overall job\n",
    "satisfaction level on a scale of 1 to 10. Calculate the Spearman's rank correlation between these two\n",
    "variables and interpret the result."
   ]
  },
  {
   "cell_type": "code",
   "execution_count": 17,
   "id": "9fb2ad1c-231a-4ece-9215-4a1e11941162",
   "metadata": {},
   "outputs": [
    {
     "data": {
      "text/html": [
       "<div>\n",
       "<style scoped>\n",
       "    .dataframe tbody tr th:only-of-type {\n",
       "        vertical-align: middle;\n",
       "    }\n",
       "\n",
       "    .dataframe tbody tr th {\n",
       "        vertical-align: top;\n",
       "    }\n",
       "\n",
       "    .dataframe thead th {\n",
       "        text-align: right;\n",
       "    }\n",
       "</style>\n",
       "<table border=\"1\" class=\"dataframe\">\n",
       "  <thead>\n",
       "    <tr style=\"text-align: right;\">\n",
       "      <th></th>\n",
       "      <th>sleep</th>\n",
       "      <th>Job Satisfaction</th>\n",
       "    </tr>\n",
       "  </thead>\n",
       "  <tbody>\n",
       "    <tr>\n",
       "      <th>0</th>\n",
       "      <td>8</td>\n",
       "      <td>9</td>\n",
       "    </tr>\n",
       "    <tr>\n",
       "      <th>1</th>\n",
       "      <td>7</td>\n",
       "      <td>6</td>\n",
       "    </tr>\n",
       "    <tr>\n",
       "      <th>2</th>\n",
       "      <td>6</td>\n",
       "      <td>4</td>\n",
       "    </tr>\n",
       "    <tr>\n",
       "      <th>3</th>\n",
       "      <td>5</td>\n",
       "      <td>7</td>\n",
       "    </tr>\n",
       "    <tr>\n",
       "      <th>4</th>\n",
       "      <td>8</td>\n",
       "      <td>8</td>\n",
       "    </tr>\n",
       "    <tr>\n",
       "      <th>5</th>\n",
       "      <td>7</td>\n",
       "      <td>5</td>\n",
       "    </tr>\n",
       "    <tr>\n",
       "      <th>6</th>\n",
       "      <td>6</td>\n",
       "      <td>3</td>\n",
       "    </tr>\n",
       "    <tr>\n",
       "      <th>7</th>\n",
       "      <td>5</td>\n",
       "      <td>6</td>\n",
       "    </tr>\n",
       "    <tr>\n",
       "      <th>8</th>\n",
       "      <td>4</td>\n",
       "      <td>2</td>\n",
       "    </tr>\n",
       "    <tr>\n",
       "      <th>9</th>\n",
       "      <td>7</td>\n",
       "      <td>7</td>\n",
       "    </tr>\n",
       "  </tbody>\n",
       "</table>\n",
       "</div>"
      ],
      "text/plain": [
       "   sleep  Job Satisfaction\n",
       "0      8                 9\n",
       "1      7                 6\n",
       "2      6                 4\n",
       "3      5                 7\n",
       "4      8                 8\n",
       "5      7                 5\n",
       "6      6                 3\n",
       "7      5                 6\n",
       "8      4                 2\n",
       "9      7                 7"
      ]
     },
     "execution_count": 17,
     "metadata": {},
     "output_type": "execute_result"
    }
   ],
   "source": [
    "import pandas as pd\n",
    "dct = {\n",
    "    'sleep': [8,7,6,5,8,7,6,5,4,7],\n",
    "    'Job Satisfaction' : [9,6,4,7,8,5,3,6,2,7]\n",
    "}\n",
    "df = pd.DataFrame(dct)\n",
    "df"
   ]
  },
  {
   "cell_type": "code",
   "execution_count": 18,
   "id": "fb86d689-dcf4-4d85-a045-3f7bfdd5f0c8",
   "metadata": {},
   "outputs": [
    {
     "data": {
      "text/html": [
       "<div>\n",
       "<style scoped>\n",
       "    .dataframe tbody tr th:only-of-type {\n",
       "        vertical-align: middle;\n",
       "    }\n",
       "\n",
       "    .dataframe tbody tr th {\n",
       "        vertical-align: top;\n",
       "    }\n",
       "\n",
       "    .dataframe thead th {\n",
       "        text-align: right;\n",
       "    }\n",
       "</style>\n",
       "<table border=\"1\" class=\"dataframe\">\n",
       "  <thead>\n",
       "    <tr style=\"text-align: right;\">\n",
       "      <th></th>\n",
       "      <th>sleep</th>\n",
       "      <th>Job Satisfaction</th>\n",
       "    </tr>\n",
       "  </thead>\n",
       "  <tbody>\n",
       "    <tr>\n",
       "      <th>0</th>\n",
       "      <td>9.5</td>\n",
       "      <td>10.0</td>\n",
       "    </tr>\n",
       "    <tr>\n",
       "      <th>1</th>\n",
       "      <td>7.0</td>\n",
       "      <td>5.5</td>\n",
       "    </tr>\n",
       "    <tr>\n",
       "      <th>2</th>\n",
       "      <td>4.5</td>\n",
       "      <td>3.0</td>\n",
       "    </tr>\n",
       "    <tr>\n",
       "      <th>3</th>\n",
       "      <td>2.5</td>\n",
       "      <td>7.5</td>\n",
       "    </tr>\n",
       "    <tr>\n",
       "      <th>4</th>\n",
       "      <td>9.5</td>\n",
       "      <td>9.0</td>\n",
       "    </tr>\n",
       "    <tr>\n",
       "      <th>5</th>\n",
       "      <td>7.0</td>\n",
       "      <td>4.0</td>\n",
       "    </tr>\n",
       "    <tr>\n",
       "      <th>6</th>\n",
       "      <td>4.5</td>\n",
       "      <td>2.0</td>\n",
       "    </tr>\n",
       "    <tr>\n",
       "      <th>7</th>\n",
       "      <td>2.5</td>\n",
       "      <td>5.5</td>\n",
       "    </tr>\n",
       "    <tr>\n",
       "      <th>8</th>\n",
       "      <td>1.0</td>\n",
       "      <td>1.0</td>\n",
       "    </tr>\n",
       "    <tr>\n",
       "      <th>9</th>\n",
       "      <td>7.0</td>\n",
       "      <td>7.5</td>\n",
       "    </tr>\n",
       "  </tbody>\n",
       "</table>\n",
       "</div>"
      ],
      "text/plain": [
       "   sleep  Job Satisfaction\n",
       "0    9.5              10.0\n",
       "1    7.0               5.5\n",
       "2    4.5               3.0\n",
       "3    2.5               7.5\n",
       "4    9.5               9.0\n",
       "5    7.0               4.0\n",
       "6    4.5               2.0\n",
       "7    2.5               5.5\n",
       "8    1.0               1.0\n",
       "9    7.0               7.5"
      ]
     },
     "execution_count": 18,
     "metadata": {},
     "output_type": "execute_result"
    }
   ],
   "source": [
    "df.rank()"
   ]
  },
  {
   "cell_type": "code",
   "execution_count": 19,
   "id": "9ce1df99-a47b-4fee-a769-83bb1d3aeb94",
   "metadata": {},
   "outputs": [
    {
     "data": {
      "text/html": [
       "<div>\n",
       "<style scoped>\n",
       "    .dataframe tbody tr th:only-of-type {\n",
       "        vertical-align: middle;\n",
       "    }\n",
       "\n",
       "    .dataframe tbody tr th {\n",
       "        vertical-align: top;\n",
       "    }\n",
       "\n",
       "    .dataframe thead th {\n",
       "        text-align: right;\n",
       "    }\n",
       "</style>\n",
       "<table border=\"1\" class=\"dataframe\">\n",
       "  <thead>\n",
       "    <tr style=\"text-align: right;\">\n",
       "      <th></th>\n",
       "      <th>sleep</th>\n",
       "      <th>Job Satisfaction</th>\n",
       "    </tr>\n",
       "  </thead>\n",
       "  <tbody>\n",
       "    <tr>\n",
       "      <th>sleep</th>\n",
       "      <td>1.000000</td>\n",
       "      <td>0.660516</td>\n",
       "    </tr>\n",
       "    <tr>\n",
       "      <th>Job Satisfaction</th>\n",
       "      <td>0.660516</td>\n",
       "      <td>1.000000</td>\n",
       "    </tr>\n",
       "  </tbody>\n",
       "</table>\n",
       "</div>"
      ],
      "text/plain": [
       "                     sleep  Job Satisfaction\n",
       "sleep             1.000000          0.660516\n",
       "Job Satisfaction  0.660516          1.000000"
      ]
     },
     "execution_count": 19,
     "metadata": {},
     "output_type": "execute_result"
    }
   ],
   "source": [
    "df.rank().corr()"
   ]
  },
  {
   "cell_type": "code",
   "execution_count": 20,
   "id": "b4bb8dd5-b290-4728-83a3-985ca46a4393",
   "metadata": {},
   "outputs": [
    {
     "data": {
      "text/html": [
       "<div>\n",
       "<style scoped>\n",
       "    .dataframe tbody tr th:only-of-type {\n",
       "        vertical-align: middle;\n",
       "    }\n",
       "\n",
       "    .dataframe tbody tr th {\n",
       "        vertical-align: top;\n",
       "    }\n",
       "\n",
       "    .dataframe thead th {\n",
       "        text-align: right;\n",
       "    }\n",
       "</style>\n",
       "<table border=\"1\" class=\"dataframe\">\n",
       "  <thead>\n",
       "    <tr style=\"text-align: right;\">\n",
       "      <th></th>\n",
       "      <th>sleep</th>\n",
       "      <th>Job Satisfaction</th>\n",
       "    </tr>\n",
       "  </thead>\n",
       "  <tbody>\n",
       "    <tr>\n",
       "      <th>sleep</th>\n",
       "      <td>1.000000</td>\n",
       "      <td>0.660516</td>\n",
       "    </tr>\n",
       "    <tr>\n",
       "      <th>Job Satisfaction</th>\n",
       "      <td>0.660516</td>\n",
       "      <td>1.000000</td>\n",
       "    </tr>\n",
       "  </tbody>\n",
       "</table>\n",
       "</div>"
      ],
      "text/plain": [
       "                     sleep  Job Satisfaction\n",
       "sleep             1.000000          0.660516\n",
       "Job Satisfaction  0.660516          1.000000"
      ]
     },
     "execution_count": 20,
     "metadata": {},
     "output_type": "execute_result"
    }
   ],
   "source": [
    "df.corr(method='spearman')"
   ]
  },
  {
   "cell_type": "code",
   "execution_count": null,
   "id": "87259fe0-ba21-468b-80da-b555f8a35572",
   "metadata": {},
   "outputs": [],
   "source": [
    "A Spearman's correlation coefficient of 0.66 indicates a moderately strong positive correlation between\n",
    "two variables. The range of Spearman's correlation coefficient is from -1 to +1, where -1 represents a\n",
    "perfectly negative correlation, 0 represents no correlation, and +1 represents a perfectly positive \n",
    "correlation.\n",
    "\n",
    "In the case of a Spearman's correlation coefficient of 0.66, the two variables being compared have a \n",
    "strong tendency to move together in the same direction. However, the relationship may not be perfect,\n",
    "and there may be some variation or noise in the data."
   ]
  },
  {
   "cell_type": "markdown",
   "id": "33c3bc41-3c28-4011-a1f8-698ce9e24869",
   "metadata": {},
   "source": [
    "# Question 3\n",
    "\n",
    "Suppose you are conducting a study to examine the relationship between the number of hours of\n",
    "exercise per week and body mass index (BMI) in a sample of adults. You collected data on both variables\n",
    "for 50 participants. Calculate the Pearson correlation coefficient and the Spearman's rank correlation\n",
    "between these two variables and compare the results."
   ]
  },
  {
   "cell_type": "code",
   "execution_count": 24,
   "id": "05537b06-a961-4e26-88fe-e0c28dc67048",
   "metadata": {},
   "outputs": [
    {
     "data": {
      "text/html": [
       "<div>\n",
       "<style scoped>\n",
       "    .dataframe tbody tr th:only-of-type {\n",
       "        vertical-align: middle;\n",
       "    }\n",
       "\n",
       "    .dataframe tbody tr th {\n",
       "        vertical-align: top;\n",
       "    }\n",
       "\n",
       "    .dataframe thead th {\n",
       "        text-align: right;\n",
       "    }\n",
       "</style>\n",
       "<table border=\"1\" class=\"dataframe\">\n",
       "  <thead>\n",
       "    <tr style=\"text-align: right;\">\n",
       "      <th></th>\n",
       "      <th>exercise_hours</th>\n",
       "      <th>BMI</th>\n",
       "    </tr>\n",
       "  </thead>\n",
       "  <tbody>\n",
       "    <tr>\n",
       "      <th>0</th>\n",
       "      <td>2.471109</td>\n",
       "      <td>55.258468</td>\n",
       "    </tr>\n",
       "    <tr>\n",
       "      <th>1</th>\n",
       "      <td>2.793320</td>\n",
       "      <td>39.882961</td>\n",
       "    </tr>\n",
       "    <tr>\n",
       "      <th>2</th>\n",
       "      <td>4.832300</td>\n",
       "      <td>32.852014</td>\n",
       "    </tr>\n",
       "    <tr>\n",
       "      <th>3</th>\n",
       "      <td>6.554555</td>\n",
       "      <td>11.110522</td>\n",
       "    </tr>\n",
       "    <tr>\n",
       "      <th>4</th>\n",
       "      <td>5.991560</td>\n",
       "      <td>20.349710</td>\n",
       "    </tr>\n",
       "  </tbody>\n",
       "</table>\n",
       "</div>"
      ],
      "text/plain": [
       "   exercise_hours        BMI\n",
       "0        2.471109  55.258468\n",
       "1        2.793320  39.882961\n",
       "2        4.832300  32.852014\n",
       "3        6.554555  11.110522\n",
       "4        5.991560  20.349710"
      ]
     },
     "execution_count": 24,
     "metadata": {},
     "output_type": "execute_result"
    }
   ],
   "source": [
    "import pandas as pd\n",
    "import numpy as np\n",
    "\n",
    "# Set Random seed\n",
    "np.random.seed(987)\n",
    "\n",
    "# Generate Sample Data\n",
    "n = 50\n",
    "exercise_hours = np.random.normal(loc=5 , scale=1.5, size=n)\n",
    "BMI = 125/exercise_hours + np.random.normal(loc=0, scale=5, size=n)\n",
    "\n",
    "# Generate Dataframe\n",
    "df = pd.DataFrame({'exercise_hours':exercise_hours,\n",
    "                   'BMI':BMI})\n",
    "df.head()"
   ]
  },
  {
   "cell_type": "code",
   "execution_count": 25,
   "id": "35004069-7f1d-4d34-8cdc-4f9b538065b2",
   "metadata": {},
   "outputs": [
    {
     "data": {
      "text/html": [
       "<div>\n",
       "<style scoped>\n",
       "    .dataframe tbody tr th:only-of-type {\n",
       "        vertical-align: middle;\n",
       "    }\n",
       "\n",
       "    .dataframe tbody tr th {\n",
       "        vertical-align: top;\n",
       "    }\n",
       "\n",
       "    .dataframe thead th {\n",
       "        text-align: right;\n",
       "    }\n",
       "</style>\n",
       "<table border=\"1\" class=\"dataframe\">\n",
       "  <thead>\n",
       "    <tr style=\"text-align: right;\">\n",
       "      <th></th>\n",
       "      <th>exercise_hours</th>\n",
       "      <th>BMI</th>\n",
       "    </tr>\n",
       "  </thead>\n",
       "  <tbody>\n",
       "    <tr>\n",
       "      <th>exercise_hours</th>\n",
       "      <td>1.000000</td>\n",
       "      <td>-0.850817</td>\n",
       "    </tr>\n",
       "    <tr>\n",
       "      <th>BMI</th>\n",
       "      <td>-0.850817</td>\n",
       "      <td>1.000000</td>\n",
       "    </tr>\n",
       "  </tbody>\n",
       "</table>\n",
       "</div>"
      ],
      "text/plain": [
       "                exercise_hours       BMI\n",
       "exercise_hours        1.000000 -0.850817\n",
       "BMI                  -0.850817  1.000000"
      ]
     },
     "execution_count": 25,
     "metadata": {},
     "output_type": "execute_result"
    }
   ],
   "source": [
    "# Pearson's Correlation\n",
    "pearson_corr = df.corr(method='pearson')\n",
    "pearson_corr"
   ]
  },
  {
   "cell_type": "code",
   "execution_count": 26,
   "id": "e4db09ae-5c93-410a-9bf6-10cc3631cc3d",
   "metadata": {},
   "outputs": [
    {
     "data": {
      "text/html": [
       "<div>\n",
       "<style scoped>\n",
       "    .dataframe tbody tr th:only-of-type {\n",
       "        vertical-align: middle;\n",
       "    }\n",
       "\n",
       "    .dataframe tbody tr th {\n",
       "        vertical-align: top;\n",
       "    }\n",
       "\n",
       "    .dataframe thead th {\n",
       "        text-align: right;\n",
       "    }\n",
       "</style>\n",
       "<table border=\"1\" class=\"dataframe\">\n",
       "  <thead>\n",
       "    <tr style=\"text-align: right;\">\n",
       "      <th></th>\n",
       "      <th>exercise_hours</th>\n",
       "      <th>BMI</th>\n",
       "    </tr>\n",
       "  </thead>\n",
       "  <tbody>\n",
       "    <tr>\n",
       "      <th>exercise_hours</th>\n",
       "      <td>1.000000</td>\n",
       "      <td>-0.864298</td>\n",
       "    </tr>\n",
       "    <tr>\n",
       "      <th>BMI</th>\n",
       "      <td>-0.864298</td>\n",
       "      <td>1.000000</td>\n",
       "    </tr>\n",
       "  </tbody>\n",
       "</table>\n",
       "</div>"
      ],
      "text/plain": [
       "                exercise_hours       BMI\n",
       "exercise_hours        1.000000 -0.864298\n",
       "BMI                  -0.864298  1.000000"
      ]
     },
     "execution_count": 26,
     "metadata": {},
     "output_type": "execute_result"
    }
   ],
   "source": [
    "# Spearmans Correlation\n",
    "spearman_corr = df.corr(method='spearman')\n",
    "spearman_corr"
   ]
  },
  {
   "cell_type": "code",
   "execution_count": 28,
   "id": "b5eb8406-f26b-493a-9e2c-392f44808f6f",
   "metadata": {},
   "outputs": [
    {
     "data": {
      "text/plain": [
       "<AxesSubplot: title={'center': 'BMI vs Exercise Hours'}, xlabel='exercise_hours', ylabel='BMI'>"
      ]
     },
     "execution_count": 28,
     "metadata": {},
     "output_type": "execute_result"
    },
    {
     "data": {
      "image/png": "[encoded data removed]",
      "text/plain": [
       "<Figure size 640x480 with 1 Axes>"
      ]
     },
     "metadata": {},
     "output_type": "display_data"
    }
   ],
   "source": [
    "# Both Spearman's Correlation and Pearson's Correlation show's strong negative Correlation between BMI\n",
    "# and exercise time\n",
    "\n",
    "df.plot(kind='scatter',x='exercise_hours',y='BMI',title='BMI vs Exercise Hours')"
   ]
  },
  {
   "cell_type": "code",
   "execution_count": 29,
   "id": "5c14b7b0-437d-4072-9a70-b6213a375ed9",
   "metadata": {},
   "outputs": [
    {
     "data": {
      "text/plain": [
       "<AxesSubplot: xlabel='exercise_hours', ylabel='BMI'>"
      ]
     },
     "execution_count": 29,
     "metadata": {},
     "output_type": "execute_result"
    },
    {
     "data": {
      "image/png": "[encoded data removed]",
      "text/plain": [
       "<Figure size 640x480 with 1 Axes>"
      ]
     },
     "metadata": {},
     "output_type": "display_data"
    }
   ],
   "source": [
    "import seaborn as sns\n",
    "sns.regplot(data=df,x='exercise_hours',y='BMI',line_kws={\"color\": \"red\"},ci=95)"
   ]
  },
  {
   "cell_type": "markdown",
   "id": "a77835b6-5e99-447d-a8e8-f2d8fb58583d",
   "metadata": {},
   "source": [
    "# Question 4\n",
    "\n",
    "A researcher is interested in examining the relationship between the number of hours individuals\n",
    "spend watching television per day and their level of physical activity. The researcher collected data on\n",
    "both variables from a sample of 50 participants. Calculate the Pearson correlation coefficient between\n",
    "these two variables."
   ]
  },
  {
   "cell_type": "code",
   "execution_count": 30,
   "id": "0e57897f-3723-4dc8-83f9-42c9f4197261",
   "metadata": {},
   "outputs": [
    {
     "name": "stdout",
     "output_type": "stream",
     "text": [
      "   tv_hours  physical_activity\n",
      "0  1.914369           6.541393\n",
      "1  3.997345           2.713702\n",
      "2  3.282978           6.312734\n",
      "3  1.493705           9.244079\n",
      "4  2.421400           6.224447\n",
      "\n",
      "===========================================================\n",
      "\n",
      "Pearson correlation coefficient: -0.5795118368116692\n",
      "p-value: 1.0347687880405448e-05\n"
     ]
    }
   ],
   "source": [
    "import numpy as np\n",
    "import pandas as pd\n",
    "from scipy.stats import pearsonr\n",
    "\n",
    "# Set the random seed for reproducibility\n",
    "np.random.seed(123)\n",
    "\n",
    "# Generate synthetic data for hours of TV watching and physical activity\n",
    "tv_hours = np.random.normal(3, 1, 50)\n",
    "physical_activity = 15/tv_hours + np.random.normal(0,1,50)\n",
    "\n",
    "# Showing Dataframe\n",
    "df = pd.DataFrame({'tv_hours':tv_hours,'physical_activity':physical_activity})\n",
    "print(df.head())\n",
    "\n",
    "print('\\n===========================================================\\n')\n",
    "\n",
    "# Compute the Pearson correlation coefficient and p-value\n",
    "corr, pval = pearsonr(tv_hours, physical_activity)\n",
    "\n",
    "# Print the results\n",
    "print(\"Pearson correlation coefficient:\", corr)\n",
    "print(\"p-value:\", pval)"
   ]
  },
  {
   "cell_type": "code",
   "execution_count": null,
   "id": "7e53d86e-2776-4c9c-9b56-5b0c3f36d075",
   "metadata": {},
   "outputs": [],
   "source": [
    "Moderate Negative Correlation found between tv_hours and phyiscal_activity\n",
    "\n",
    "In this example, we first import the NumPy library and the pearsonr function from the SciPy library.\n",
    "We then set the random seed for reproducibility and generate synthetic data for the number of hours \n",
    "individuals spend watching television per day and their level of physical activity, using the\n",
    "np.random.normal() function.\n",
    "\n",
    "Next, we use the pearsonr() function to calculate the Pearson correlation coefficient between the\n",
    "two variables, and store the results in the corr and pval variables. Finally, we print the results \n",
    "to the console.\n",
    "\n",
    "Note that the pearsonr() function returns two values: the Pearson correlation coefficient and the\n",
    "corresponding p-value. The p-value is a measure of the strength of evidence against the null \n",
    "hypothesis of no correlation, and a p-value less than 0.05 is generally considered to be \n",
    "statistically significant.\n"
   ]
  },
  {
   "cell_type": "code",
   "execution_count": 31,
   "id": "812220da-2385-4866-9125-148d4415eee3",
   "metadata": {},
   "outputs": [
    {
     "data": {
      "text/plain": [
       "<AxesSubplot: xlabel='tv_hours', ylabel='physical_activity'>"
      ]
     },
     "execution_count": 31,
     "metadata": {},
     "output_type": "execute_result"
    },
    {
     "data": {
      "image/png": "[encoded data removed]",
      "text/plain": [
       "<Figure size 640x480 with 1 Axes>"
      ]
     },
     "metadata": {},
     "output_type": "display_data"
    }
   ],
   "source": [
    "import seaborn as sns\n",
    "sns.regplot(data=df,x='tv_hours',y='physical_activity',line_kws={'color':'red'},ci=95)"
   ]
  },
  {
   "cell_type": "markdown",
   "id": "d6ac91a1-318b-49d3-ba0f-6cbb9c46db38",
   "metadata": {},
   "source": [
    "# Question 5\n",
    "A survey was conducted to examine the relationship between age and preference for a particular\n",
    "brand of soft drink. The survey results are shown below:\n",
    "    \n",
    "    Age(Years)     Soft drink Preference\n",
    "      25                 Coke\n",
    "      42                 Pepsi\n",
    "      37                 Mountain dew\n",
    "      19                 Coke\n",
    "      31                 Pepsi\n",
    "      28                 Coke\n",
    "\n"
   ]
  },
  {
   "cell_type": "code",
   "execution_count": 32,
   "id": "f8d2e55a-5252-423e-8a75-92c59f9582b5",
   "metadata": {},
   "outputs": [
    {
     "data": {
      "text/html": [
       "<div>\n",
       "<style scoped>\n",
       "    .dataframe tbody tr th:only-of-type {\n",
       "        vertical-align: middle;\n",
       "    }\n",
       "\n",
       "    .dataframe tbody tr th {\n",
       "        vertical-align: top;\n",
       "    }\n",
       "\n",
       "    .dataframe thead th {\n",
       "        text-align: right;\n",
       "    }\n",
       "</style>\n",
       "<table border=\"1\" class=\"dataframe\">\n",
       "  <thead>\n",
       "    <tr style=\"text-align: right;\">\n",
       "      <th></th>\n",
       "      <th>Age</th>\n",
       "      <th>Soft Drink Preference</th>\n",
       "    </tr>\n",
       "  </thead>\n",
       "  <tbody>\n",
       "    <tr>\n",
       "      <th>0</th>\n",
       "      <td>25</td>\n",
       "      <td>Coke</td>\n",
       "    </tr>\n",
       "    <tr>\n",
       "      <th>1</th>\n",
       "      <td>42</td>\n",
       "      <td>Pepsi</td>\n",
       "    </tr>\n",
       "    <tr>\n",
       "      <th>2</th>\n",
       "      <td>37</td>\n",
       "      <td>Mountain Dew</td>\n",
       "    </tr>\n",
       "    <tr>\n",
       "      <th>3</th>\n",
       "      <td>19</td>\n",
       "      <td>Coke</td>\n",
       "    </tr>\n",
       "    <tr>\n",
       "      <th>4</th>\n",
       "      <td>31</td>\n",
       "      <td>Pepsi</td>\n",
       "    </tr>\n",
       "    <tr>\n",
       "      <th>5</th>\n",
       "      <td>28</td>\n",
       "      <td>Coke</td>\n",
       "    </tr>\n",
       "  </tbody>\n",
       "</table>\n",
       "</div>"
      ],
      "text/plain": [
       "   Age Soft Drink Preference\n",
       "0   25                  Coke\n",
       "1   42                 Pepsi\n",
       "2   37          Mountain Dew\n",
       "3   19                  Coke\n",
       "4   31                 Pepsi\n",
       "5   28                  Coke"
      ]
     },
     "execution_count": 32,
     "metadata": {},
     "output_type": "execute_result"
    }
   ],
   "source": [
    "import pandas as pd\n",
    "data = {'Age': [25, 42, 37, 19, 31, 28],\n",
    "        'Soft Drink Preference': ['Coke', 'Pepsi', 'Mountain Dew', 'Coke', 'Pepsi', 'Coke']}\n",
    "df = pd.DataFrame(data)\n",
    "df"
   ]
  },
  {
   "cell_type": "code",
   "execution_count": 33,
   "id": "c92dd82c-c725-45bd-9706-e3e442adbaa5",
   "metadata": {},
   "outputs": [
    {
     "name": "stdout",
     "output_type": "stream",
     "text": [
      "F-statistic: 3.524390243902438\n",
      "p-value: 0.1631217391539759\n"
     ]
    }
   ],
   "source": [
    "# Perform f oneway test\n",
    "from scipy.stats import f_oneway\n",
    "coke = df[df['Soft Drink Preference'] == 'Coke']['Age']\n",
    "pepsi = df[df['Soft Drink Preference'] == 'Pepsi']['Age']\n",
    "mountain_dew = df[df['Soft Drink Preference'] == 'Mountain Dew']['Age']\n",
    "\n",
    "f_statistic, p_value = f_oneway(coke, pepsi, mountain_dew)\n",
    "print('F-statistic:', f_statistic)\n",
    "print('p-value:', p_value)"
   ]
  },
  {
   "cell_type": "code",
   "execution_count": 34,
   "id": "9b18343d-6a7a-4812-9940-e2c9c51113e5",
   "metadata": {},
   "outputs": [
    {
     "name": "stdout",
     "output_type": "stream",
     "text": [
      "FAIL to reject the Null Hypothesis\n",
      "Conclusion : Age and Soft Drink Preference are INDEPENDENT of each other\n"
     ]
    }
   ],
   "source": [
    "# Assuming alpha value of 0.05 \n",
    "alpha = 0.05\n",
    "if p_value < alpha:\n",
    "    print('Reject the Null Hypothesis')\n",
    "    print('Conclusion : Age and Soft Drink Preference are DEPENDENT of each other')\n",
    "else:\n",
    "    print('FAIL to reject the Null Hypothesis')\n",
    "    print('Conclusion : Age and Soft Drink Preference are INDEPENDENT of each other')"
   ]
  },
  {
   "cell_type": "code",
   "execution_count": 35,
   "id": "44f97058-cb1e-4d97-a2df-ebb915ffd708",
   "metadata": {},
   "outputs": [
    {
     "data": {
      "text/plain": [
       "<AxesSubplot: xlabel='Soft Drink Preference', ylabel='Age'>"
      ]
     },
     "execution_count": 35,
     "metadata": {},
     "output_type": "execute_result"
    },
    {
     "data": {
      "image/png": "[encoded data removed]",
      "text/plain": [
       "<Figure size 640x480 with 1 Axes>"
      ]
     },
     "metadata": {},
     "output_type": "display_data"
    }
   ],
   "source": [
    "import seaborn as sns\n",
    "sns.boxplot(data=df,x='Soft Drink Preference',y='Age')"
   ]
  },
  {
   "cell_type": "markdown",
   "id": "9e7afbe1-3db4-4f89-9c71-9a98857bafb4",
   "metadata": {},
   "source": [
    "# Question 6\n",
    "\n",
    "A company is interested in examining the relationship between the number of sales calls made per day\n",
    "and the number of sales made per week. The company collected data on both variables from a sample of\n",
    "30 sales representatives. Calculate the Pearson correlation coefficient between these two variables."
   ]
  },
  {
   "cell_type": "code",
   "execution_count": 36,
   "id": "665aba2e-d0fd-487e-8f50-39881ef5eb67",
   "metadata": {},
   "outputs": [
    {
     "name": "stdout",
     "output_type": "stream",
     "text": [
      "   sales_calls  sales_per_week\n",
      "0           97            18.0\n",
      "1           69            14.0\n",
      "2           88             6.0\n",
      "3           62             7.0\n",
      "4           74             9.0\n",
      "\n",
      "==============================================\n",
      "\n",
      "Pearson correlation coefficient: 0.53\n",
      "p-value: 0.00\n"
     ]
    }
   ],
   "source": [
    "import numpy as np\n",
    "import pandas as pd\n",
    "from scipy.stats import pearsonr\n",
    "\n",
    "# Generate synthetic data\n",
    "np.random.seed(1234)  # for reproducibility\n",
    "sales_calls = np.random.randint(50, 100, size=30)\n",
    "sales_per_week = np.round(sales_calls * np.random.uniform(0.05, 0.2, size=30), decimals=0)\n",
    "\n",
    "# Create dataframe for printing\n",
    "df = pd.DataFrame({'sales_calls':sales_calls,'sales_per_week':sales_per_week})\n",
    "print(df.head())\n",
    "\n",
    "print('\\n==============================================\\n')\n",
    "\n",
    "# Calculate Pearson correlation coefficient\n",
    "corr_coef, p_value = pearsonr(sales_calls, sales_per_week)\n",
    "\n",
    "print(\"Pearson correlation coefficient: {:.2f}\".format(corr_coef))\n",
    "print(\"p-value: {:.2f}\".format(p_value))"
   ]
  },
  {
   "cell_type": "code",
   "execution_count": 37,
   "id": "2b3fffb5-1fc1-452c-b871-78a43263167e",
   "metadata": {},
   "outputs": [
    {
     "data": {
      "text/plain": [
       "<AxesSubplot: xlabel='sales_calls', ylabel='sales_per_week'>"
      ]
     },
     "execution_count": 37,
     "metadata": {},
     "output_type": "execute_result"
    },
    {
     "data": {
      "image/png": "[encoded data removed]",
      "text/plain": [
       "<Figure size 640x480 with 1 Axes>"
      ]
     },
     "metadata": {},
     "output_type": "display_data"
    }
   ],
   "source": [
    "# Pearson correlation of 0.53 shows moderately positive correlation between sales call per week and sales per week\n",
    "\n",
    "import seaborn as sns\n",
    "sns.regplot(data=df, x = 'sales_calls', y='sales_per_week',line_kws={'color':'red'},ci=95)"
   ]
  },
  {
   "cell_type": "code",
   "execution_count": null,
   "id": "12b7670a-fb44-4a4f-9c1d-9e166a2aa90f",
   "metadata": {},
   "outputs": [],
   "source": []
  }
 ],
 "metadata": {
  "kernelspec": {
   "display_name": "Python 3 (ipykernel)",
   "language": "python",
   "name": "python3"
  },
  "language_info": {
   "codemirror_mode": {
    "name": "ipython",
    "version": 3
   },
   "file_extension": ".py",
   "mimetype": "text/x-python",
   "name": "python",
   "nbconvert_exporter": "python",
   "pygments_lexer": "ipython3",
   "version": "3.10.8"
  }
 },
 "nbformat": 4,
 "nbformat_minor": 5
}
