{
 "cells": [
  {
   "cell_type": "code",
   "execution_count": 1,
   "id": "8ad862ee-643d-470a-aa80-da9e286c4f8f",
   "metadata": {},
   "outputs": [
    {
     "data": {
      "text/plain": [
       "'open() function is used to open a file . There are four different modes of opening a file : -\\n\\n1. \"r\" - read - opens a file for reading , error if the file does not exist.\\n\\n2. \"a\" - append - opens a file for appending , creates the file if not exist. \\n\\n3. \"w\" - write - opens a file for writing , cretes the file if not exist. \\n\\n4. \"c\" - create - creates the specified file , error if the file exist.'"
      ]
     },
     "execution_count": 1,
     "metadata": {},
     "output_type": "execute_result"
    }
   ],
   "source": [
    "# Question 1\n",
    "\n",
    "\"\"\"open() function is used to open a file . There are four different modes of opening a file : -\n",
    "\n",
    "1. \"r\" - read - opens a file for reading , error if the file does not exist.\n",
    "\n",
    "2. \"a\" - append - opens a file for appending , creates the file if not exist. \n",
    "\n",
    "3. \"w\" - write - opens a file for writing , cretes the file if not exist. \n",
    "\n",
    "4. \"x\" - create - creates the specified file , error if the file exist.\"\"\""
   ]
  },
  {
   "cell_type": "code",
   "execution_count": null,
   "id": "2087dfe1-48c0-4020-a64e-bbf02596860f",
   "metadata": {},
   "outputs": [],
   "source": []
  },
  {
   "cell_type": "code",
   "execution_count": 3,
   "id": "18c0cced-f174-4f58-8c99-19325336f34e",
   "metadata": {},
   "outputs": [
    {
     "data": {
      "text/plain": [
       "'The close() function closes an open file . we should always close a file in some cases due to buffering changes made\\nto a file may not show until we close the file . We should always close the file because files are limited resources \\nmanaged by the operating system making sure files are closed after use will protect against hard to debug issues like \\nrunning out of file handles or experincing corrupted data. '"
      ]
     },
     "execution_count": 3,
     "metadata": {},
     "output_type": "execute_result"
    }
   ],
   "source": [
    "# Question 2\n",
    "\n",
    "\"\"\"The close() function closes an open file . we should always close a file in some cases due to buffering changes made\n",
    "to a file may not show until we close the file . We should always close the file because files are limited resources \n",
    "managed by the operating system making sure files are closed after use will protect against hard to debug issues like \n",
    "running out of file handles or experincing corrupted data. \"\"\""
   ]
  },
  {
   "cell_type": "code",
   "execution_count": null,
   "id": "912d5f7a-12ad-4a15-b34e-92b13d0b81a1",
   "metadata": {},
   "outputs": [],
   "source": []
  },
  {
   "cell_type": "code",
   "execution_count": 14,
   "id": "7188e407-43c5-42b5-84a3-a24a898ba486",
   "metadata": {},
   "outputs": [
    {
     "name": "stdout",
     "output_type": "stream",
     "text": [
      "I want to become a data scientist\n"
     ]
    }
   ],
   "source": [
    "# Question 3\n",
    "\n",
    "file = open(\"my_file.txt\" , \"x\")\n",
    "file.write(\"I want to become a data scientist\")\n",
    "file.close()\n",
    "\n",
    "file = open(\"my_file.txt\" , \"r\")\n",
    "print(file.read())"
   ]
  },
  {
   "cell_type": "code",
   "execution_count": null,
   "id": "d43d48d1-3277-49e8-8aee-7391f9e2b256",
   "metadata": {},
   "outputs": [],
   "source": []
  },
  {
   "cell_type": "code",
   "execution_count": 18,
   "id": "867b123f-6d18-40ea-9308-94cf676ea63f",
   "metadata": {},
   "outputs": [
    {
     "name": "stdout",
     "output_type": "stream",
     "text": [
      "I wan\n"
     ]
    }
   ],
   "source": [
    "# Question 4\n",
    "\n",
    "\"\"\"read() - read returns the whole text but you can also specify how many characters you want to return :-\"\"\"\n",
    "\n",
    "file1 = open(\"demofile.txt\" , \"x\")\n",
    "file1.write(\"I want to become a data scientist\")\n",
    "file1.close()\n",
    "\n",
    "file1 = open(\"demofile.txt\" , \"r\")\n",
    "print(file1.read(5))\n",
    "\n"
   ]
  },
  {
   "cell_type": "code",
   "execution_count": 19,
   "id": "b4e3c928-d03a-40aa-8654-b4dee2a3b16d",
   "metadata": {},
   "outputs": [
    {
     "name": "stdout",
     "output_type": "stream",
     "text": [
      "I want to become a data scientist\n"
     ]
    }
   ],
   "source": [
    "\n",
    "\"\"\"readline() - You can return one line by using readline().:-\"\"\"\n",
    "\n",
    "file1 = open(\"demofile.txt\" , \"r\")\n",
    "print(file1.readline())"
   ]
  },
  {
   "cell_type": "code",
   "execution_count": 20,
   "id": "d3efc6dd-2622-4d8a-90e8-05f3d89aa407",
   "metadata": {},
   "outputs": [
    {
     "name": "stdout",
     "output_type": "stream",
     "text": [
      "['I want to become a data scientist']\n"
     ]
    }
   ],
   "source": [
    "\"\"\"readlines() - readlines returns a list containing each line in the file as a list item. \"\"\"\n",
    "\n",
    "file1 = open(\"demofile.txt\" , \"r\")\n",
    "print(file1.readlines())"
   ]
  },
  {
   "cell_type": "code",
   "execution_count": null,
   "id": "5945234e-f388-420e-9405-6b244795c28f",
   "metadata": {},
   "outputs": [],
   "source": []
  },
  {
   "cell_type": "code",
   "execution_count": null,
   "id": "e75c3c3b-cd88-4638-8fa3-b4ad28c21caa",
   "metadata": {},
   "outputs": [],
   "source": [
    "# Question 5\n",
    "\n",
    "\"\"\"The with statement works with the open function to open a file. With staement basically closes the file without \n",
    "telling it to . and it makes the program looks cleaner.\n",
    "the advantages of using with and open together are :-\n",
    "it makes the program looks cleaner as it takes 2 -3 lines of code.\n",
    "we dont have to write to close the file as with statement already understands it.\n",
    "\"\"\""
   ]
  },
  {
   "cell_type": "code",
   "execution_count": null,
   "id": "a4eb69f0-97a1-468d-892d-68ff1ab45769",
   "metadata": {},
   "outputs": [],
   "source": []
  },
  {
   "cell_type": "code",
   "execution_count": 22,
   "id": "c6ecdfeb-2642-4f77-ae2b-7aaa6a87ee46",
   "metadata": {},
   "outputs": [
    {
     "name": "stdout",
     "output_type": "stream",
     "text": [
      "This is our file to test write function\n"
     ]
    }
   ],
   "source": [
    "# Question 6\n",
    "\n",
    "\"\"\"write() - The write function will write the content in the file without adding any extra characters.\n",
    "\n",
    "writelines() - The writelines function writes the content of a list to a file.\"\"\"\n",
    "\n",
    "# examples -\n",
    "\n",
    "# using write function \n",
    "\n",
    "file2 = open(\"test_write.txt\" , \"x\")\n",
    "file2.write(\"This is our file to test write function\")\n",
    "file2.close()\n",
    "\n",
    "file2 = open(\"test_write.txt\" , \"r\")\n",
    "print(file2.read())"
   ]
  },
  {
   "cell_type": "code",
   "execution_count": 25,
   "id": "4173a13d-bb14-404f-a74d-0b28ceb9ded8",
   "metadata": {},
   "outputs": [
    {
     "name": "stdout",
     "output_type": "stream",
     "text": [
      "I want to become a data scientist\n"
     ]
    }
   ],
   "source": [
    "# using writelines function\n",
    "\n",
    "with open(\"test_file\" , \"x\") as file3:\n",
    "    file3.writelines([\"I want to become\" , \" a data scientist\"])\n",
    "    \n",
    "file3 = open(\"test_file\" , \"r\")\n",
    "print(file3.read())"
   ]
  },
  {
   "cell_type": "code",
   "execution_count": null,
   "id": "25a76aa7-fef5-47ad-b8c5-4669ca168ca0",
   "metadata": {},
   "outputs": [],
   "source": []
  }
 ],
 "metadata": {
  "kernelspec": {
   "display_name": "Python 3 (ipykernel)",
   "language": "python",
   "name": "python3"
  },
  "language_info": {
   "codemirror_mode": {
    "name": "ipython",
    "version": 3
   },
   "file_extension": ".py",
   "mimetype": "text/x-python",
   "name": "python",
   "nbconvert_exporter": "python",
   "pygments_lexer": "ipython3",
   "version": "3.10.8"
  }
 },
 "nbformat": 4,
 "nbformat_minor": 5
}
