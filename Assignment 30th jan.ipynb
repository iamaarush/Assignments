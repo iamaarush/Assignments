{
 "cells": [
  {
   "cell_type": "code",
   "execution_count": 2,
   "id": "1027dc1f-34de-474d-8d7f-49adbfb12f54",
   "metadata": {},
   "outputs": [
    {
     "name": "stdin",
     "output_type": "stream",
     "text": [
      "Enter your marks 67\n"
     ]
    },
    {
     "name": "stdout",
     "output_type": "stream",
     "text": [
      "C\n"
     ]
    }
   ],
   "source": [
    "# Question 1\n",
    "\n",
    "marks =int(input(\"Enter your marks\"))\n",
    "if marks >90:\n",
    "    print (\"A\")\n",
    "elif marks >80 and marks <=90:\n",
    "    print (\"B\")\n",
    "elif marks >=60 and marks <=80:\n",
    "    print (\"C\")\n",
    "else:\n",
    "    print (\"D\")"
   ]
  },
  {
   "cell_type": "code",
   "execution_count": 3,
   "id": "1ab494f0-293b-45ab-8d55-f10dddba2f33",
   "metadata": {},
   "outputs": [
    {
     "name": "stdin",
     "output_type": "stream",
     "text": [
      "Enter your bike cost price 56000\n"
     ]
    },
    {
     "name": "stdout",
     "output_type": "stream",
     "text": [
      "10%\n"
     ]
    }
   ],
   "source": [
    "# Question 2 \n",
    "\n",
    "\n",
    "price =int(input(\"Enter your bike cost price\"))\n",
    "if price >100000:\n",
    "    print (\"15%\")\n",
    "elif price >50000 and price <=100000:\n",
    "    print (\"10%\")\n",
    "else:\n",
    "    print (\"5%\")"
   ]
  },
  {
   "cell_type": "code",
   "execution_count": 7,
   "id": "77137fae-431f-4db6-ba33-4ced3539aff9",
   "metadata": {},
   "outputs": [
    {
     "name": "stdin",
     "output_type": "stream",
     "text": [
      "Enter your city kanpur\n"
     ]
    },
    {
     "name": "stdout",
     "output_type": "stream",
     "text": [
      "No monument found\n"
     ]
    }
   ],
   "source": [
    "# Question 3\n",
    "\n",
    "city = input(\"Enter your city\")\n",
    "if city == (\"Delhi\") :\n",
    "    print(\"Red Fort\")\n",
    "elif city == \"Agra\" :\n",
    "    print(\"Taj Mahal\")\n",
    "elif city == \"Jaipur\" :\n",
    "    print(\"Jai Mahal\")\n",
    "else:\n",
    "    print(\"No monument found\")\n"
   ]
  },
  {
   "cell_type": "code",
   "execution_count": 4,
   "id": "357c5b20-5dfa-49d2-b2da-bec8d3a690fa",
   "metadata": {},
   "outputs": [
    {
     "name": "stdin",
     "output_type": "stream",
     "text": [
      "Give your number whch you want to divide by 3 42\n"
     ]
    },
    {
     "name": "stdout",
     "output_type": "stream",
     "text": [
      "Total iteration required 2\n"
     ]
    }
   ],
   "source": [
    "# Question 4\n",
    "\n",
    "number = int(input(\"Give your number whch you want to divide by 3\"))\n",
    "count = 0\n",
    "while number >= 10:\n",
    "    number = number / 3\n",
    "    count = count + 1\n",
    "print('Total iteration required', count)"
   ]
  },
  {
   "cell_type": "code",
   "execution_count": 5,
   "id": "2e80c11d-a044-49b2-b38a-72419a74d62c",
   "metadata": {},
   "outputs": [
    {
     "name": "stdout",
     "output_type": "stream",
     "text": [
      "1\n",
      "2\n",
      "3\n",
      "4\n",
      "5\n"
     ]
    },
    {
     "data": {
      "text/plain": [
       "'As wee can see in the upper example while loop executes untill unless the condition is true and when the condition become \\nfalse the loop breaks.'"
      ]
     },
     "execution_count": 5,
     "metadata": {},
     "output_type": "execute_result"
    }
   ],
   "source": [
    "# Question 5\n",
    "\n",
    "\"\"\"While loop is used to run a block code until a certain condition is met which means basically when we want a block of code\n",
    "to run n number of times .if the condition given in code evaluates to true the code inside the while loop will execute untill\n",
    "the condition become false.\"\"\"\n",
    "\n",
    "# Example - Display number from 1 to 5\n",
    "n=1\n",
    "i=5\n",
    "while n<=i:\n",
    "    print (n)\n",
    "    n=n+1\n",
    "\n",
    "\"\"\"As wee can see in the upper example while loop executes untill unless the condition is true and when the condition become \n",
    "false the loop breaks.\"\"\""
   ]
  },
  {
   "cell_type": "code",
   "execution_count": 2,
   "id": "829e5210-d0e1-4557-bf80-9b6ef5b3cbd1",
   "metadata": {},
   "outputs": [
    {
     "name": "stdin",
     "output_type": "stream",
     "text": [
      "Enter number of rows 5\n"
     ]
    },
    {
     "name": "stdout",
     "output_type": "stream",
     "text": [
      "* \n",
      "* * \n",
      "* * * \n",
      "* * * * \n",
      "* * * * * \n"
     ]
    }
   ],
   "source": [
    "# Question 6\n",
    "\n",
    "# pattern printing program 1\n",
    "\n",
    "n=int(input(\"Enter number of rows\"))\n",
    "i = 1\n",
    "while i <=n:\n",
    "    j = 1\n",
    "    while j <= i:\n",
    "        print(\"*\",end= \" \")\n",
    "        j=j+1\n",
    "    print()    \n",
    "    i=i+1\n",
    "    "
   ]
  },
  {
   "cell_type": "code",
   "execution_count": 3,
   "id": "57cdc928-638e-45f9-ae95-89fa4e35633b",
   "metadata": {},
   "outputs": [
    {
     "name": "stdin",
     "output_type": "stream",
     "text": [
      "Enter number of rows 5\n"
     ]
    },
    {
     "name": "stdout",
     "output_type": "stream",
     "text": [
      "* * * * * \n",
      "* * * * \n",
      "* * * \n",
      "* * \n",
      "* \n"
     ]
    }
   ],
   "source": [
    "# Question 6\n",
    "# program 2 reversing this pattern\n",
    "\n",
    "n= int(input(\"Enter number of rows\"))\n",
    "i=1\n",
    "while i <=n:\n",
    "    j=n\n",
    "    while j >=i:\n",
    "        print(\"*\",end = \" \")\n",
    "        j= j-1\n",
    "    i=i+1\n",
    "    print()\n"
   ]
  },
  {
   "cell_type": "code",
   "execution_count": 9,
   "id": "2e965169-c793-4ff9-9a8d-afca949703c0",
   "metadata": {},
   "outputs": [
    {
     "name": "stdin",
     "output_type": "stream",
     "text": [
      "Enter number of rows 5\n"
     ]
    },
    {
     "name": "stdout",
     "output_type": "stream",
     "text": [
      "0 \n",
      "1 1 \n",
      "2 2 2 \n",
      "3 3 3 3 \n",
      "4 4 4 4 4 \n"
     ]
    }
   ],
   "source": [
    "# Question 6\n",
    "# program 3 numbers printing in a pattern\n",
    "\n",
    "n= int(input(\"Enter number of rows\"))\n",
    "i = 1\n",
    "while i <= n:\n",
    "    j = 1\n",
    "    while j <= i:\n",
    "        print((i * 1 - 1), end=\" \")\n",
    "        j = j + 1\n",
    "    i = i + 1\n",
    "    print('')"
   ]
  },
  {
   "cell_type": "code",
   "execution_count": 10,
   "id": "8f15ab92-40c2-40f0-9712-7488bff22c8c",
   "metadata": {},
   "outputs": [
    {
     "name": "stdout",
     "output_type": "stream",
     "text": [
      "10\n",
      "9\n",
      "8\n",
      "7\n",
      "6\n",
      "5\n",
      "4\n",
      "3\n",
      "2\n",
      "1\n"
     ]
    }
   ],
   "source": [
    "# Question 7\n",
    "\n",
    "i=10\n",
    "while i >0:\n",
    "    print(i)\n",
    "    i=i-1"
   ]
  },
  {
   "cell_type": "code",
   "execution_count": 11,
   "id": "c1e2a019-dc21-4b92-8621-30c326a86e34",
   "metadata": {},
   "outputs": [
    {
     "name": "stdout",
     "output_type": "stream",
     "text": [
      "1\n",
      "2\n",
      "3\n",
      "4\n",
      "5\n",
      "6\n",
      "7\n",
      "8\n",
      "9\n",
      "10\n"
     ]
    }
   ],
   "source": [
    "# Question 8\n",
    " \n",
    "i=1\n",
    "while i<=10:\n",
    "    print(i)\n",
    "    i= i+1"
   ]
  },
  {
   "cell_type": "code",
   "execution_count": null,
   "id": "e511ed68-dd8d-4619-9518-71c3cc507b73",
   "metadata": {},
   "outputs": [],
   "source": []
  }
 ],
 "metadata": {
  "kernelspec": {
   "display_name": "Python 3 (ipykernel)",
   "language": "python",
   "name": "python3"
  },
  "language_info": {
   "codemirror_mode": {
    "name": "ipython",
    "version": 3
   },
   "file_extension": ".py",
   "mimetype": "text/x-python",
   "name": "python",
   "nbconvert_exporter": "python",
   "pygments_lexer": "ipython3",
   "version": "3.10.8"
  }
 },
 "nbformat": 4,
 "nbformat_minor": 5
}
