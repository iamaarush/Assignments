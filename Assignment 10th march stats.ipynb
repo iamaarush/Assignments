{
 "cells": [
  {
   "cell_type": "markdown",
   "id": "716524be-20b3-4621-85d8-d33b81dd508d",
   "metadata": {},
   "source": [
    "# Question 1\n",
    "\n",
    "What is Estimation Statistics? Explain point estimate and interval estimate."
   ]
  },
  {
   "cell_type": "code",
   "execution_count": null,
   "id": "63556a66-1fc0-4d80-8e84-a9ff97219e9c",
   "metadata": {},
   "outputs": [],
   "source": [
    "Estimation statistics or estimation is a data analysis framework that uses a combination of effect sizes , \n",
    "confidence intervals , precision planning and meta-analysis to plan experiments , analyze data and interpret results.\n",
    "\n",
    "Point estimate - Single numerical value used to estimate the unknown population parameter.For instance, a sample mean is \n",
    "a point estimate of a population mean.\n",
    "\n",
    "interval estimate - Range of values used to estimate the unknown population parameters.A confidence interval is the most \n",
    "common type of interval estimate."
   ]
  },
  {
   "cell_type": "markdown",
   "id": "4419ea2d-6d66-4999-b7e7-14533ab5ca59",
   "metadata": {},
   "source": [
    "# Question 2\n",
    "\n",
    "Write a Python function to estimate the population mean using a sample mean and standard\n",
    "deviation."
   ]
  },
  {
   "cell_type": "code",
   "execution_count": 3,
   "id": "f00d75e7-125f-4f72-aabf-540f3d32a3dd",
   "metadata": {},
   "outputs": [],
   "source": [
    "import math\n",
    "import scipy.stats as stats\n",
    "\n",
    "def estimate_pop_mean(sample , confidence_level = 0.95):\n",
    "    sample_mean = sum(sample)/len(sample)\n",
    "    sample_std = math.sqrt(sum([(x - sample_mean)**2 for x in sample]) / (len(sample) - 1))\n",
    "    \n",
    "    # calculate the t-value for the desired level of confidence and degrees of freedom\n",
    "    alpha = 1 - confidence_level\n",
    "    dof = len(sample)-1\n",
    "    t_value = stats.t.ppf(1 - alpha/2, dof)\n",
    "    \n",
    "    # calculate the standard error and margin of error\n",
    "    std_error = sample_std / math.sqrt(len(sample))\n",
    "    margin_of_error = t_value * std_error\n",
    "    \n",
    "      # calculate the confidence interval bounds\n",
    "    lower_bound = sample_mean - margin_of_error\n",
    "    upper_bound = sample_mean + margin_of_error\n",
    "\n",
    "     # return the confidence interval as a tuple\n",
    "    return (lower_bound, upper_bound)"
   ]
  },
  {
   "cell_type": "code",
   "execution_count": 4,
   "id": "6874a6d9-90f5-451e-a759-0abda6d87abb",
   "metadata": {},
   "outputs": [
    {
     "name": "stdout",
     "output_type": "stream",
     "text": [
      "ESTIMATED population mean point estimate is : 55.44424158019853\n",
      "ESTIMATED population mean with 95% confidence interval : (49.762974798527,61.12550836187006)\n",
      "\n",
      "==========================================================================================================\n",
      "\n",
      "ACTUAL Population mean is : 49.02565533201336\n"
     ]
    }
   ],
   "source": [
    "# Example with sample and population data\n",
    "\n",
    "import numpy as np\n",
    "import random\n",
    "\n",
    "# Set random seed for reproducibility\n",
    "np.random.seed(42)\n",
    "\n",
    "# Create a population of 1000 random values between 0 and 100\n",
    "population_size = 1000\n",
    "population = np.random.uniform(low=0, high=100, size=population_size)\n",
    "\n",
    "# Take a random sample of 100 values from the population\n",
    "sample_size = 100\n",
    "sample = random.sample(list(population), sample_size)\n",
    "\n",
    "# Estimate the population mean and interval using the sample data\n",
    "lower_bound, upper_bound = estimate_pop_mean(sample)\n",
    "\n",
    "# Print the estimated mean\n",
    "print(f\"ESTIMATED population mean point estimate is : {np.mean(sample)}\")\n",
    "print(f\"ESTIMATED population mean with 95% confidence interval : ({lower_bound},{upper_bound})\")\n",
    "print('\\n==========================================================================================================\\n')\n",
    "# Printing Actual population mean \n",
    "print(f\"ACTUAL Population mean is : {np.mean(population)}\")"
   ]
  },
  {
   "cell_type": "markdown",
   "id": "64ad5f89-3691-48b2-bf6e-2792b0dba645",
   "metadata": {},
   "source": [
    "# Question 3\n",
    "\n",
    "What is Hypothesis testing? Why is it used? State the importance of Hypothesis testing."
   ]
  },
  {
   "cell_type": "code",
   "execution_count": null,
   "id": "1b2b3ab3-27e2-4ca4-a1d2-65fcd42b23af",
   "metadata": {},
   "outputs": [],
   "source": [
    "Hypothesis testing is a statistical method that is used in making a statistical decision using experimental data.\n",
    "Hypothesis testing is basically an assumption that we make about a population parameter. It evaluates two mutually\n",
    "exclusive statements about a population to determine which statement is best supported by the sample data. \n",
    "\n",
    "Hypothesis testing is an important procedure in statistics. Hypothesis testing evaluates two mutually exclusive population\n",
    "statements to determine which statement is most supported by sample data. When we say that the findings are statistically \n",
    "significant, it is thanks to hypothesis testing. \n",
    "\n",
    "The importance of hypothesis testing lies in its ability to make statistical inferences about a population based on sample\n",
    "data, while accounting for the uncertainty and variability of the data. It provides a systematic and objective way to test\n",
    "a hypothesis and draw conclusions based on the evidence. Hypothesis testing allows us to make informed decisions based on \n",
    "data, rather than relying on intuition or guesswork. It is a critical tool in scientific research, where the validity and \n",
    "reliability of the results depend on the appropriate use of hypothesis testing."
   ]
  },
  {
   "cell_type": "markdown",
   "id": "2b3d23be-9e7d-4456-befa-f9821fa18c20",
   "metadata": {},
   "source": [
    "# Question 4\n",
    "\n",
    "Create a hypothesis that states whether the average weight of male college students is greater than\n",
    "the average weight of female college students."
   ]
  },
  {
   "cell_type": "code",
   "execution_count": null,
   "id": "e6b8c6c8-e632-40b5-889c-56900d6c7923",
   "metadata": {},
   "outputs": [],
   "source": [
    "Null hypothesis: The average weight of male college students is equal to or less than the average weight of female college\n",
    "students.\n",
    "\n",
    "Alternative hypothesis: The average weight of male college students is greater than the average weight of female college \n",
    "students.\n",
    "\n",
    "The null hypothesis assumes that there is no significant difference in weight between male and female college students.\n",
    "\n",
    "The alternative hypothesis assumes that there is a significant difference in weight, and specifically that male college \n",
    "students have a higher average weight than female college students."
   ]
  },
  {
   "cell_type": "markdown",
   "id": "27d7ef28-652d-4e94-9e1b-058261a5beb4",
   "metadata": {},
   "source": [
    "# Question 5\n",
    "\n",
    "Write a Python script to conduct a hypothesis test on the difference between two population means,\n",
    "given a sample from each population."
   ]
  },
  {
   "cell_type": "code",
   "execution_count": 5,
   "id": "b98c3961-d2bd-4303-b423-9c2ac2d37594",
   "metadata": {},
   "outputs": [
    {
     "name": "stdout",
     "output_type": "stream",
     "text": [
      "p-value : 0.22461584380277022\n",
      "t-statistic : 0.7955870797707367\n",
      "t-crit : 2.3060041350333704\n",
      "Fail to reject the null hypothesis: The population means of the two samples are EQUAL\n",
      "Fail to reject the null hypothesis: The population means of the two samples are EQUAL\n"
     ]
    }
   ],
   "source": [
    "import numpy as np\n",
    "from scipy.stats import t\n",
    "\n",
    "# Sample data\n",
    "sample1 = np.array([2.5, 3.2, 2.9, 3.8, 3.5])\n",
    "sample2 = np.array([2.1, 3.0, 3.5, 2.8, 3.2])\n",
    "\n",
    "# Sample statistics\n",
    "n1 = len(sample1)\n",
    "n2 = len(sample2)\n",
    "mean1 = np.mean(sample1)\n",
    "mean2 = np.mean(sample2)\n",
    "std1 = np.std(sample1, ddof=1)\n",
    "std2 = np.std(sample2, ddof=1)\n",
    "\n",
    "# Null and alternative hypotheses\n",
    "null_hypothesis = \"The population means of the two samples are EQUAL\"\n",
    "alt_hypothesis = \"The population mean of sample 1 and sample 2 are NOT Equal\"\n",
    "\n",
    "# Calculate the t-statistic and degrees of freedom\n",
    "sp = np.sqrt(((n1-1)*(std1**2) + (n2-1)*(std2**2)) / (n1+n2-2))\n",
    "t_stat = (mean1 - mean2) / (sp * np.sqrt(1/n1 + 1/n2))\n",
    "df = n1 + n2 - 2\n",
    "\n",
    "# Calculate the p-value and critical value\n",
    "p_value = 1 - t.cdf(t_stat, df=df)\n",
    "alpha = 0.05\n",
    "t_crit = t.ppf(1-alpha/2, df=df)\n",
    "\n",
    "# Print p_value\n",
    "print(f'p-value : {p_value}')\n",
    "\n",
    "# Print t_stat\n",
    "print(f't-statistic : {t_stat}')\n",
    "\n",
    "#print t_crit\n",
    "print(f't-crit : {t_crit}')\n",
    "\n",
    "# Compare the p-value and critical value to the significance level\n",
    "if p_value < alpha:\n",
    "    print(\"Reject the null hypothesis: \" + null_hypothesis)\n",
    "    print(\"Accept the alternative hypothesis: \" + alt_hypothesis)\n",
    "else:\n",
    "    print(\"Fail to reject the null hypothesis: \" + null_hypothesis)\n",
    "    \n",
    "# Compare the t-statistic to the critical value\n",
    "if abs(t_stat) > t_crit:\n",
    "    print(\"Reject the null hypothesis: \" + null_hypothesis)\n",
    "    print(\"Accept the alternative hypothesis: \" + alt_hypothesis)\n",
    "else:\n",
    "    print(\"Fail to reject the null hypothesis: \" + null_hypothesis)"
   ]
  },
  {
   "cell_type": "markdown",
   "id": "a233cbc4-fb2b-45ae-b7d4-e817399fc5b1",
   "metadata": {},
   "source": [
    "# Question 6\n",
    "What is a null and alternative hypothesis? Give some examples."
   ]
  },
  {
   "cell_type": "code",
   "execution_count": null,
   "id": "b426f32a-792b-4fc9-a717-59d8d7328c73",
   "metadata": {},
   "outputs": [],
   "source": [
    "In statistical hypothesis testing, the null hypothesis (denoted as H0) is a statement that assumes there is no significant \n",
    "difference between two or more variables, or that a proposed relationship does not exist between variables.\n",
    "\n",
    "The alternative hypothesis (denoted as Ha or H1) is a statement that contradicts the null hypothesis and claims that there \n",
    "is a significant difference between variables or a proposed relationship does exist.\n",
    "\n",
    "Examples of null and alternative hypotheses are:\n",
    "Null Hypothesis: The average age of customers who buy product A and product B is the same. Alternative Hypothesis: The\n",
    "average age of customers who buy product A is different from the average age of customers who buy product B.\n",
    "\n",
    "1. Null Hypothesis: The new drug has no effect on blood pressure. Alternative Hypothesis: The new drug reduces blood pressure.\n",
    "\n",
    "2. Null Hypothesis: There is no relationship between education level and job satisfaction. Alternative Hypothesis: Higher\n",
    "education levels are associated with higher job satisfaction.\n",
    "\n",
    "3. Null Hypothesis: The mean weight of male and female students is the same. Alternative Hypothesis: The mean weight of male \n",
    "students is greater than the mean weight of female students.\n",
    "\n",
    "4. Null Hypothesis: The proportion of voters who support Candidate A is the same as the proportion who support Candidate B. \n",
    "Alternative Hypothesis: The proportion of voters who support Candidate A is different from the proportion who support \n",
    "Candidate B."
   ]
  },
  {
   "cell_type": "markdown",
   "id": "5b03d67c-4db5-410e-bb37-8274d0b4e740",
   "metadata": {},
   "source": [
    "# Question 7\n",
    "\n",
    "Write down the steps involved in hypothesis testing."
   ]
  },
  {
   "cell_type": "code",
   "execution_count": null,
   "id": "4cb1c2be-cdb5-46a5-b6e7-f3923edb0163",
   "metadata": {},
   "outputs": [],
   "source": [
    "The general steps involved in hypothesis testing are:\n",
    "1. State the null and alternative hypotheses: This involves defining the null hypothesis (H0) and alternative hypothesis\n",
    "(H1) based on the research question or problem being investigated.\n",
    "\n",
    "2. Determine the level of significance: This involves selecting a level of significance (alpha) that represents the maximum \n",
    "probability of making a Type I error (rejecting the null hypothesis when it is actually true).\n",
    "\n",
    "3. Choose the appropriate test statistic: This depends on the type of data being analyzed, the sample size, and the assumptions\n",
    "of the statistical test.\n",
    "\n",
    "4. Calculate the test statistic: This involves computing the test statistic based on the sample data.\n",
    "\n",
    "5. Determine the p-value: This is the probability of obtaining a test statistic as extreme or more extreme than the observed \n",
    "value, assuming the null hypothesis is true.\n",
    "\n",
    "6. Compare the p-value to the level of significance: If the p-value is less than or equal to the level of significance, reject \n",
    "the null hypothesis. If the p-value is greater than the level of significance, fail to reject the null hypothesis.\n",
    "\n",
    "7. Interpret the results: This involves drawing conclusions based on the statistical analysis and determining the practical \n",
    "significance of the findings.\n",
    "\n",
    "8. Make a decision and draw conclusions: Based on the results of the hypothesis test, make a decision regarding the research \n",
    "question and draw conclusions based on the findings."
   ]
  },
  {
   "cell_type": "markdown",
   "id": "12882df4-ed2f-45ee-88dc-a59c11bad127",
   "metadata": {},
   "source": [
    "# Question 8\n",
    "\n",
    "Define p-value and explain its significance in hypothesis testing."
   ]
  },
  {
   "cell_type": "code",
   "execution_count": null,
   "id": "9c6eff9c-9201-4071-8a43-45f8e38667d7",
   "metadata": {},
   "outputs": [],
   "source": [
    "In hypothesis testing, the p-value is the probability of obtaining a test statistic as extreme or more extreme than the\n",
    "observed value, assuming the null hypothesis is true. The p-value is a measure of the strength of the evidence against \n",
    "the null hypothesis.\n",
    "\n",
    "If the p-value is less than or equal to the level of significance (alpha), it is considered statistically significant, and\n",
    "the null hypothesis is rejected. This indicates that the observed result is unlikely to have occurred by chance and supports\n",
    "the alternative hypothesis. If the p-value is greater than the level of significance, the null hypothesis cannot be rejected,\n",
    "and the result is not considered statistically significant.\n",
    "\n",
    "The p-value is significant because it provides a quantitative measure of the strength of the evidence against the null\n",
    "hypothesis. A small p-value indicates strong evidence against the null hypothesis, whereas a large p-value indicates weak\n",
    "evidence against the null hypothesis. The p-value also helps researchers make informed decisions about whether to reject \n",
    "or fail to reject the null hypothesis and draw conclusions based on the statistical analysis."
   ]
  },
  {
   "cell_type": "markdown",
   "id": "83e8c1a6-9ca6-4431-b3bd-a0da0ed4941f",
   "metadata": {},
   "source": [
    "# Question 9\n",
    "\n",
    "Generate a Student's t-distribution plot using Python's matplotlib library, with the degrees of freedom\n",
    "parameter set to 10."
   ]
  },
  {
   "cell_type": "code",
   "execution_count": 6,
   "id": "6d4d301e-0be7-4de3-98e7-d9f3e52896cb",
   "metadata": {},
   "outputs": [
    {
     "data": {
      "image/png": "[encoded data removed]",
      "text/plain": [
       "<Figure size 640x480 with 1 Axes>"
      ]
     },
     "metadata": {},
     "output_type": "display_data"
    }
   ],
   "source": [
    "import matplotlib.pyplot as plt\n",
    "import numpy as np\n",
    "from scipy.stats import t\n",
    "\n",
    "df = 10 # degrees of freedom\n",
    "data = t.rvs(df, size=1000) # generate 1000 random values from the t-distribution with 10 degrees of freedom\n",
    "\n",
    "fig, ax = plt.subplots()\n",
    "ax.hist(data, bins='fd', density=True, alpha=0.5,edgecolor='yellow',label='histogram')\n",
    "\n",
    "kde_xs = np.linspace(data.min(), data.max(), 1000)\n",
    "kde = t.pdf(kde_xs, df)\n",
    "ax.plot(kde_xs, kde, label='KDE', linewidth=2)\n",
    "\n",
    "ax.set_xlabel('x')\n",
    "ax.set_ylabel('Probability density')\n",
    "ax.set_title('Student\\'s t-distribution with 10 degrees of freedom')\n",
    "ax.legend(loc='best')\n",
    "plt.show()"
   ]
  },
  {
   "cell_type": "markdown",
   "id": "3b566233-d8fc-4a54-959e-0b6718bff897",
   "metadata": {},
   "source": [
    "# Question 10\n",
    "\n",
    "Write a Python program to calculate the two-sample t-test for independent samples, given two\n",
    "random samples of equal size and a null hypothesis that the population means are equal."
   ]
  },
  {
   "cell_type": "code",
   "execution_count": 7,
   "id": "936f983e-2b75-4ca2-a4b9-479a1bd55b99",
   "metadata": {},
   "outputs": [
    {
     "name": "stdout",
     "output_type": "stream",
     "text": [
      "t-statistic =  -5.339420260450864\n",
      "p-value =  6.039528274954419e-07\n",
      "Confidence Interval = 0.99\n",
      "\n",
      "\n",
      "REJECT the null hypothesis that the population means are equal.\n",
      "Conclusion : Population means for both samples are DIFFERENT\n"
     ]
    }
   ],
   "source": [
    "import numpy as np\n",
    "from scipy.stats import ttest_ind\n",
    "\n",
    "# Generate two random samples of equal size\n",
    "sample1 = np.random.normal(loc=10, scale=2, size=50)\n",
    "sample2 = np.random.normal(loc=12, scale=2, size=50)\n",
    "\n",
    "# Calculate the t-statistic and p-value using the ttest_ind function\n",
    "t_stat, p_val = ttest_ind(sample1, sample2)\n",
    "\n",
    "# Print the results\n",
    "print(\"t-statistic = \", t_stat)\n",
    "print(\"p-value = \", p_val)\n",
    "\n",
    "alpha = 0.01\n",
    "print(\"Confidence Interval =\",1-alpha)\n",
    "print('\\n')\n",
    "\n",
    "# Test the null hypothesis\n",
    "if p_val < alpha:\n",
    "    print(\"REJECT the null hypothesis that the population means are equal.\")\n",
    "    print(\"Conclusion : Population means for both samples are DIFFERENT\")\n",
    "else:\n",
    "    print(\"FAIL to reject the null hypothesis that the population means are equal.\")\n",
    "    print(\"Conclusion : Population means for both samples are EQUAL\")"
   ]
  },
  {
   "cell_type": "markdown",
   "id": "18055852-ae90-49a3-8031-5593456c92b7",
   "metadata": {},
   "source": [
    "# Question 11\n",
    "\n",
    "What is Student’s t distribution? When to use the t-Distribution."
   ]
  },
  {
   "cell_type": "code",
   "execution_count": null,
   "id": "ca24b9bb-4c04-41ae-842c-0fb4f8a2a904",
   "metadata": {},
   "outputs": [],
   "source": [
    "Students t-distribution, also known as the t-distribution, is a probability distribution that is used to estimate the mean\n",
    "of a normally distributed population when the sample size is small and/or the population standard deviation is unknown. It\n",
    "was first introduced by William Sealy Gosset in 1908, who published under the pseudonym \"Student\".\n",
    "\n",
    "The t-distribution looks similar to a normal distribution, but it has heavier tails and is more spread out. The shape of \n",
    "the t-distribution depends on a parameter known as degrees of freedom (df), which is related to the sample size.\n",
    "\n",
    "In general, the t-distribution is used in hypothesis testing and confidence interval estimation when the sample size is \n",
    "small (less than 30) or the population standard deviation is unknown. It allows us to make inferences about the population\n",
    "mean based on a small sample of data. The t-distribution is commonly used in a variety of fields, including statistics, \n",
    "engineering, and social sciences.\n",
    "\n",
    "Specifically, we use the t-distribution when:\n",
    "    \n",
    "1. The sample size is small (less than 30).\n",
    "\n",
    "2. The population standard deviation is unknown.\n",
    "\n",
    "3. The population is normally distributed or approximately normally distributed (the central limit theorem applies).\n",
    "\n",
    "4. We want to make inferences about the population mean, such as testing whether a sample mean is significantly different\n",
    "from a hypothesized\n",
    "\n",
    "5. population mean or constructing a confidence interval for the population mean."
   ]
  },
  {
   "cell_type": "markdown",
   "id": "72a736a4-091a-47f8-98f3-cfa603cfb65b",
   "metadata": {},
   "source": [
    "# Question 12\n",
    "\n",
    "What is t-statistic? State the formula for t-statistic."
   ]
  },
  {
   "cell_type": "code",
   "execution_count": null,
   "id": "76012a03-30e1-4077-91b6-63ab2a542a66",
   "metadata": {},
   "outputs": [],
   "source": [
    "The t-statistic is a test statistic that is used in hypothesis testing and confidence interval estimation when the\n",
    "population standard deviation is unknown and the sample size is small. It is a standardized measure of the difference\n",
    "between the sample mean and the hypothesized population mean, in units of the sample standard deviation.\n",
    "\n",
    "The formula for the t-statistic is:\n",
    "t = sample mean - mean /s / sqrt(n)\n",
    " \n",
    "where:\n",
    "sample mean = mean of sample data\n",
    "mean = population mean\n",
    "s = sample standard deviation \n",
    "n = sample size\n",
    " \n",
    "The formula shows that the t-statistic is the difference between the sample mean and hypothesized population mean, \n",
    "standardized by the standard error of the mean, which is the sample standard deviation divided by the square root of the \n",
    "sample size."
   ]
  },
  {
   "cell_type": "markdown",
   "id": "8700d7ee-c643-4a3c-818c-add47a9c7b52",
   "metadata": {},
   "source": [
    "# Question 13\n",
    "\n",
    "A coffee shop owner wants to estimate the average daily revenue for their shop. They take a random\n",
    "sample of 50 days and find the sample mean revenue to be $500 with a standard deviation of $50.\n",
    "Estimate the population mean revenue with a 95% confidence interval."
   ]
  },
  {
   "cell_type": "code",
   "execution_count": 8,
   "id": "f49e5ef6-d93c-407a-b089-e84fcedefe8e",
   "metadata": {},
   "outputs": [
    {
     "name": "stdout",
     "output_type": "stream",
     "text": [
      "The 95% confidence interval for the population mean revenue is: ($485.79, $514.21)\n"
     ]
    }
   ],
   "source": [
    "import math\n",
    "import scipy.stats as stats\n",
    "\n",
    "n = 50\n",
    "sample_mean = 500\n",
    "std = 50\n",
    "c_i = 0.95\n",
    "alpha = 1- 0.95 \n",
    "d_o_f = n - 1\n",
    "\n",
    "t_value = stats.t.ppf(1-alpha /2 , d_o_f)\n",
    "\n",
    "std_error = std/math.sqrt(n)\n",
    "margin_of_error = t_value * std_error\n",
    "\n",
    "lower_bound = sample_mean - margin_of_error\n",
    "upper_bound = sample_mean + margin_of_error\n",
    "\n",
    "print(f\"The 95% confidence interval for the population mean revenue is: (${lower_bound:.2f}, ${upper_bound:.2f})\")\n",
    "\n"
   ]
  },
  {
   "cell_type": "markdown",
   "id": "f6776cc0-60f6-4866-b28e-b218f62e90d4",
   "metadata": {},
   "source": [
    "# Question 14\n",
    "\n",
    "A researcher hypothesizes that a new drug will decrease blood pressure by 10 mmHg. They conduct a\n",
    "clinical trial with 100 patients and find that the sample mean decrease in blood pressure is 8 mmHg with a\n",
    "standard deviation of 3 mmHg. Test the hypothesis with a significance level of 0.05."
   ]
  },
  {
   "cell_type": "code",
   "execution_count": 9,
   "id": "3a63249a-876a-4b7d-be30-de733c6da9f6",
   "metadata": {},
   "outputs": [
    {
     "name": "stdout",
     "output_type": "stream",
     "text": [
      "The p-value is 7.506144504985108e-10, which is less than the significance level of 0.05.\n",
      "Reject the null hypothesis: The true mean decrease in blood pressure is equal to 10 mmHg.\n",
      "Conclusion: The true mean decrease in blood pressure is less than 10 mmHg.\n"
     ]
    }
   ],
   "source": [
    "import math\n",
    "import scipy.stats as stats\n",
    "\n",
    "# sample size\n",
    "n = 100\n",
    "\n",
    "# sample mean and standard deviation\n",
    "sample_mean = 8\n",
    "sample_std = 3\n",
    "\n",
    "# hypothesized population mean\n",
    "pop_mean = 10\n",
    "\n",
    "# null hypothesis: the true mean decrease in blood pressure is equal to 10 mmHg\n",
    "# alternative hypothesis: the true mean decrease in blood pressure is less than 10 mmHg\n",
    "null_hypothesis = \"The true mean decrease in blood pressure is equal to 10 mmHg\"\n",
    "alternative_hypothesis = \"The true mean decrease in blood pressure is less than 10 mmHg\"\n",
    "\n",
    "# calculate the t-value and p-value\n",
    "t_value = (sample_mean - pop_mean) / (sample_std / math.sqrt(n))\n",
    "p_value = stats.t.cdf(t_value, df=n-1)\n",
    "\n",
    "# compare the p-value with the significance level\n",
    "significance_level = 0.05\n",
    "\n",
    "if p_value < significance_level:\n",
    "    print(f\"The p-value is {p_value}, which is less than the significance level of {significance_level}.\")\n",
    "    print(f\"Reject the null hypothesis: {null_hypothesis}.\")\n",
    "    print(f\"Conclusion: {alternative_hypothesis}.\")\n",
    "else:\n",
    "    print(f\"The p-value is {p_value}, which is greater than the significance level of {significance_level}.\")\n",
    "    print(f\"Fail to reject the null hypothesis: {null_hypothesis}.\")\n",
    "    print(\"Conclusion: There is not enough evidence to conclude that the new drug decreases blood pressure by a statistically significant amount.\")\n"
   ]
  },
  {
   "cell_type": "markdown",
   "id": "87738510-7d26-4ac7-8505-fda227c7e7fa",
   "metadata": {},
   "source": [
    "# Question 15\n",
    "\n",
    "An electronics company produces a certain type of product with a mean weight of 5 pounds and a\n",
    "standard deviation of 0.5 pounds. A random sample of 25 products is taken, and the sample mean weight\n",
    "is found to be 4.8 pounds. Test the hypothesis that the true mean weight of the products is less than 5\n",
    "pounds with a significance level of 0.01."
   ]
  },
  {
   "cell_type": "code",
   "execution_count": 10,
   "id": "f854e13e-bf99-4025-9fac-c4d6dcefded6",
   "metadata": {},
   "outputs": [
    {
     "name": "stdout",
     "output_type": "stream",
     "text": [
      "The p-value is 0.0285, which is greater than the significance level of 0.01.\n",
      "Fail to reject the null hypothesis: The true mean weight of the products is equal to 5 pounds.\n",
      "Conclusion: There is not enough evidence to conclude that the true mean weight of the products is less than 5 pounds.\n"
     ]
    }
   ],
   "source": [
    "import math\n",
    "import scipy.stats as stats\n",
    "\n",
    "# population mean and standard deviation\n",
    "pop_mean = 5\n",
    "pop_std = 0.5\n",
    "\n",
    "# sample size and sample mean\n",
    "n = 25\n",
    "sample_mean = 4.8\n",
    "\n",
    "# null hypothesis: the true mean weight of the products is equal to 5 pounds\n",
    "# alternative hypothesis: the true mean weight of the products is less than 5 pounds\n",
    "null_hypothesis = \"The true mean weight of the products is equal to 5 pounds\"\n",
    "alternative_hypothesis = \"The true mean weight of the products is less than 5 pounds\"\n",
    "\n",
    "# calculate the t-value and p-value\n",
    "t_value = (sample_mean - pop_mean) / (pop_std / math.sqrt(n))\n",
    "p_value = stats.t.cdf(t_value, df=n-1)\n",
    "\n",
    "# compare the p-value with the significance level\n",
    "significance_level = 0.01\n",
    "\n",
    "if p_value < significance_level:\n",
    "    print(f\"The p-value is {p_value:.4f}, which is less than the significance level of {significance_level}.\")\n",
    "    print(f\"Reject the null hypothesis: {null_hypothesis}.\")\n",
    "    print(f\"Conclusion: {alternative_hypothesis}.\")\n",
    "else:\n",
    "    print(f\"The p-value is {p_value:.4f}, which is greater than the significance level of {significance_level}.\")\n",
    "    print(f\"Fail to reject the null hypothesis: {null_hypothesis}.\")\n",
    "    print(\"Conclusion: There is not enough evidence to conclude that the true mean weight of the products is less than 5 pounds.\")\n"
   ]
  },
  {
   "cell_type": "markdown",
   "id": "cb7c4f09-b4a3-4b34-936a-40a4efda80c6",
   "metadata": {},
   "source": [
    "# Question 16\n",
    "\n",
    "Two groups of students are given different study materials to prepare for a test. The first group (n1 =\n",
    "30) has a mean score of 80 with a standard deviation of 10, and the second group (n2 = 40) has a mean\n",
    "score of 75 with a standard deviation of 8. Test the hypothesis that the population means for the two\n",
    "groups are equal with a significance level of 0.01."
   ]
  },
  {
   "cell_type": "code",
   "execution_count": 11,
   "id": "29252729-ca17-4dfb-8c03-2084c6c5a89c",
   "metadata": {},
   "outputs": [
    {
     "name": "stdout",
     "output_type": "stream",
     "text": [
      "Fail to reject the null hypothesis.\n",
      "Conclusion : The population means for the two groups are EQUAL\n",
      "p-value:  0.02761348036769749\n"
     ]
    }
   ],
   "source": [
    "import scipy.stats as stats\n",
    "\n",
    "# Sample 1 statistics\n",
    "n1 = 30\n",
    "x1 = 80\n",
    "s1 = 10\n",
    "\n",
    "# Sample 2 statistics\n",
    "n2 = 40\n",
    "x2 = 75\n",
    "s2 = 8\n",
    "\n",
    "# null hypothesis: The population means for the two groups are EQUAL\n",
    "# alternative hypothesis: The population means for the two groups are NOT equal.\n",
    "null_hypothesis = \"The population means for the two groups are EQUAL\"\n",
    "alternative_hypothesis = \"The population means for the two groups are not equal.\"\n",
    "\n",
    "# Calculate the t-statistic\n",
    "t = (x1 - x2) / ((s1**2 / n1) + (s2**2 / n2))**0.5\n",
    "\n",
    "# Degrees of freedom\n",
    "df = n1 + n2 - 2\n",
    "\n",
    "# Calculate the p-value for the two-tailed test\n",
    "p_value = stats.t.sf(abs(t), df) * 2\n",
    "\n",
    "# Significance level\n",
    "alpha = 0.01\n",
    "\n",
    "# Test the hypothesis\n",
    "if p_value < alpha:\n",
    "    print(f\"Reject the null hypothesis : {null_hypothesis}\")\n",
    "    print(f\"Conclusion : {alternative_hypothesis}\")\n",
    "else:\n",
    "    print(\"Fail to reject the null hypothesis.\")\n",
    "    print(f\"Conclusion : {null_hypothesis}\")\n",
    "\n",
    "print(\"p-value: \", p_value)"
   ]
  },
  {
   "cell_type": "markdown",
   "id": "1bd3f4b3-98d6-419c-b3c6-8550d7f49ffe",
   "metadata": {},
   "source": [
    "# Question 17\n",
    "\n",
    "A marketing company wants to estimate the average number of ads watched by viewers during a TV\n",
    "program. They take a random sample of 50 viewers and find that the sample mean is 4 with a standard\n",
    "deviation of 1.5. Estimate the population mean with a 99% confidence interval."
   ]
  },
  {
   "cell_type": "code",
   "execution_count": 12,
   "id": "d5f27c1f-cd52-4b08-975b-ecc37e80b160",
   "metadata": {},
   "outputs": [
    {
     "name": "stdout",
     "output_type": "stream",
     "text": [
      "The population mean is between 3.43 and 4.57 with 99.0 % confidence.\n"
     ]
    }
   ],
   "source": [
    "import scipy.stats as stats\n",
    "import math\n",
    "\n",
    "sample_mean = 4\n",
    "sample_size = 50\n",
    "sample_std_dev = 1.5\n",
    "conf_level = 0.99\n",
    "\n",
    "# calculate the t-value for the desired level of confidence and degrees of freedom\n",
    "t_value = stats.t.ppf((1+conf_level)/2,sample_size-1)\n",
    "\n",
    "# Calculate margin of error\n",
    "margin_error = t_value * (sample_std_dev / math.sqrt(sample_size))\n",
    "\n",
    "# Calculate confidence interval\n",
    "lower_interval = sample_mean - margin_error\n",
    "upper_interval = sample_mean + margin_error\n",
    "\n",
    "# Print results\n",
    "print(\"The population mean is between\", round(lower_interval, 2), \"and\", round(upper_interval, 2), \"with\", conf_level * 100, \"% confidence.\")\n"
   ]
  },
  {
   "cell_type": "code",
   "execution_count": null,
   "id": "07510c84-b380-4426-8b28-c60e8992b8d5",
   "metadata": {},
   "outputs": [],
   "source": []
  }
 ],
 "metadata": {
  "kernelspec": {
   "display_name": "Python 3 (ipykernel)",
   "language": "python",
   "name": "python3"
  },
  "language_info": {
   "codemirror_mode": {
    "name": "ipython",
    "version": 3
   },
   "file_extension": ".py",
   "mimetype": "text/x-python",
   "name": "python",
   "nbconvert_exporter": "python",
   "pygments_lexer": "ipython3",
   "version": "3.10.8"
  }
 },
 "nbformat": 4,
 "nbformat_minor": 5
}
