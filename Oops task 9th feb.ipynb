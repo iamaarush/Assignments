{
 "cells": [
  {
   "cell_type": "code",
   "execution_count": 26,
   "id": "cc3e2637-92ad-4b9b-af89-1d20e4b4ab80",
   "metadata": {},
   "outputs": [],
   "source": [
    "# Question 1\n",
    "\n",
    "class vehicle:\n",
    "    \n",
    "    def __init__(self , name_of_vehicle , max_speed , average_of_vehicle):\n",
    "        self.name_of_vehicle = name_of_vehicle\n",
    "        self.max_speed = max_speed\n",
    "        self.average_of_vehicle = average_of_vehicle\n",
    "        \n",
    "    def return_vehicle_data(self):\n",
    "        return self.name_of_vehicle , self.max_speed , self.average_of_vehicle\n",
    "    \n",
    "    "
   ]
  },
  {
   "cell_type": "code",
   "execution_count": 27,
   "id": "8a7469cc-4bc5-49d3-baa8-0fa7ec900667",
   "metadata": {},
   "outputs": [],
   "source": [
    "obj_vehicle= vehicle(\"car\", 120,5)"
   ]
  },
  {
   "cell_type": "code",
   "execution_count": 28,
   "id": "84854e7a-4aa4-42fa-bbb0-1bb1272f8fca",
   "metadata": {},
   "outputs": [
    {
     "data": {
      "text/plain": [
       "('car', 120, 5)"
      ]
     },
     "execution_count": 28,
     "metadata": {},
     "output_type": "execute_result"
    }
   ],
   "source": [
    "obj_vehicle.return_vehicle_data()"
   ]
  },
  {
   "cell_type": "code",
   "execution_count": 54,
   "id": "89444fb5-6b8b-4247-a346-ba9c5c1e3cc6",
   "metadata": {},
   "outputs": [],
   "source": [
    "# Question 2\n",
    "\n",
    "class car(vehicle):\n",
    "    \n",
    "    def  self_capacity(self ,capacity ):\n",
    "        self.capacity = capacity\n",
    "        \n",
    " \n",
    "    def return_name_capacity(self):\n",
    "        return self.name_of_vehicle , self.capacity\n",
    "        \n",
    "    "
   ]
  },
  {
   "cell_type": "code",
   "execution_count": 56,
   "id": "56a225cb-390d-43db-a5ba-0b63d6c59f06",
   "metadata": {},
   "outputs": [],
   "source": [
    "obj= car(\"i20\" , 140 , 17  )"
   ]
  },
  {
   "cell_type": "code",
   "execution_count": 58,
   "id": "fd0a0c20-4d0c-4826-bc5f-2e705067411b",
   "metadata": {},
   "outputs": [],
   "source": [
    "obj.self_capacity(5)"
   ]
  },
  {
   "cell_type": "code",
   "execution_count": 59,
   "id": "8b5dae36-43a5-421b-a0ac-4dca03894b28",
   "metadata": {},
   "outputs": [
    {
     "data": {
      "text/plain": [
       "('i20', 5)"
      ]
     },
     "execution_count": 59,
     "metadata": {},
     "output_type": "execute_result"
    }
   ],
   "source": [
    "obj.return_name_capacity()"
   ]
  },
  {
   "cell_type": "code",
   "execution_count": 8,
   "id": "4e98e2a7-ffba-4170-92d8-fcc9a71a703c",
   "metadata": {},
   "outputs": [
    {
     "name": "stdout",
     "output_type": "stream",
     "text": [
      "This is base class 1\n",
      "This is base class 2\n"
     ]
    }
   ],
   "source": [
    "# Question 3\n",
    "\n",
    "\"\"\"when a class is derived from more than one base class is called multiple inheritance. the derived class inherits all \n",
    "the featues of the base class.\"\"\"\n",
    "# Demonstration -\n",
    "\n",
    "class base_class1:\n",
    "    \n",
    "    def base_method1(self):\n",
    "        return \"This is base class 1\"\n",
    "\n",
    "class base_class2:\n",
    "    \n",
    "    def base_method2(self):\n",
    "        return \"This is base class 2\"\n",
    "    \n",
    "class derived_class(base_class1 , base_class2):  # we are inheriting both base classes in derived class.\n",
    "    pass\n",
    "\n",
    "\n",
    "\n",
    "obj_derived_class = derived_class()\n",
    "\n",
    "print(obj_derived_class.base_method1())   # we can call both methods from the base classes like this.\n",
    "\n",
    "print(obj_derived_class.base_method2())"
   ]
  },
  {
   "cell_type": "code",
   "execution_count": 20,
   "id": "17883d9e-c504-4c36-b5b4-1551b8489a5d",
   "metadata": {},
   "outputs": [],
   "source": [
    "# Question 4\n",
    "\n",
    "\"\"\"Getter is a method that allows us to access an attribute in a given class. and setter is a method which allows us to \n",
    "set or mutate the value of an attribute in a given class.\n",
    "we use getter and setter to add validation logic around getting and setting a value.\n",
    "to avoid direct access of a class field i.e private variables can not accessed directly or modified by external user.\"\"\"\n",
    "\n",
    "\n",
    "class bio_data:\n",
    "    \n",
    "    def __init__(self , name , age , contact_number):\n",
    "        self.name= name\n",
    "        self.__age = age  # we just made age as a private variable by using encapsulation. that no one can give external input without get and set method. \n",
    "        self.contact_number = contact_number \n",
    "    \n",
    "    def set_age(self , age):\n",
    "        self.__age = 0 if age<0 else age\n",
    "        \n",
    "    def get_age(self):\n",
    "        return self.__age\n",
    "        \n",
    "        \n",
    "        "
   ]
  },
  {
   "cell_type": "code",
   "execution_count": 12,
   "id": "646ae120-4a72-46f1-91c7-77761e9e7552",
   "metadata": {},
   "outputs": [],
   "source": [
    "obj_bio_data = bio_data(\"Aarush\" , 23 , 8867987967)"
   ]
  },
  {
   "cell_type": "code",
   "execution_count": 18,
   "id": "4a00e548-536b-4485-bfd9-d1cbdbcf025a",
   "metadata": {},
   "outputs": [],
   "source": [
    "obj_bio_data.set_age(20)"
   ]
  },
  {
   "cell_type": "code",
   "execution_count": 19,
   "id": "6f194628-b158-48f3-8647-a7604c35d140",
   "metadata": {},
   "outputs": [
    {
     "data": {
      "text/plain": [
       "20"
      ]
     },
     "execution_count": 19,
     "metadata": {},
     "output_type": "execute_result"
    }
   ],
   "source": [
    "obj_bio_data.get_age()"
   ]
  },
  {
   "cell_type": "code",
   "execution_count": 25,
   "id": "8cb288be-98e8-4e2d-9f22-2b96e61074fb",
   "metadata": {},
   "outputs": [
    {
     "name": "stdout",
     "output_type": "stream",
     "text": [
      "This is a base class\n",
      "This is sub class\n"
     ]
    }
   ],
   "source": [
    "# Question 5\n",
    "\n",
    "\"\"\"method overriding is an ability of object oriented programming language that allows a sub class to provide a specific \n",
    "implementation of a method that is already provided by one of its super classes. when a method in the sub class has the \n",
    "same name , same parameter and same return type as a method in its super class, then the method in the sub class is said \n",
    "to override the method in the super class.\"\"\"\n",
    "\n",
    "\n",
    "# Demonstration -\n",
    "\n",
    "class base_class:\n",
    "    \n",
    "    def __init__(self ):\n",
    "        self.value= \"This is a base class\"\n",
    "\n",
    "    def show(self):\n",
    "        return self.value\n",
    "    \n",
    "class sub_class(base_class):\n",
    "    \n",
    "    def __init__(self ):\n",
    "        self.value = \"This is sub class\"\n",
    "        \n",
    "    def show(self):\n",
    "        return self.value\n",
    "    \n",
    "    \n",
    "    \n",
    "obj1 = base_class()\n",
    "obj2 = sub_class()\n",
    "\n",
    "print(obj1.show())\n",
    "print(obj2.show())"
   ]
  },
  {
   "cell_type": "code",
   "execution_count": null,
   "id": "7141169e-7437-4079-87b2-00e284b213e5",
   "metadata": {},
   "outputs": [],
   "source": []
  }
 ],
 "metadata": {
  "kernelspec": {
   "display_name": "Python 3 (ipykernel)",
   "language": "python",
   "name": "python3"
  },
  "language_info": {
   "codemirror_mode": {
    "name": "ipython",
    "version": 3
   },
   "file_extension": ".py",
   "mimetype": "text/x-python",
   "name": "python",
   "nbconvert_exporter": "python",
   "pygments_lexer": "ipython3",
   "version": "3.10.8"
  }
 },
 "nbformat": 4,
 "nbformat_minor": 5
}
