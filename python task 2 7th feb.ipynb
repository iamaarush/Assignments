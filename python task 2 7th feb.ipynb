{
 "cells": [
  {
   "cell_type": "code",
   "execution_count": 13,
   "id": "542d3b12-dca5-4aa4-8ad7-fe2d640315bc",
   "metadata": {},
   "outputs": [],
   "source": [
    "# Question 1     password check as per the given criteria.\n",
    "\n",
    "def pas_check(password):\n",
    "    password = input(\"Enter your password\")\n",
    "    l,u,p,d = 0,0,0,0\n",
    "    if len(password)>=10:\n",
    "        for i in password:\n",
    "            if (i.islower()):\n",
    "                l+=1\n",
    "            elif (i.isupper()):\n",
    "                u+=1\n",
    "            elif (i.isdigit()):\n",
    "                d+=1\n",
    "            elif (i==\"@\" , i==\"$\" , i==\"_\") :\n",
    "                 p+=1\n",
    "    if (l>=2 and u>=2 and p>=3 and d>=1 and l+u+p+d == len(password)):\n",
    "        print (\"valid password\")\n",
    "    else:\n",
    "        print(\"invalid password\")"
   ]
  },
  {
   "cell_type": "code",
   "execution_count": 16,
   "id": "210e6d24-cc52-4790-9399-b225f63ca7ac",
   "metadata": {},
   "outputs": [
    {
     "name": "stdin",
     "output_type": "stream",
     "text": [
      "Enter your password PytH@n_786@\n"
     ]
    },
    {
     "name": "stdout",
     "output_type": "stream",
     "text": [
      "valid password\n"
     ]
    }
   ],
   "source": [
    "pas_check(password)"
   ]
  },
  {
   "cell_type": "code",
   "execution_count": 29,
   "id": "8c79fa3e-c71a-411d-8b26-ee7bb6515eeb",
   "metadata": {},
   "outputs": [
    {
     "name": "stdin",
     "output_type": "stream",
     "text": [
      "Give any string pwskills\n"
     ]
    },
    {
     "name": "stdout",
     "output_type": "stream",
     "text": [
      "The string starts with a letter\n"
     ]
    },
    {
     "name": "stdin",
     "output_type": "stream",
     "text": [
      "Give any string 90pwskills\n"
     ]
    },
    {
     "name": "stdout",
     "output_type": "stream",
     "text": [
      "The string starts with a number\n"
     ]
    }
   ],
   "source": [
    "# Question 2\n",
    "\n",
    "# Check if the string starts with a particular letter\n",
    "give_string = input(\"Give any string\")\n",
    "lam=lambda g_string :\"The string starts with a letter\" if give_string[0].isalpha() else \"The string does not starts with a letter\"\n",
    "print(lam(give_string))\n",
    "\n",
    "\n",
    "# Check if the string is numeric\n",
    "\n",
    "g_string = input(\"Give any string\")\n",
    "lam=lambda g_string :\"The string starts with a number\" if g_string[0].isnumeric() else \"The string does not starts with a number\"\n",
    "print(lam(g_string))\n",
    "\n"
   ]
  },
  {
   "cell_type": "code",
   "execution_count": 23,
   "id": "fd964435-54da-44df-a0de-6eb55a30920f",
   "metadata": {},
   "outputs": [
    {
     "name": "stdout",
     "output_type": "stream",
     "text": [
      "[('orange', 80), ('mango', 99), ('grapes', 1000)]\n"
     ]
    }
   ],
   "source": [
    "# Question 2\n",
    "# Sort a list of tuples having fruit names and their quantity.\n",
    "\n",
    "given_list = [(\"mango\",99),(\"orange\",80), (\"grapes\", 1000)]\n",
    "given_list.sort(key=lambda i:i[1])\n",
    "print(given_list)"
   ]
  },
  {
   "cell_type": "code",
   "execution_count": 24,
   "id": "b233c6fc-26a9-457c-8889-edaafb259f1b",
   "metadata": {},
   "outputs": [
    {
     "data": {
      "text/plain": [
       "[1, 4, 9, 16, 25, 36, 49, 64, 81, 100]"
      ]
     },
     "execution_count": 24,
     "metadata": {},
     "output_type": "execute_result"
    }
   ],
   "source": [
    "# Question 2\n",
    "# Find the squares of numbers from 1 to 10\n",
    "\n",
    "a=range(1,11)\n",
    "l=[]\n",
    "for i in a:\n",
    "    l.append(i)\n",
    "list(map((lambda x:x**2) , l))"
   ]
  },
  {
   "cell_type": "code",
   "execution_count": 25,
   "id": "43d2f228-5131-4f94-af81-10ded1a2ff1e",
   "metadata": {},
   "outputs": [
    {
     "data": {
      "text/plain": [
       "[1.0,\n",
       " 1.2599210498948732,\n",
       " 1.4422495703074083,\n",
       " 1.5874010519681994,\n",
       " 1.7099759466766968,\n",
       " 1.8171205928321397,\n",
       " 1.912931182772389,\n",
       " 2.0,\n",
       " 2.080083823051904,\n",
       " 2.154434690031884]"
      ]
     },
     "execution_count": 25,
     "metadata": {},
     "output_type": "execute_result"
    }
   ],
   "source": [
    "# Question 2\n",
    "# Find the cube root of numbers from 1 to 10\n",
    "\n",
    "b=range(1,11)\n",
    "l1=[]\n",
    "for i in b:\n",
    "    l1.append(i)\n",
    "list(map(lambda y : y**(1/3) , l1))  "
   ]
  },
  {
   "cell_type": "code",
   "execution_count": 26,
   "id": "11ca5d78-f209-432c-a20b-43b52cb98e18",
   "metadata": {},
   "outputs": [
    {
     "name": "stdin",
     "output_type": "stream",
     "text": [
      "Enter the number 67\n"
     ]
    },
    {
     "name": "stdout",
     "output_type": "stream",
     "text": [
      "The given number is odd\n"
     ]
    }
   ],
   "source": [
    "# Question 2\n",
    "# Check if a given number is even.\n",
    "\n",
    "n=int(input(\"Enter the number\"))\n",
    "funct=lambda n:\"The given number is even\" if n%2==0 else \"The given number is odd\"\n",
    "print(funct(n))"
   ]
  },
  {
   "cell_type": "code",
   "execution_count": 27,
   "id": "240248ac-0161-4624-97f1-36e422c9fed0",
   "metadata": {},
   "outputs": [
    {
     "data": {
      "text/plain": [
       "[1, 3, 5, 7, 9]"
      ]
     },
     "execution_count": 27,
     "metadata": {},
     "output_type": "execute_result"
    }
   ],
   "source": [
    "# Question 2\n",
    "# Filter odd numbers from the given list.\n",
    "\n",
    "given_list=[1,2,3,4,5,6,7,8,9,10]\n",
    "list(filter(lambda x :x%2!=0 , given_list))"
   ]
  },
  {
   "cell_type": "code",
   "execution_count": 28,
   "id": "a21fdfef-daae-4b6f-a681-601aa56249da",
   "metadata": {},
   "outputs": [
    {
     "name": "stdout",
     "output_type": "stream",
     "text": [
      "Positive integers list [1, 2, 3, 4, 5, 6]\n",
      "Negative integers list [-1, -2, -3, -4, -5]\n"
     ]
    }
   ],
   "source": [
    "# Question 2\n",
    "# Sort a list of integers into positive and negative integers lists.\n",
    "\n",
    "list23=[1,2,3,4,5,6,-1,-2,-3,-4,-5,0]\n",
    "\n",
    "positive_list=[x for x in list23 if x>0] # list comprehension\n",
    "print(\"Positive integers list\" , positive_list)\n",
    "\n",
    "negative_list=[x for x in list23 if x<0]\n",
    "print(\"Negative integers list\" , negative_list)"
   ]
  },
  {
   "cell_type": "code",
   "execution_count": null,
   "id": "a8d34521-61fc-4ef7-a935-bcd6a005fe99",
   "metadata": {},
   "outputs": [],
   "source": []
  }
 ],
 "metadata": {
  "kernelspec": {
   "display_name": "Python 3 (ipykernel)",
   "language": "python",
   "name": "python3"
  },
  "language_info": {
   "codemirror_mode": {
    "name": "ipython",
    "version": 3
   },
   "file_extension": ".py",
   "mimetype": "text/x-python",
   "name": "python",
   "nbconvert_exporter": "python",
   "pygments_lexer": "ipython3",
   "version": "3.10.8"
  }
 },
 "nbformat": 4,
 "nbformat_minor": 5
}
